{
 "cells": [
  {
   "cell_type": "code",
   "execution_count": null,
   "id": "dfc0f7fa",
   "metadata": {},
   "outputs": [],
   "source": [
    "def cal_addition(a,b):\n",
    "    return a+b\n",
    "\n",
    "def cal_multiply(a,b):\n",
    "    return a*b"
   ]
  }
 ],
 "metadata": {
  "kernelspec": {
   "display_name": "Python 3 (ipykernel)",
   "language": "python",
   "name": "python3"
  },
  "language_info": {
   "codemirror_mode": {
    "name": "ipython",
    "version": 3
   },
   "file_extension": ".py",
   "mimetype": "text/x-python",
   "name": "python",
   "nbconvert_exporter": "python",
   "pygments_lexer": "ipython3",
   "version": "3.9.12"
  }
 },
 "nbformat": 4,
 "nbformat_minor": 5
}
