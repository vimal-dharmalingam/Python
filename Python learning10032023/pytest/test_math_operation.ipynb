{
 "cells": [
  {
   "cell_type": "code",
   "execution_count": null,
   "id": "9275bf5b",
   "metadata": {},
   "outputs": [],
   "source": [
    "import math_operation\n",
    "\n",
    "\n",
    "def test_cal_addition():\n",
    "    \n",
    "    total = math_operation.cal_addition(4,5)\n",
    "    assert total == 9\n",
    "    \n",
    "def test_cal_multiply():\n",
    "    \n",
    "    total = math_operation.cal_multiply(4,5)\n",
    "    assert total == 20"
   ]
  }
 ],
 "metadata": {
  "kernelspec": {
   "display_name": "Python 3 (ipykernel)",
   "language": "python",
   "name": "python3"
  },
  "language_info": {
   "codemirror_mode": {
    "name": "ipython",
    "version": 3
   },
   "file_extension": ".py",
   "mimetype": "text/x-python",
   "name": "python",
   "nbconvert_exporter": "python",
   "pygments_lexer": "ipython3",
   "version": "3.9.12"
  }
 },
 "nbformat": 4,
 "nbformat_minor": 5
}
