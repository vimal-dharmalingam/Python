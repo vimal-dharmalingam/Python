{
 "cells": [
  {
   "cell_type": "markdown",
   "id": "e1981201",
   "metadata": {},
   "source": [
    "#adding"
   ]
  },
  {
   "cell_type": "code",
   "execution_count": 1,
   "id": "013a454c",
   "metadata": {},
   "outputs": [
    {
     "name": "stdout",
     "output_type": "stream",
     "text": [
      "Sum of 15 and 12 is 27\n",
      "sum of 15 and 12 is 27\n"
     ]
    }
   ],
   "source": [
    "# Python3 program to add two numbers\n",
    "  \n",
    "num1 = 15\n",
    "num2 = 12\n",
    "  \n",
    "# Adding two nos\n",
    "sum = num1 + num2\n",
    "  \n",
    "# printing values\n",
    "print(\"Sum of {0} and {1} is {2}\" .format(num1, num2, sum))\n",
    "print(\"sum of {0} and {1} is {2}\".format(num1,num2,sum))"
   ]
  },
  {
   "cell_type": "code",
   "execution_count": null,
   "id": "a55ef318",
   "metadata": {},
   "outputs": [],
   "source": [
    "\n",
    "# Python3 program to add two numbers\n",
    "  \n",
    "number1 = input(\"First number: \")\n",
    "number2 = input(\"\\nSecond number: \")\n",
    "  \n",
    "# Adding two numbers\n",
    "# User might also enter float numbers\n",
    "sum = float(number1) + float(number2)\n",
    "  \n",
    "# Display the sum\n",
    "# will print value in float\n",
    "print(\"The sum of {0} and {1} is {2}\" .format(number1, number2, sum))"
   ]
  },
  {
   "cell_type": "code",
   "execution_count": 2,
   "id": "66ccaf56",
   "metadata": {},
   "outputs": [
    {
     "name": "stdout",
     "output_type": "stream",
     "text": [
      "Sum of 15 and 12 is 27;\n"
     ]
    }
   ],
   "source": [
    "\n",
    "# Python3 program to add two numbers\n",
    "  \n",
    "# Driver Code\n",
    "if __name__ == \"__main__\" :\n",
    "    \n",
    "  num1 = 15\n",
    "  num2 = 12\n",
    "    \n",
    "  # Adding two numbers\n",
    "  sum_twoNum = lambda num1, num2 : num1 + num2\n",
    "    \n",
    "  # printing values\n",
    "  print(\"Sum of {0} and {1} is {2};\" .format(num1, num2, sum_twoNum(num1, num2)))"
   ]
  },
  {
   "cell_type": "code",
   "execution_count": 3,
   "id": "75dd3a3b",
   "metadata": {},
   "outputs": [
    {
     "name": "stdout",
     "output_type": "stream",
     "text": [
      "Sum of 15 and 12 is 27\n"
     ]
    }
   ],
   "source": [
    "\n",
    "# Python3 program to add two numbers\n",
    "  \n",
    "num1 = 15\n",
    "num2 = 12\n",
    "  \n",
    "# Adding two nos\n",
    "import operator\n",
    "su = operator.add(num1,num2)\n",
    "  \n",
    "# printing values\n",
    "print(\"Sum of {0} and {1} is {2}\" .format(num1, num2, su))"
   ]
  },
  {
   "cell_type": "code",
   "execution_count": 9,
   "id": "e0fbacbf",
   "metadata": {
    "collapsed": true
   },
   "outputs": [
    {
     "data": {
      "text/plain": [
       "['__abs__',\n",
       " '__add__',\n",
       " '__all__',\n",
       " '__and__',\n",
       " '__builtins__',\n",
       " '__cached__',\n",
       " '__concat__',\n",
       " '__contains__',\n",
       " '__delitem__',\n",
       " '__doc__',\n",
       " '__eq__',\n",
       " '__file__',\n",
       " '__floordiv__',\n",
       " '__ge__',\n",
       " '__getitem__',\n",
       " '__gt__',\n",
       " '__iadd__',\n",
       " '__iand__',\n",
       " '__iconcat__',\n",
       " '__ifloordiv__',\n",
       " '__ilshift__',\n",
       " '__imatmul__',\n",
       " '__imod__',\n",
       " '__imul__',\n",
       " '__index__',\n",
       " '__inv__',\n",
       " '__invert__',\n",
       " '__ior__',\n",
       " '__ipow__',\n",
       " '__irshift__',\n",
       " '__isub__',\n",
       " '__itruediv__',\n",
       " '__ixor__',\n",
       " '__le__',\n",
       " '__loader__',\n",
       " '__lshift__',\n",
       " '__lt__',\n",
       " '__matmul__',\n",
       " '__mod__',\n",
       " '__mul__',\n",
       " '__name__',\n",
       " '__ne__',\n",
       " '__neg__',\n",
       " '__not__',\n",
       " '__or__',\n",
       " '__package__',\n",
       " '__pos__',\n",
       " '__pow__',\n",
       " '__rshift__',\n",
       " '__setitem__',\n",
       " '__spec__',\n",
       " '__sub__',\n",
       " '__truediv__',\n",
       " '__xor__',\n",
       " '_abs',\n",
       " 'abs',\n",
       " 'add',\n",
       " 'and_',\n",
       " 'attrgetter',\n",
       " 'concat',\n",
       " 'contains',\n",
       " 'countOf',\n",
       " 'delitem',\n",
       " 'eq',\n",
       " 'floordiv',\n",
       " 'ge',\n",
       " 'getitem',\n",
       " 'gt',\n",
       " 'iadd',\n",
       " 'iand',\n",
       " 'iconcat',\n",
       " 'ifloordiv',\n",
       " 'ilshift',\n",
       " 'imatmul',\n",
       " 'imod',\n",
       " 'imul',\n",
       " 'index',\n",
       " 'indexOf',\n",
       " 'inv',\n",
       " 'invert',\n",
       " 'ior',\n",
       " 'ipow',\n",
       " 'irshift',\n",
       " 'is_',\n",
       " 'is_not',\n",
       " 'isub',\n",
       " 'itemgetter',\n",
       " 'itruediv',\n",
       " 'ixor',\n",
       " 'le',\n",
       " 'length_hint',\n",
       " 'lshift',\n",
       " 'lt',\n",
       " 'matmul',\n",
       " 'methodcaller',\n",
       " 'mod',\n",
       " 'mul',\n",
       " 'ne',\n",
       " 'neg',\n",
       " 'not_',\n",
       " 'or_',\n",
       " 'pos',\n",
       " 'pow',\n",
       " 'rshift',\n",
       " 'setitem',\n",
       " 'sub',\n",
       " 'truediv',\n",
       " 'truth',\n",
       " 'xor']"
      ]
     },
     "execution_count": 9,
     "metadata": {},
     "output_type": "execute_result"
    }
   ],
   "source": [
    "dir(operator)"
   ]
  },
  {
   "cell_type": "code",
   "execution_count": 10,
   "id": "0135c4af",
   "metadata": {},
   "outputs": [
    {
     "name": "stdout",
     "output_type": "stream",
     "text": [
      "Factorial of 5 is 120\n"
     ]
    }
   ],
   "source": [
    "\n",
    "# Python 3 program to find\n",
    "# factorial of given number\n",
    "def factorial(n):\n",
    "     \n",
    "    # single line to find factorial\n",
    "    return 1 if (n==1 or n==0) else n * factorial(n - 1);\n",
    " \n",
    "# Driver Code\n",
    "num = 5;\n",
    "print(\"Factorial of\",num,\"is\",\n",
    "factorial(num))"
   ]
  },
  {
   "cell_type": "code",
   "execution_count": null,
   "id": "af23ba22",
   "metadata": {},
   "outputs": [],
   "source": []
  },
  {
   "cell_type": "code",
   "execution_count": null,
   "id": "7a87d113",
   "metadata": {},
   "outputs": [],
   "source": []
  },
  {
   "cell_type": "code",
   "execution_count": null,
   "id": "d9211fee",
   "metadata": {},
   "outputs": [],
   "source": []
  },
  {
   "cell_type": "code",
   "execution_count": null,
   "id": "1cd5ae12",
   "metadata": {},
   "outputs": [],
   "source": []
  },
  {
   "cell_type": "code",
   "execution_count": null,
   "id": "a5c33a4a",
   "metadata": {},
   "outputs": [],
   "source": []
  },
  {
   "cell_type": "code",
   "execution_count": null,
   "id": "a7e7db1b",
   "metadata": {},
   "outputs": [],
   "source": []
  },
  {
   "cell_type": "code",
   "execution_count": null,
   "id": "c9c453a4",
   "metadata": {},
   "outputs": [],
   "source": []
  },
  {
   "cell_type": "code",
   "execution_count": null,
   "id": "91109d9d",
   "metadata": {},
   "outputs": [],
   "source": []
  },
  {
   "cell_type": "code",
   "execution_count": null,
   "id": "e6cbc0d4",
   "metadata": {},
   "outputs": [],
   "source": []
  },
  {
   "cell_type": "code",
   "execution_count": null,
   "id": "0cb7d605",
   "metadata": {},
   "outputs": [],
   "source": []
  },
  {
   "cell_type": "code",
   "execution_count": null,
   "id": "60e35fbc",
   "metadata": {},
   "outputs": [],
   "source": []
  },
  {
   "cell_type": "code",
   "execution_count": null,
   "id": "65a793fb",
   "metadata": {},
   "outputs": [],
   "source": []
  },
  {
   "cell_type": "code",
   "execution_count": null,
   "id": "492cde60",
   "metadata": {},
   "outputs": [],
   "source": []
  },
  {
   "cell_type": "code",
   "execution_count": null,
   "id": "f31b07b1",
   "metadata": {},
   "outputs": [],
   "source": []
  },
  {
   "cell_type": "code",
   "execution_count": null,
   "id": "178c6d46",
   "metadata": {},
   "outputs": [],
   "source": []
  },
  {
   "cell_type": "code",
   "execution_count": null,
   "id": "a07fcf77",
   "metadata": {},
   "outputs": [],
   "source": []
  },
  {
   "cell_type": "code",
   "execution_count": null,
   "id": "70206643",
   "metadata": {},
   "outputs": [],
   "source": []
  },
  {
   "cell_type": "code",
   "execution_count": null,
   "id": "acbe521e",
   "metadata": {},
   "outputs": [],
   "source": []
  },
  {
   "cell_type": "code",
   "execution_count": null,
   "id": "f17c731e",
   "metadata": {},
   "outputs": [],
   "source": []
  },
  {
   "cell_type": "code",
   "execution_count": null,
   "id": "02f32904",
   "metadata": {},
   "outputs": [],
   "source": []
  },
  {
   "cell_type": "code",
   "execution_count": null,
   "id": "d613c1d1",
   "metadata": {},
   "outputs": [],
   "source": []
  },
  {
   "cell_type": "code",
   "execution_count": null,
   "id": "0054c79f",
   "metadata": {},
   "outputs": [],
   "source": []
  },
  {
   "cell_type": "code",
   "execution_count": null,
   "id": "7febba43",
   "metadata": {},
   "outputs": [],
   "source": []
  },
  {
   "cell_type": "code",
   "execution_count": null,
   "id": "4b55dc23",
   "metadata": {},
   "outputs": [],
   "source": []
  },
  {
   "cell_type": "code",
   "execution_count": null,
   "id": "f8195fbf",
   "metadata": {},
   "outputs": [],
   "source": []
  },
  {
   "cell_type": "code",
   "execution_count": null,
   "id": "4a7720c6",
   "metadata": {},
   "outputs": [],
   "source": []
  },
  {
   "cell_type": "code",
   "execution_count": null,
   "id": "098278b5",
   "metadata": {},
   "outputs": [],
   "source": []
  },
  {
   "cell_type": "code",
   "execution_count": null,
   "id": "0096055b",
   "metadata": {},
   "outputs": [],
   "source": []
  },
  {
   "cell_type": "code",
   "execution_count": null,
   "id": "49cbefbe",
   "metadata": {},
   "outputs": [],
   "source": []
  },
  {
   "cell_type": "code",
   "execution_count": null,
   "id": "2379974b",
   "metadata": {},
   "outputs": [],
   "source": []
  }
 ],
 "metadata": {
  "kernelspec": {
   "display_name": "Python 3 (ipykernel)",
   "language": "python",
   "name": "python3"
  },
  "language_info": {
   "codemirror_mode": {
    "name": "ipython",
    "version": 3
   },
   "file_extension": ".py",
   "mimetype": "text/x-python",
   "name": "python",
   "nbconvert_exporter": "python",
   "pygments_lexer": "ipython3",
   "version": "3.9.12"
  }
 },
 "nbformat": 4,
 "nbformat_minor": 5
}
