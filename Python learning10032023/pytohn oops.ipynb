{
 "cells": [
  {
   "cell_type": "markdown",
   "id": "54dcb119",
   "metadata": {},
   "source": [
    "### https://www.youtube.com/watch?v=PiIH0tbUb_Y\n",
    "## fucntions\n",
    "    call by values\n",
    "    call by refernce\n",
    "## Classes, Objects,methods,Arguments\n",
    "    \n",
    "## Inheritance\n",
    "    single inheritanc\n",
    "    multiple inheritance\n",
    "### https://www.youtube.com/watch?v=rNppWIjDwQg\n",
    "### https://www.youtube.com/watch?v=BYS9n6p_vPI ---encapsulation\n",
    "### https://www.youtube.com/watch?v=EXHrI-54iY4\n",
    "\n",
    "## Encapsulation\n",
    "     (hiding the info as a single unit/capsule)-encrypted/protected\n",
    "     private variable\n",
    "     private method\n",
    "     \n",
    "\n",
    "## Abstraction\n",
    "#### https://www.youtube.com/watch?v=by3MvW4Br6s\n",
    "    (hiding the inner details)\n",
    "\n",
    "## Multi threading & multiprocessing, lock and pool\n",
    "##### https://www.youtube.com/watch?v=sp7EhjLkFY4&list=PLeo1K3hjS3uub3PRhdoCTY8BxMKSW7RjN&index=5\n",
    "##### https://www.youtube.com/watch?v=PJ4t2U15ACo&list=PLeo1K3hjS3uub3PRhdoCTY8BxMKSW7RjN\n",
    "\n",
    "## Polymorphism and method overriding -same\n",
    "#### https://www.youtube.com/watch?v=Jp-RjCPx_vA\n",
    "\n",
    "## calss method & ## static method & instance method\n",
    "#### https://www.youtube.com/watch?v=XBQayMyMlb0\n",
    "\n",
    "## operator overloading \n",
    "#### https://www.youtube.com/watch?v=3Wsm9MrdXx0\n",
    "## method overloading\n",
    " ####  https://www.youtube.com/watch?v=qBFwN5DglN8\n",
    "## constructor\n",
    "##### https://www.youtube.com/watch?v=2TOvLBq7tRc\n",
    "\n",
    "## Decorator\n",
    "#### https://www.youtube.com/watch?v=7qhYWCMpFwE\n",
    "## testing\n",
    "#### unittest\n",
    "##### https://www.youtube.com/watch?v=1Lfv5tUGsn8\n",
    "### pytest\n",
    "###### https://www.youtube.com/watch?v=l32bsaIDoWk\n",
    "### nosetest\n",
    "\n",
    "## python api call\n",
    "#### https://www.youtube.com/watch?v=14nBe8tmtv4\n"
   ]
  },
  {
   "cell_type": "code",
   "execution_count": 42,
   "id": "9dc3057c",
   "metadata": {},
   "outputs": [],
   "source": [
    "## diff between class and instance attribute\n",
    "## global variable and local variable\n",
    "## init method"
   ]
  },
  {
   "cell_type": "code",
   "execution_count": 50,
   "id": "aa7ae98a",
   "metadata": {},
   "outputs": [
    {
     "data": {
      "text/plain": [
       "[\"'[image.png]' is not recognized as an internal or external command,\",\n",
       " 'operable program or batch file.']"
      ]
     },
     "execution_count": 50,
     "metadata": {},
     "output_type": "execute_result"
    }
   ],
   "source": [
    "!!"
   ]
  },
  {
   "cell_type": "code",
   "execution_count": 49,
   "id": "b2f07c67",
   "metadata": {},
   "outputs": [
    {
     "data": {
      "text/plain": [
       "'21 is the age'"
      ]
     },
     "execution_count": 49,
     "metadata": {},
     "output_type": "execute_result"
    }
   ],
   "source": [
    "################################sample class ########################################################################\n",
    "class Dog:\n",
    "    \n",
    "    species='mammal'\n",
    "    \n",
    "    def __init__ (self, name, age):\n",
    "        \n",
    "        self.name = name\n",
    "        self.age  = age\n",
    "        \n",
    "    def description (self):\n",
    "        \n",
    "        return \"{} has {} rupees\".format (self.name,self.age)\n",
    "    \n",
    "    def speak(self,sound):\n",
    "        \n",
    "        return \"{} this is the sound {}\".format(self.name, sound)\n",
    "    \n",
    "    def birthday(self):\n",
    "        \n",
    "        self.age += 1\n",
    "        \n",
    "        return \"{} is the age\".format(self.age)\n",
    "        \n",
    "        \n",
    "mike=Dog('vimal',20)    \n",
    "mike.description()\n",
    "mike.speak('oooinnnn')\n",
    "mike.birthday()"
   ]
  },
  {
   "cell_type": "markdown",
   "id": "1ed892a4",
   "metadata": {},
   "source": [
    "## call by value"
   ]
  },
  {
   "cell_type": "code",
   "execution_count": null,
   "id": "b5301132",
   "metadata": {},
   "outputs": [],
   "source": [
    "def additiion(a,b):\n",
    "    print(a+b)\n",
    "additiion(10,20)"
   ]
  },
  {
   "cell_type": "markdown",
   "id": "108f3a40",
   "metadata": {},
   "source": [
    "## call by reference"
   ]
  },
  {
   "cell_type": "code",
   "execution_count": null,
   "id": "dcc6f476",
   "metadata": {},
   "outputs": [],
   "source": [
    "def additiion(a,b):\n",
    "    print(a+b)\n",
    "\n",
    "a=10\n",
    "b=20\n",
    "additiion(a,b)"
   ]
  },
  {
   "cell_type": "markdown",
   "id": "9fbd236b",
   "metadata": {},
   "source": [
    "## class, method, object, arg"
   ]
  },
  {
   "cell_type": "code",
   "execution_count": null,
   "id": "f4b51954",
   "metadata": {},
   "outputs": [],
   "source": [
    "class verison1:\n",
    "    \n",
    "    def build1(self,a,b):\n",
    "        print(a+b)\n",
    "        \n",
    "    def build2(self,a,b):\n",
    "        print(a-b)\n",
    "objectt  = verison1()\n",
    "objectt.build1(10,20)"
   ]
  },
  {
   "cell_type": "code",
   "execution_count": null,
   "id": "a23369d1",
   "metadata": {},
   "outputs": [],
   "source": [
    "objectt.build2(10,20)"
   ]
  },
  {
   "cell_type": "markdown",
   "id": "b456b450",
   "metadata": {},
   "source": [
    "## Inheritance"
   ]
  },
  {
   "cell_type": "markdown",
   "id": "92d09d82",
   "metadata": {},
   "source": [
    "#### get methods from another class, just need to pass the class name into another class"
   ]
  },
  {
   "cell_type": "markdown",
   "id": "a34d4f22",
   "metadata": {},
   "source": [
    "## single inheritance"
   ]
  },
  {
   "cell_type": "code",
   "execution_count": null,
   "id": "fabdee1c",
   "metadata": {},
   "outputs": [],
   "source": [
    "class version1:\n",
    "    \n",
    "    def build1(self,a,b):\n",
    "        print(a+b)\n",
    "        \n",
    "    def build2(self,a,b):\n",
    "        print(a-b)\n",
    "\n",
    "class verison2(version1):\n",
    "    \n",
    "    def build3(self,a,b):\n",
    "        print(a*b)\n",
    "        \n",
    "    def build4(self,a,b):\n",
    "        print(a/b)\n",
    "\n",
    "# use this to run as a pytohn file\n",
    "# if \"__name__\" ==\"__main__\":\n",
    "#     objectt = verison2()\n",
    "#     objectt.build1(10,20)\n",
    "    \n",
    "    "
   ]
  },
  {
   "cell_type": "code",
   "execution_count": null,
   "id": "eeb88c71",
   "metadata": {},
   "outputs": [],
   "source": [
    "objectt = verison2()\n",
    "objectt.build1(10,20)"
   ]
  },
  {
   "cell_type": "markdown",
   "id": "d6539fe7",
   "metadata": {},
   "source": [
    "## Multiple inheritance"
   ]
  },
  {
   "cell_type": "code",
   "execution_count": null,
   "id": "d112f7ba",
   "metadata": {},
   "outputs": [],
   "source": [
    "class Version1:\n",
    "    \n",
    "    def build1(self,a,b):\n",
    "        print(a+b)\n",
    "        \n",
    "    def build2(self,a,b):\n",
    "        print(a-b)\n",
    "\n",
    "class Version2():\n",
    "    \n",
    "    def build3(self,a,b):\n",
    "        print(a*b)\n",
    "        \n",
    "    def build4(self,a,b):\n",
    "        print(a/b)\n",
    "## calling multiple classes into thi class called multiple inheritance\n",
    "class Version3(version1,version2):\n",
    "    \n",
    "    def build5(self,a,b):\n",
    "        print(a+a+a+b+b+b)\n"
   ]
  },
  {
   "cell_type": "code",
   "execution_count": null,
   "id": "285df3dd",
   "metadata": {},
   "outputs": [],
   "source": [
    "objectt = Version3()\n",
    "objectt.build5(10,20)\n",
    "objectt.build2(30,40)"
   ]
  },
  {
   "cell_type": "markdown",
   "id": "786b4eec",
   "metadata": {},
   "source": [
    "##  Encapsulation \n",
    "### to protect some data/variable/methods - cant change that values by someone"
   ]
  },
  {
   "cell_type": "markdown",
   "id": "2e6c652d",
   "metadata": {},
   "source": [
    "### private variable"
   ]
  },
  {
   "cell_type": "code",
   "execution_count": null,
   "id": "1036c53e",
   "metadata": {},
   "outputs": [],
   "source": [
    "## here a is a public variable"
   ]
  },
  {
   "cell_type": "code",
   "execution_count": null,
   "id": "e8f0fd2a",
   "metadata": {},
   "outputs": [],
   "source": [
    "class Student:\n",
    "    def __init__(self):\n",
    "        self.age =10\n",
    "        \n",
    "    def student_details(self):\n",
    "        print(\"it takes the value from init :\", self.age)\n",
    "        \n",
    "std = Student()\n",
    "std.student_details()"
   ]
  },
  {
   "cell_type": "code",
   "execution_count": null,
   "id": "1650c995",
   "metadata": {},
   "outputs": [],
   "source": [
    "## here a is a private variable , can access only within the class"
   ]
  },
  {
   "cell_type": "code",
   "execution_count": null,
   "id": "1ad556b5",
   "metadata": {},
   "outputs": [],
   "source": [
    "class Student:\n",
    "    def __init__(self):\n",
    "        self.__age =200\n",
    "        \n",
    "    def student_details(self):\n",
    "        print(\"it takes the value from init inside this class :\", self.__age)\n",
    "        \n",
    "std = Student()\n",
    "std.student_details()"
   ]
  },
  {
   "cell_type": "code",
   "execution_count": null,
   "id": "8903dbea",
   "metadata": {},
   "outputs": [],
   "source": [
    "## can access the variable outside the class or another call, because a is public variable(without dund)"
   ]
  },
  {
   "cell_type": "code",
   "execution_count": null,
   "id": "d16ae9fe",
   "metadata": {},
   "outputs": [],
   "source": [
    "class Student1:\n",
    "    def __init__(self):\n",
    "        self.age =200\n",
    "        \n",
    "    def student_details1(self):\n",
    "        print(\"it takes the value from init inside this class :\", self.age)\n",
    "class Student2(Student1):\n",
    "        \n",
    "    def student_details2(self):\n",
    "        print(\"it takes the value from init inside this class :\", self.age)     \n",
    "std = Student2()\n",
    "\n",
    "std.student_details2()\n",
    "std.age"
   ]
  },
  {
   "cell_type": "code",
   "execution_count": null,
   "id": "87338081",
   "metadata": {},
   "outputs": [],
   "source": [
    "## cannot access the variable outside the class or another call, because a is private variable(with dund)"
   ]
  },
  {
   "cell_type": "code",
   "execution_count": 44,
   "id": "b86b6b85",
   "metadata": {},
   "outputs": [
    {
     "name": "stdout",
     "output_type": "stream",
     "text": [
      "it takes the value from init inside this class : 200\n"
     ]
    },
    {
     "ename": "AttributeError",
     "evalue": "'Student2' object has no attribute '_Student2__age'",
     "output_type": "error",
     "traceback": [
      "\u001b[1;31m---------------------------------------------------------------------------\u001b[0m",
      "\u001b[1;31mAttributeError\u001b[0m                            Traceback (most recent call last)",
      "Input \u001b[1;32mIn [44]\u001b[0m, in \u001b[0;36m<cell line: 15>\u001b[1;34m()\u001b[0m\n\u001b[0;32m     13\u001b[0m std\u001b[38;5;241m.\u001b[39mstudent_details1()\n\u001b[0;32m     14\u001b[0m \u001b[38;5;66;03m# outside (in another class cannot access)\u001b[39;00m\n\u001b[1;32m---> 15\u001b[0m \u001b[43mstd\u001b[49m\u001b[38;5;241;43m.\u001b[39;49m\u001b[43mstudent_details2\u001b[49m\u001b[43m(\u001b[49m\u001b[43m)\u001b[49m\n",
      "Input \u001b[1;32mIn [44]\u001b[0m, in \u001b[0;36mStudent2.student_details2\u001b[1;34m(self)\u001b[0m\n\u001b[0;32m      9\u001b[0m \u001b[38;5;28;01mdef\u001b[39;00m \u001b[38;5;21mstudent_details2\u001b[39m(\u001b[38;5;28mself\u001b[39m):\n\u001b[1;32m---> 10\u001b[0m     \u001b[38;5;28mprint\u001b[39m(\u001b[38;5;124m\"\u001b[39m\u001b[38;5;124mit takes the value from init inside this class :\u001b[39m\u001b[38;5;124m\"\u001b[39m, \u001b[38;5;28;43mself\u001b[39;49m\u001b[38;5;241;43m.\u001b[39;49m\u001b[43m__age\u001b[49m)\n",
      "\u001b[1;31mAttributeError\u001b[0m: 'Student2' object has no attribute '_Student2__age'"
     ]
    }
   ],
   "source": [
    "class Student1:\n",
    "    def __init__(self):\n",
    "        self.__age =200\n",
    "        \n",
    "    def student_details1(self):\n",
    "        print(\"it takes the value from init inside this class :\", self.__age)\n",
    "class Student2(Student1):\n",
    "        \n",
    "    def student_details2(self):\n",
    "        print(\"it takes the value from init inside this class :\", self.__age)       \n",
    "std = Student2()\n",
    "# inside class -gives output\n",
    "std.student_details1()\n",
    "# outside (in another class cannot access)\n",
    "std.student_details2()\n"
   ]
  },
  {
   "cell_type": "markdown",
   "id": "dec71bbc",
   "metadata": {},
   "source": [
    "### private method"
   ]
  },
  {
   "cell_type": "code",
   "execution_count": 45,
   "id": "005704a6",
   "metadata": {},
   "outputs": [
    {
     "name": "stdout",
     "output_type": "stream",
     "text": [
      "it takes the value from init : 10\n"
     ]
    }
   ],
   "source": [
    "class Student:\n",
    "    def __init__(self):\n",
    "        self.age =10\n",
    "        \n",
    "    def student_details(self):\n",
    "        print(\"it takes the value from init :\", self.age)\n",
    "        \n",
    "std = Student()\n",
    "std.student_details()"
   ]
  },
  {
   "cell_type": "code",
   "execution_count": 48,
   "id": "08bdff0f",
   "metadata": {},
   "outputs": [],
   "source": [
    "## we cant call this method, because its a private method"
   ]
  },
  {
   "cell_type": "code",
   "execution_count": 47,
   "id": "a80db9e1",
   "metadata": {
    "collapsed": true
   },
   "outputs": [
    {
     "ename": "AttributeError",
     "evalue": "'Student' object has no attribute '__student_details'",
     "output_type": "error",
     "traceback": [
      "\u001b[1;31m---------------------------------------------------------------------------\u001b[0m",
      "\u001b[1;31mAttributeError\u001b[0m                            Traceback (most recent call last)",
      "Input \u001b[1;32mIn [47]\u001b[0m, in \u001b[0;36m<cell line: 9>\u001b[1;34m()\u001b[0m\n\u001b[0;32m      6\u001b[0m         \u001b[38;5;28mprint\u001b[39m(\u001b[38;5;124m\"\u001b[39m\u001b[38;5;124mit takes the value from init :\u001b[39m\u001b[38;5;124m\"\u001b[39m, \u001b[38;5;28mself\u001b[39m\u001b[38;5;241m.\u001b[39mage)\n\u001b[0;32m      8\u001b[0m std \u001b[38;5;241m=\u001b[39m Student()\n\u001b[1;32m----> 9\u001b[0m \u001b[43mstd\u001b[49m\u001b[38;5;241;43m.\u001b[39;49m\u001b[43m__student_details\u001b[49m()\n",
      "\u001b[1;31mAttributeError\u001b[0m: 'Student' object has no attribute '__student_details'"
     ]
    }
   ],
   "source": [
    "class Student:\n",
    "    def __init__(self):\n",
    "        self.age =10\n",
    "        \n",
    "    def __student_details(self):\n",
    "        print(\"it takes the value from init :\", self.age)\n",
    "        \n",
    "std = Student()\n",
    "std.__student_details()"
   ]
  },
  {
   "cell_type": "markdown",
   "id": "fee234e6",
   "metadata": {},
   "source": [
    "### Abstraction"
   ]
  },
  {
   "cell_type": "code",
   "execution_count": 2,
   "id": "d7133cb9",
   "metadata": {},
   "outputs": [],
   "source": [
    "from abc import ABC, abstractclassmethod"
   ]
  },
  {
   "cell_type": "code",
   "execution_count": 8,
   "id": "6d6397b1",
   "metadata": {},
   "outputs": [
    {
     "name": "stdout",
     "output_type": "stream",
     "text": [
      "shape is  100\n"
     ]
    }
   ],
   "source": [
    "class shape :\n",
    "    \n",
    "    @abstractclassmethod\n",
    "    def printdetails(self):\n",
    "        return 0\n",
    "    \n",
    "class square:\n",
    "    \n",
    "    def __init__(self):\n",
    "        self.a = 10\n",
    "# under above decorator , that function should be in all the reminaing classes, without printdetials func this code wont run \n",
    "    def printdetails(self):\n",
    "        return print(f'shape is  {self.a*self.a}')\n",
    "obj =square()\n",
    "obj.printdetails()"
   ]
  },
  {
   "cell_type": "markdown",
   "id": "b4997d78",
   "metadata": {},
   "source": [
    "##  Abstraction"
   ]
  },
  {
   "cell_type": "code",
   "execution_count": 1,
   "id": "17ee9aa6",
   "metadata": {},
   "outputs": [],
   "source": [
    "from abc import ABC, abstractclassmethod"
   ]
  },
  {
   "cell_type": "code",
   "execution_count": 2,
   "id": "f612dac9",
   "metadata": {},
   "outputs": [
    {
     "name": "stdout",
     "output_type": "stream",
     "text": [
      "shape is  100\n"
     ]
    }
   ],
   "source": [
    "class shape :\n",
    "    \n",
    "    @abstractclassmethod\n",
    "    def printdetails(self):\n",
    "        return 0\n",
    "    \n",
    "class square:\n",
    "    \n",
    "    def __init__(self):\n",
    "        self.a = 10\n",
    "# under above decorator , that function should be in all the reminaing classes, without printdetials func this code wont run \n",
    "    def printdetails(self):\n",
    "        return print(f'shape is  {self.a*self.a}')\n",
    "obj =square()\n",
    "obj.printdetails()"
   ]
  },
  {
   "cell_type": "markdown",
   "id": "4012e9d3",
   "metadata": {},
   "source": [
    "## Multi threading"
   ]
  },
  {
   "cell_type": "code",
   "execution_count": 3,
   "id": "046c5319",
   "metadata": {},
   "outputs": [],
   "source": [
    "## run one processer when another processer is free"
   ]
  },
  {
   "cell_type": "code",
   "execution_count": 37,
   "id": "86dff6ef",
   "metadata": {
    "collapsed": true
   },
   "outputs": [
    {
     "name": "stdout",
     "output_type": "stream",
     "text": [
      "square value 1\n",
      "square value 4\n",
      "square value 9\n",
      "square value 16\n",
      "cube value 1\n",
      "cube value 8\n",
      "cube value 27\n",
      "cube value 64\n",
      "normal time taken:  1.6631934642791748\n",
      "square value 1\n",
      "square value 4\n",
      "square value 9\n",
      "square value 16\n",
      "cube value 1\n",
      "cube value 8\n",
      "cube value 27\n",
      "cube value 64\n",
      " thread time taken:  1.638648509979248\n"
     ]
    }
   ],
   "source": [
    "import time\n",
    "import threading\n",
    "def calc_square(num):\n",
    "    for size in num:\n",
    "        time.sleep(0.2)\n",
    "        print(f'square value {size*size}')\n",
    "\n",
    "def calc_cube(num):\n",
    "    for size in num :\n",
    "        time.sleep(0.2)\n",
    "        print(f'cube value {size*size*size}')  \n",
    "\n",
    "t =time.time()\n",
    "arr = [1,2,3,4]\n",
    "## instead of running these functions seperately , we can run in thread\n",
    "sq =calc_square(arr)\n",
    "cb=calc_cube(arr)\n",
    "print('normal time taken: ', time.time() -t)\n",
    "t =time.time()\n",
    "t1 =threading.Thread(target = calc_square(arr))#, args =(arr)\n",
    "t2 = threading.Thread(target = calc_cube(arr))#, args =(arr)\n",
    "\n",
    "t1.start()\n",
    "t2.start()\n",
    "\n",
    "t1.join()\n",
    "t2.join()\n",
    "print(' thread time taken: ', time.time() -t)"
   ]
  },
  {
   "cell_type": "markdown",
   "id": "b2e79075",
   "metadata": {},
   "source": [
    "## ## Multi processor"
   ]
  },
  {
   "cell_type": "code",
   "execution_count": null,
   "id": "3024318a",
   "metadata": {},
   "outputs": [],
   "source": [
    "## need to check once again"
   ]
  },
  {
   "cell_type": "code",
   "execution_count": 46,
   "id": "fb9e58b9",
   "metadata": {},
   "outputs": [],
   "source": [
    "## it should run the both process same time"
   ]
  },
  {
   "cell_type": "code",
   "execution_count": 47,
   "id": "58ae2393",
   "metadata": {
    "collapsed": true
   },
   "outputs": [
    {
     "name": "stdout",
     "output_type": "stream",
     "text": [
      "square value 1\n",
      "square value 4\n",
      "square value 9\n",
      "square value 16\n",
      "cube value 1\n",
      "cube value 8\n",
      "cube value 27\n",
      "cube value 64\n",
      " thread time taken:  8.259326219558716\n"
     ]
    }
   ],
   "source": [
    "import time\n",
    "import multiprocessing\n",
    "def calc_square(num):\n",
    "    for size in num:\n",
    "        time.sleep(1)\n",
    "        print(f'square value {size*size}')\n",
    "\n",
    "def calc_cube(num):\n",
    "    for size in num :\n",
    "        time.sleep(1)\n",
    "        print(f'cube value {size*size*size}')  \n",
    "        \n",
    "if __name__ == '__main__':\n",
    "    #t =time.time()\n",
    "    arr = [1,2,3,4]\n",
    "    ## instead of running these functions seperately , we can run in thread\n",
    "#     sq =calc_square(arr)\n",
    "#     cb=calc_cube(arr)\n",
    "#     print('normal time taken: ', time.time() -t)\n",
    "    t =time.time()\n",
    "    t1 =multiprocessing.Process(target = calc_square(arr))#, args =(arr)\n",
    "    t2 = multiprocessing.Process(target = calc_cube(arr))#, args =(arr)\n",
    "\n",
    "    t1.start()\n",
    "    t2.start()\n",
    "\n",
    "    t1.join()\n",
    "    t2.join()\n",
    "    print(' thread time taken: ', time.time() -t)"
   ]
  },
  {
   "cell_type": "markdown",
   "id": "82775818",
   "metadata": {},
   "source": [
    "## polymorphism"
   ]
  },
  {
   "cell_type": "code",
   "execution_count": 51,
   "id": "cf13ebfa",
   "metadata": {},
   "outputs": [],
   "source": [
    "## same method in one class need to be over ride the content thru another class  then use polymorphism"
   ]
  },
  {
   "cell_type": "code",
   "execution_count": 52,
   "id": "d18960f7",
   "metadata": {},
   "outputs": [
    {
     "name": "stdout",
     "output_type": "stream",
     "text": [
      "press green\n"
     ]
    }
   ],
   "source": [
    "class version1 :\n",
    "    \n",
    "    def button(self):\n",
    "        print('press red')\n",
    "\n",
    "class version2(version1) :\n",
    "    def button(self):\n",
    "        print('press green')\n",
    "        \n",
    "obj =version2()\n",
    "obj.button()"
   ]
  },
  {
   "cell_type": "markdown",
   "id": "6539abc6",
   "metadata": {},
   "source": [
    "###  instance class static method"
   ]
  },
  {
   "cell_type": "code",
   "execution_count": 1,
   "id": "10dca312",
   "metadata": {},
   "outputs": [
    {
     "name": "stdout",
     "output_type": "stream",
     "text": [
      "total: 60\n"
     ]
    }
   ],
   "source": [
    "class marks:\n",
    "    \n",
    "    def __init__(self, tamil,english,maths):\n",
    "        \n",
    "        self.tamil = tamil\n",
    "        self.english = english\n",
    "        self.maths =maths\n",
    "    ### if we use self is the method its called instance method\n",
    "    def total(self):\n",
    "        return print('total:', self.tamil + self.maths + self.english)\n",
    "\n",
    "obj = marks(10,20,30)\n",
    "obj.total()"
   ]
  },
  {
   "cell_type": "code",
   "execution_count": null,
   "id": "b635ec67",
   "metadata": {},
   "outputs": [],
   "source": []
  },
  {
   "cell_type": "code",
   "execution_count": 20,
   "id": "16237467",
   "metadata": {},
   "outputs": [],
   "source": [
    "class marks:\n",
    "    ## assign variables inside the class called class method\n",
    "    internal =20\n",
    "    external =100\n",
    "    \n",
    "    def __init__(self, tamil,english,maths):\n",
    "        \n",
    "        self.tamil = tamil\n",
    "        self.english = english\n",
    "        self.maths =maths\n",
    "    ### if we use self is the method its called instance method\n",
    "    def total(self):\n",
    "        return print('total:', self.tamil + self.maths + self.english)\n",
    "    @classmethod\n",
    "    def totals(cls):\n",
    "        return print('total:',cls.external+ cls.internal)"
   ]
  },
  {
   "cell_type": "code",
   "execution_count": 21,
   "id": "4da659d3",
   "metadata": {},
   "outputs": [
    {
     "name": "stdout",
     "output_type": "stream",
     "text": [
      "total: 120\n"
     ]
    }
   ],
   "source": [
    "obj = marks(10,20,30)\n",
    "obj.totals()"
   ]
  },
  {
   "cell_type": "code",
   "execution_count": 22,
   "id": "35c755e3",
   "metadata": {},
   "outputs": [
    {
     "name": "stdout",
     "output_type": "stream",
     "text": [
      "total: 60\n"
     ]
    }
   ],
   "source": [
    "obj = marks(10,20,30)\n",
    "obj.total()"
   ]
  },
  {
   "cell_type": "code",
   "execution_count": 25,
   "id": "7c1fb2ee",
   "metadata": {},
   "outputs": [],
   "source": [
    "class marks:\n",
    "\n",
    "    \n",
    "    def __init__(self, tamil,english,maths):\n",
    "        \n",
    "        self.tamil = tamil\n",
    "        self.english = english\n",
    "        self.maths =maths\n",
    "    ### if we use self is the method its called instance method\n",
    "    def total(self):\n",
    "        return print('total:', self.tamil + self.maths + self.english)\n",
    "    @staticmethod\n",
    "    def totals():\n",
    "        internal =20\n",
    "        external =100\n",
    "        return print('total:',external+ internal)"
   ]
  },
  {
   "cell_type": "code",
   "execution_count": 26,
   "id": "99cec2ee",
   "metadata": {},
   "outputs": [
    {
     "name": "stdout",
     "output_type": "stream",
     "text": [
      "total: 120\n"
     ]
    }
   ],
   "source": [
    "obj = marks(10,20,30)\n",
    "obj.totals()"
   ]
  },
  {
   "cell_type": "markdown",
   "id": "2710a7f8",
   "metadata": {},
   "source": [
    "## operator overloading"
   ]
  },
  {
   "cell_type": "code",
   "execution_count": 32,
   "id": "ef681a2f",
   "metadata": {},
   "outputs": [],
   "source": [
    "## by using dund inbuild methods u can add the multiple object results into single result without calling the objects, just simple addition of obj will give result\n",
    "class marks:\n",
    "    def __init__(self,a):\n",
    "        self.a =a\n",
    "        \n",
    "    def __add__(self,other):\n",
    "        \n",
    "        return self.a+other.a\n",
    "    \n",
    "obj1 =marks(20)\n",
    "obj2 =marks(30)\n",
    "        "
   ]
  },
  {
   "cell_type": "code",
   "execution_count": 33,
   "id": "7743a547",
   "metadata": {},
   "outputs": [
    {
     "data": {
      "text/plain": [
       "50"
      ]
     },
     "execution_count": 33,
     "metadata": {},
     "output_type": "execute_result"
    }
   ],
   "source": [
    "obj1+obj2"
   ]
  },
  {
   "cell_type": "markdown",
   "id": "3888ea1b",
   "metadata": {},
   "source": [
    "## Constructor"
   ]
  },
  {
   "cell_type": "code",
   "execution_count": 34,
   "id": "ee4edf47",
   "metadata": {},
   "outputs": [
    {
     "data": {
      "text/plain": [
       "30"
      ]
     },
     "execution_count": 34,
     "metadata": {},
     "output_type": "execute_result"
    }
   ],
   "source": [
    "class demo:\n",
    "    \n",
    "    def __init__(self,a,b):\n",
    "        self.a =a\n",
    "        self.b =b\n",
    "    def process(self):\n",
    "        return self.a+self.b\n",
    "    \n",
    "    \n",
    "obj = demo(10,20)\n",
    "obj.process()\n",
    "    "
   ]
  },
  {
   "cell_type": "markdown",
   "id": "2e2c3076",
   "metadata": {},
   "source": [
    "## decorator"
   ]
  },
  {
   "cell_type": "code",
   "execution_count": null,
   "id": "cae3701e",
   "metadata": {},
   "outputs": [],
   "source": [
    "## function decorator"
   ]
  },
  {
   "cell_type": "code",
   "execution_count": 40,
   "id": "fb426a7e",
   "metadata": {},
   "outputs": [
    {
     "data": {
      "text/plain": [
       "'WELCOME VIMAL TO HOME HOME'"
      ]
     },
     "execution_count": 40,
     "metadata": {},
     "output_type": "execute_result"
    }
   ],
   "source": [
    "def outerfunction(ref):\n",
    "    def innerfunc(*args):\n",
    "        return ref(*args).upper()\n",
    "    return innerfunc\n",
    "@outerfunction\n",
    "def basefunction(str1,str2):\n",
    "    return f'welcome {str1} to home {str2}'\n",
    "\n",
    "\n",
    "basefunction('vimal','home')"
   ]
  },
  {
   "cell_type": "code",
   "execution_count": 41,
   "id": "e1b547f0",
   "metadata": {},
   "outputs": [],
   "source": [
    "## class decoraor"
   ]
  },
  {
   "cell_type": "code",
   "execution_count": 45,
   "id": "0353d869",
   "metadata": {},
   "outputs": [
    {
     "data": {
      "text/plain": [
       "'HI VIMAL , HOW ARE YOU VIMAL'"
      ]
     },
     "execution_count": 45,
     "metadata": {},
     "output_type": "execute_result"
    }
   ],
   "source": [
    "class demo:\n",
    "    def __init__(self,ref):\n",
    "        self.ref =ref\n",
    "        \n",
    "    def __call__(self,*args):\n",
    "        \n",
    "        return self.ref(*args).upper()\n",
    "    \n",
    "@demo\n",
    "def myfunc(str1,str2):\n",
    "    val =f'hi {str1} , how are you {str2}'\n",
    "    return val\n",
    "myfunc('vimal','vimal')"
   ]
  },
  {
   "cell_type": "code",
   "execution_count": null,
   "id": "3d043b77",
   "metadata": {},
   "outputs": [],
   "source": []
  },
  {
   "cell_type": "code",
   "execution_count": null,
   "id": "d1ec9c6b",
   "metadata": {},
   "outputs": [],
   "source": []
  },
  {
   "cell_type": "code",
   "execution_count": null,
   "id": "c069a7d1",
   "metadata": {},
   "outputs": [],
   "source": []
  }
 ],
 "metadata": {
  "kernelspec": {
   "display_name": "Python 3 (ipykernel)",
   "language": "python",
   "name": "python3"
  },
  "language_info": {
   "codemirror_mode": {
    "name": "ipython",
    "version": 3
   },
   "file_extension": ".py",
   "mimetype": "text/x-python",
   "name": "python",
   "nbconvert_exporter": "python",
   "pygments_lexer": "ipython3",
   "version": "3.9.12"
  }
 },
 "nbformat": 4,
 "nbformat_minor": 5
}
