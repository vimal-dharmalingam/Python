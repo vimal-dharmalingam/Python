{
 "cells": [
  {
   "cell_type": "code",
   "execution_count": null,
   "id": "83e1c9b9",
   "metadata": {},
   "outputs": [],
   "source": [
    "<!DOCTYPE html>\n",
    "<html>\n",
    "<body>\n",
    "    <h1>Welcome to Co-Win application portal</h1> \n",
    "        <p><input type=\"text\" name=\"userName\"></p>\n",
    "        <p><input type=\"text\" name=\"userPassword\"></p>\n",
    "        <p><input type=\"text\" name=\"useremail\"></p>\n",
    "        <p><input type=\"text\" name=\"usermobile\"></p>\n",
    "        <p><input type=\"submit\" value=\"Enter\" /></p>\n",
    "</body>\n",
    "</html>"
   ]
  }
 ],
 "metadata": {
  "kernelspec": {
   "display_name": "Python 3 (ipykernel)",
   "language": "python",
   "name": "python3"
  },
  "language_info": {
   "codemirror_mode": {
    "name": "ipython",
    "version": 3
   },
   "file_extension": ".py",
   "mimetype": "text/x-python",
   "name": "python",
   "nbconvert_exporter": "python",
   "pygments_lexer": "ipython3",
   "version": "3.9.12"
  }
 },
 "nbformat": 4,
 "nbformat_minor": 5
}
