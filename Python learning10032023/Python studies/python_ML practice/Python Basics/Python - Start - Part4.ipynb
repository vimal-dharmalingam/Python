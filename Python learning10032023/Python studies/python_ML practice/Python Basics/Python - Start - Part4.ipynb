{
 "cells": [
  {
   "cell_type": "markdown",
   "metadata": {},
   "source": [
    "Python Tuple"
   ]
  },
  {
   "cell_type": "markdown",
   "metadata": {},
   "source": [
    "A Python tuple is a collection type data structure which is immutable by design and holds a sequence of heterogeneous elements. It functions almost like a Python list but with the following distinctions.\n",
    "    1)Tuples store a fixed set of elements and don’t allow changes whereas the list has the provision to update its content.\n",
    "    2)The list uses square brackets for opening and closing whereas, and a tuple has got parentheses for the enclosure."
   ]
  },
  {
   "cell_type": "code",
   "execution_count": null,
   "metadata": {},
   "outputs": [],
   "source": [
    "#You can create a tuple by placing a sequence of desired elements separated using commas inside a pair of round brackets ()\n",
    "#you can create a tuple even without using the parentheses. Also, the elements of a tuple can be of any valid Python data types ranging from numbers, strings, lists, etc."
   ]
  },
  {
   "cell_type": "code",
   "execution_count": 2,
   "metadata": {},
   "outputs": [
    {
     "name": "stdout",
     "output_type": "stream",
     "text": [
      "(12, 3.2, 5, 'KNN')\n",
      "<type 'tuple'>\n"
     ]
    }
   ],
   "source": [
    "tuple1 = (12,3.2,5,'KNN') \n",
    "print(tuple1)\n",
    "print(type(tuple1))"
   ]
  },
  {
   "cell_type": "code",
   "execution_count": 3,
   "metadata": {},
   "outputs": [
    {
     "name": "stdout",
     "output_type": "stream",
     "text": [
      "(12, 3.2, 5, 'KNN', 6)\n",
      "<type 'tuple'>\n"
     ]
    }
   ],
   "source": [
    "tuple2 = 12,3.2,5,'KNN',6 # Can create tuple without parantheses\n",
    "print(tuple2)\n",
    "print(type(tuple2))"
   ]
  },
  {
   "cell_type": "code",
   "execution_count": 4,
   "metadata": {},
   "outputs": [
    {
     "data": {
      "text/plain": [
       "((0, 1, 3), (2, 4, 6), (-1, -3, -5))"
      ]
     },
     "execution_count": 4,
     "metadata": {},
     "output_type": "execute_result"
    }
   ],
   "source": [
    "#Nested tuple\n",
    "tuple3 = ((0,1,3),(2,4,6),(-1,-3,-5))\n",
    "tuple3"
   ]
  },
  {
   "cell_type": "code",
   "execution_count": 5,
   "metadata": {},
   "outputs": [
    {
     "data": {
      "text/plain": [
       "(33, 55, 77)"
      ]
     },
     "execution_count": 5,
     "metadata": {},
     "output_type": "execute_result"
    }
   ],
   "source": [
    "# creating a tuple from a list\n",
    "tuple4 = tuple([33, 55 , 77])\n",
    "tuple4"
   ]
  },
  {
   "cell_type": "code",
   "execution_count": 6,
   "metadata": {},
   "outputs": [
    {
     "data": {
      "text/plain": [
       "(33, 77, 55)"
      ]
     },
     "execution_count": 6,
     "metadata": {},
     "output_type": "execute_result"
    }
   ],
   "source": [
    "# creating a tuple from a set\n",
    "tuple5 = tuple({33, 55 , 77})\n",
    "tuple5"
   ]
  },
  {
   "cell_type": "code",
   "execution_count": 7,
   "metadata": {},
   "outputs": [
    {
     "data": {
      "text/plain": [
       "('a', 'c', 'b')"
      ]
     },
     "execution_count": 7,
     "metadata": {},
     "output_type": "execute_result"
    }
   ],
   "source": [
    "# creating a tuple from a dictionary\n",
    "tuple6 = tuple({'a':33, 'b':55 , 'c':77})\n",
    "tuple6"
   ]
  },
  {
   "cell_type": "code",
   "execution_count": 8,
   "metadata": {},
   "outputs": [
    {
     "name": "stdout",
     "output_type": "stream",
     "text": [
      "<type 'str'>\n",
      "<type 'int'>\n"
     ]
    }
   ],
   "source": [
    "# A single element surrounded by parenthesis will create a string or integer instead of a tuple\n",
    "tuple7 = ('single')\n",
    "print(type(tuple7))\n",
    "tuple8 = (3)\n",
    "print(type(tuple8))"
   ]
  },
  {
   "cell_type": "code",
   "execution_count": 9,
   "metadata": {},
   "outputs": [
    {
     "name": "stdout",
     "output_type": "stream",
     "text": [
      "<type 'tuple'>\n",
      "<type 'tuple'>\n"
     ]
    }
   ],
   "source": [
    "#have to give comma after element, it will create tuple however list, set & dictionary will not need comma\n",
    "tuple9 = ('single',)\n",
    "print(type(tuple9))\n",
    "tuple10 = (3,)\n",
    "print(type(tuple10))"
   ]
  },
  {
   "cell_type": "markdown",
   "metadata": {},
   "source": [
    "#Accessing a Tuple - Via Indexing and Slicing"
   ]
  },
  {
   "cell_type": "code",
   "execution_count": 10,
   "metadata": {},
   "outputs": [
    {
     "data": {
      "text/plain": [
       "3"
      ]
     },
     "execution_count": 10,
     "metadata": {},
     "output_type": "execute_result"
    }
   ],
   "source": [
    "#Accessing a Tuple - Via Indexing\n",
    "    #1)IndexError - when given Index no. is out of range\n",
    "    #2)TypeError  - when given Index no. is in other than integer format (float etc)\n",
    "tuple3[0][2]"
   ]
  },
  {
   "cell_type": "code",
   "execution_count": 25,
   "metadata": {},
   "outputs": [
    {
     "name": "stdout",
     "output_type": "stream",
     "text": [
      "(0, 1, 3)\n",
      "(2, 4, 6)\n",
      "(-1, -3, -5)\n"
     ]
    }
   ],
   "source": [
    "#Accessing a Tuple - Via slicing operator\n",
    "print(tuple3[0][0:3]) #from first tuple - 0 to 2nd element\n",
    "print(tuple3[1][0:])\n",
    "print(tuple3[2][:3])"
   ]
  },
  {
   "cell_type": "markdown",
   "metadata": {},
   "source": [
    "Modify/Update\n",
    "    1)Since tuples are immutable, so it seems no way to modify them.\n",
    "    2)Once you assign a set of elements to a tuple, Python won’t allow it to change. But, there is a catch, what if the items         you set are modifiable.t are modifiable.\n",
    "    3)If there is such a case, then you can change the elements instead of directly modifying the tuple. see below example"
   ]
  },
  {
   "cell_type": "code",
   "execution_count": 30,
   "metadata": {},
   "outputs": [],
   "source": [
    "tuple11 = (22, 33, 55, 66, [88, 99])"
   ]
  },
  {
   "cell_type": "code",
   "execution_count": 28,
   "metadata": {},
   "outputs": [
    {
     "name": "stdout",
     "output_type": "stream",
     "text": [
      "'tuple' object does not support item assignment\n"
     ]
    }
   ],
   "source": [
    "#Let's try to modify py_tuple : It'll return a TypeError\n",
    "try:\n",
    "    tuple11[1] = 11\n",
    "except Exception as ex:\n",
    "    print(ex)"
   ]
  },
  {
   "cell_type": "code",
   "execution_count": 31,
   "metadata": {},
   "outputs": [
    {
     "data": {
      "text/plain": [
       "(22, 33, 55, 66, [77, 99])"
      ]
     },
     "execution_count": 31,
     "metadata": {},
     "output_type": "execute_result"
    }
   ],
   "source": [
    "#We can change the values of mutable : elements inside the py_tuple i.e. list\n",
    "tuple11[4][0] = 77\n",
    "tuple11"
   ]
  },
  {
   "cell_type": "code",
   "execution_count": 32,
   "metadata": {
    "collapsed": true
   },
   "outputs": [
    {
     "name": "stdout",
     "output_type": "stream",
     "text": [
      "Mon\n",
      "Tue\n",
      "Wed\n",
      "Thur\n",
      "Fri\n",
      "Sat\n",
      "Sun\n"
     ]
    }
   ],
   "source": [
    "# We can assign a tuple with new data\n",
    "tuple11 = ('Mon','Tue','Wed','Thur','Fri','Sat','Sun')\n",
    "for i in tuple11:\n",
    "    print(i)"
   ]
  },
  {
   "cell_type": "code",
   "execution_count": 33,
   "metadata": {},
   "outputs": [
    {
     "data": {
      "text/plain": [
       "('Mon', 'Tue', 'Wed', 'Thur', 'Fri', 'Sat', 'Sun')"
      ]
     },
     "execution_count": 33,
     "metadata": {},
     "output_type": "execute_result"
    }
   ],
   "source": [
    "tuple11"
   ]
  },
  {
   "cell_type": "code",
   "execution_count": 34,
   "metadata": {},
   "outputs": [
    {
     "data": {
      "text/plain": [
       "('p', 'y', 't', 'p', 'h', 'o', 'n')"
      ]
     },
     "execution_count": 34,
     "metadata": {},
     "output_type": "execute_result"
    }
   ],
   "source": [
    "first_tuple = ('p', 'y', 't')\n",
    "second_tuple = ('p','h', 'o', 'n')\n",
    "first_tuple+second_tuple"
   ]
  },
  {
   "cell_type": "code",
   "execution_count": 35,
   "metadata": {},
   "outputs": [
    {
     "data": {
      "text/plain": [
       "('p', 'y', 't', 'p', 'y', 't', 'p', 'y', 't')"
      ]
     },
     "execution_count": 35,
     "metadata": {},
     "output_type": "execute_result"
    }
   ],
   "source": [
    "first_tuple*3"
   ]
  },
  {
   "cell_type": "markdown",
   "metadata": {},
   "source": [
    "Remove/Delete\n",
    "Immutability of a tuple would again prevent you from deleting it in a Python program. While you can’t delete a tuple directly, but here is something which can help."
   ]
  },
  {
   "cell_type": "code",
   "execution_count": 36,
   "metadata": {},
   "outputs": [],
   "source": [
    "py_tuple = ('p', 'y', 't', 'h', 'o', 'n')"
   ]
  },
  {
   "cell_type": "code",
   "execution_count": 37,
   "metadata": {},
   "outputs": [
    {
     "name": "stdout",
     "output_type": "stream",
     "text": [
      "'tuple' object doesn't support item deletion\n"
     ]
    }
   ],
   "source": [
    "# you can't delete a particular item from a tuple\n",
    "try:\n",
    "    del py_tuple[0]\n",
    "except Exception as ex:\n",
    "    print(ex)"
   ]
  },
  {
   "cell_type": "code",
   "execution_count": 40,
   "metadata": {},
   "outputs": [
    {
     "name": "stdout",
     "output_type": "stream",
     "text": [
      "name 'py_tuple' is not defined\n"
     ]
    }
   ],
   "source": [
    "# but you can delete a whole tuple\n",
    "try:\n",
    "    print(py_tuple)\n",
    "except Exception as ex:\n",
    "    print(ex)"
   ]
  },
  {
   "cell_type": "markdown",
   "metadata": {},
   "source": [
    "Usage Of Python Tuples"
   ]
  },
  {
   "cell_type": "markdown",
   "metadata": {},
   "source": [
    "1)Used For Grouping Data : The tuple provides a quick way of grouping and arranging data. \n",
    "   It can help you combine any number of elements into a single unit.\n",
    "2)Tuple assignment: Python tuple supports a very intuitive feature know as “tuple assignment.” It lets us assign a tuple of variables on the left of a statement to initialize from the tuple on the right side. \n",
    "3)Using Tuples In Functions As Return Values : Usually, a Function only returns one value. However, we can introduce a tuple and set it as the Return Value for the Function.\n",
    "4)Mixed Data Structures In The Form Of Tuples: Tuples are a type of container which can embed another tuple as an element. We call such an object as a nested tuple."
   ]
  },
  {
   "cell_type": "code",
   "execution_count": 41,
   "metadata": {},
   "outputs": [],
   "source": [
    "emp_records = ('john', 'hr', 2010, 'robert', 'account', 2015, 'bill', 'mis', 2018)"
   ]
  },
  {
   "cell_type": "code",
   "execution_count": 42,
   "metadata": {},
   "outputs": [
    {
     "name": "stdout",
     "output_type": "stream",
     "text": [
      "john\n",
      "hr\n",
      "2010\n"
     ]
    }
   ],
   "source": [
    "emp_records = ('john', 'hr', 2010, 'robert', 'account', 2015, 'bill', 'mis', 2018)\n",
    "(emp_name, emp_dept, emp_join_date) = emp_records[0:3]\n",
    "print(emp_name)\n",
    "print(emp_dept)\n",
    "print(emp_join_date)"
   ]
  },
  {
   "cell_type": "code",
   "execution_count": 44,
   "metadata": {},
   "outputs": [
    {
     "name": "stdout",
     "output_type": "stream",
     "text": [
      "(4, 9)\n",
      "<type 'tuple'>\n"
     ]
    }
   ],
   "source": [
    "def square(n1, n2):\n",
    "    return (n1*n1, n2*n2)\n",
    "print(square(2,3))\n",
    "print(type(square(2, 3)))"
   ]
  },
  {
   "cell_type": "code",
   "execution_count": 46,
   "metadata": {},
   "outputs": [
    {
     "data": {
      "text/plain": [
       "[('HR', 2, [('david', 'manager', 100000), ('bruno', 'asst. manager', 50000)]),\n",
       " ('IT', 2, [('kirk', 'team lead', 150000), ('matt', 'engineer', 45000)]),\n",
       " ('Sales', 2, [('billy', 'sales lead', 250000), ('tom', 'executive', 95000)])]"
      ]
     },
     "execution_count": 46,
     "metadata": {},
     "output_type": "execute_result"
    }
   ],
   "source": [
    "employes = [(\"HR\", 2, [('david', 'manager', 100000), ('bruno', 'asst. manager', 50000)]), (\"IT\", 2, [('kirk', 'team lead', 150000), ('matt', 'engineer', 45000)]), (\"Sales\", 2, [('billy', 'sales lead', 250000), ('tom', 'executive', 95000)])]\n",
    "employes"
   ]
  }
 ],
 "metadata": {
  "kernelspec": {
   "display_name": "Python 3",
   "language": "python",
   "name": "python3"
  },
  "language_info": {
   "codemirror_mode": {
    "name": "ipython",
    "version": 3
   },
   "file_extension": ".py",
   "mimetype": "text/x-python",
   "name": "python",
   "nbconvert_exporter": "python",
   "pygments_lexer": "ipython3",
   "version": "3.7.3"
  }
 },
 "nbformat": 4,
 "nbformat_minor": 2
}
