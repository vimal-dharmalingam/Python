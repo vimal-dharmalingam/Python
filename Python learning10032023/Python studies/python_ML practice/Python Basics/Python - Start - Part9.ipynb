{
 "cells": [
  {
   "cell_type": "markdown",
   "metadata": {},
   "source": [
    "While LOOP\n",
    "Unlike the for loop which runs up to a certain no. of iterations, the while loop relies on a condition to complete the execution.\n",
    "A while loop is a control flow structure which repeatedly executes a block of code indefinite no. of times until the given condition becomes false. For example, say, you want to count the occurrence of odd numbers in a range. Some technical references call it a pre-test loop as it checks the condition before every iteration.\n",
    "Syntax:\n",
    "while some condition (or expression) :\n",
    "    a block of code\n",
    "\n",
    "Note:-If the check fails, then the control won’t enter into the loop instead will get transferred to the next statement. Whereas if the condition passes, then the statements inside the loop shall execute."
   ]
  },
  {
   "cell_type": "code",
   "execution_count": 7,
   "metadata": {
    "collapsed": true
   },
   "outputs": [
    {
     "name": "stdout",
     "output_type": "stream",
     "text": [
      "75\n",
      "76\n",
      "77\n",
      "78\n",
      "79\n",
      "80\n",
      "81\n",
      "82\n",
      "83\n",
      "84\n",
      "85\n",
      "86\n",
      "87\n",
      "88\n",
      "89\n",
      "90\n",
      "91\n",
      "92\n",
      "93\n",
      "94\n",
      "95\n",
      "96\n",
      "97\n",
      "98\n",
      "99\n"
     ]
    }
   ],
   "source": [
    "i = 75\n",
    "while i<100:\n",
    "    print(i)\n",
    "    i+=1"
   ]
  },
  {
   "cell_type": "code",
   "execution_count": 9,
   "metadata": {
    "collapsed": true
   },
   "outputs": [
    {
     "name": "stdout",
     "output_type": "stream",
     "text": [
      "0\n",
      "1\n",
      "2\n",
      "3\n",
      "4\n",
      "5\n",
      "6\n",
      "7\n",
      "8\n",
      "9\n",
      "Value is more than target\n"
     ]
    }
   ],
   "source": [
    "#While with else statement\n",
    "count = 0\n",
    "while count<10:\n",
    "    print(count)\n",
    "    count=count+1\n",
    "else:\n",
    "    print('Value is more than target')"
   ]
  },
  {
   "cell_type": "code",
   "execution_count": 10,
   "metadata": {
    "collapsed": true
   },
   "outputs": [
    {
     "name": "stdout",
     "output_type": "stream",
     "text": [
      "1\n",
      "2\n",
      "3\n",
      "4\n",
      "5\n",
      "6\n"
     ]
    }
   ],
   "source": [
    "#While with Break statement\n",
    "i = 1\n",
    "while i<10:\n",
    "    print(i)\n",
    "    if i ==6:\n",
    "        break\n",
    "    i=i+1"
   ]
  },
  {
   "cell_type": "code",
   "execution_count": 4,
   "metadata": {},
   "outputs": [
    {
     "name": "stdout",
     "output_type": "stream",
     "text": [
      "Enter the starting range value?1\n",
      "Enter the ending range value?50\n",
      "Odd count: 24\n"
     ]
    }
   ],
   "source": [
    "#custom debug print function\n",
    "def dbgprint(x):\n",
    "    if debug == True:\n",
    "        print(x)\n",
    "\n",
    "#ask user to enter the range values\n",
    "debug = False\n",
    "r1 = int(input(\"Enter the starting range value?\"))\n",
    "r2 = int(input(\"Enter the ending range value?\"))\n",
    "         \n",
    "dbgprint(\"Range: %d - %d\" % (r1, r2))\n",
    "\n",
    "num = r1 + 1\n",
    "count = 0\n",
    "\n",
    "while num < r2:\n",
    "    dbgprint(\"num: %d\" % (num))\n",
    "    res = num % 2\n",
    "    dbgprint(\"res: %d\" % (res))\n",
    "    if (num % 2) > 0:\n",
    "        count += 1\n",
    "    num += 1\n",
    "\n",
    "print(\"Odd count: %d\" % (count))"
   ]
  },
  {
   "cell_type": "markdown",
   "metadata": {},
   "source": [
    "#Else Clause With Python While Loop\n",
    "The code inside the else clause would always run but after the while loop finishes execution. The one situation when it won’t run is if the loop exits after a “break” statement.\n",
    "Using the else clause would make sense when you wish to execute a set of instructions after the while loop ends, i.e., without using a break statement."
   ]
  },
  {
   "cell_type": "code",
   "execution_count": 6,
   "metadata": {},
   "outputs": [
    {
     "name": "stdout",
     "output_type": "stream",
     "text": [
      "Enter number between 0-100?1\n",
      "Enter number between 0-100?2\n",
      "Enter number between 0-100?3\n",
      "Enter number between 0-100?4\n",
      "Enter number between 0-100?5\n",
      "While loop ended.\n"
     ]
    }
   ],
   "source": [
    "def while_else_demo():\n",
    "\n",
    "    count = 0\n",
    "    while count < 5 :\n",
    "        num = int(input(\"Enter number between 0-100?\"))\n",
    "        if (num < 0) or (num > 100):\n",
    "            print(\"Aborted while: You've entered an invalid number.\")\n",
    "            break\n",
    "        count += 1\n",
    "    else:\n",
    "        print(\"While loop ended.\")\n",
    "\n",
    "while_else_demo()"
   ]
  }
 ],
 "metadata": {
  "kernelspec": {
   "display_name": "Python 2",
   "language": "python",
   "name": "python2"
  },
  "language_info": {
   "codemirror_mode": {
    "name": "ipython",
    "version": 2
   },
   "file_extension": ".py",
   "mimetype": "text/x-python",
   "name": "python",
   "nbconvert_exporter": "python",
   "pygments_lexer": "ipython2",
   "version": "2.7.15"
  }
 },
 "nbformat": 4,
 "nbformat_minor": 2
}
