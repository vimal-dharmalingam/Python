{
 "cells": [
  {
   "cell_type": "markdown",
   "metadata": {},
   "source": [
    "Python Dictionary\n",
    "1)A dictionary in Python is a scrambled collection of objects. Unlike other data types such as a list or a set which has a single value field, the dictionary type stores a key along with its value.\n",
    "2)The keys pair with values using a colon (:) while the commas work as a separator for the elements. Also, the entire dictionary object uses curly braces to enclose itself.\n",
    "    #Please remember that only keys inside a dictionary can’t have duplicates, but their values can repeat themselves.\n",
    "    #The value in a dictionary can be of any valid Python data type. But the keys have a constraint to be of any immutable data      types such as a string, a number, or a tuple.\n",
    "    #The combination of a key and its value, i.e. “key: value” represents a single element of a dictionary in Python."
   ]
  },
  {
   "cell_type": "code",
   "execution_count": 1,
   "metadata": {},
   "outputs": [
    {
     "data": {
      "text/plain": [
       "{1: 'Jan', 2: 'Feb', 3: 'Mar', 4: 'Apr', 5: 'May', 6: 'Jun'}"
      ]
     },
     "execution_count": 1,
     "metadata": {},
     "output_type": "execute_result"
    }
   ],
   "source": [
    "#Create Dictionary in Python - combine all the “key1:value1, key2:value2,…” pairs and enclose with curly braces.\n",
    "dict1 = {1:'Jan', 2:'Feb',3:'Mar',4:'Apr',5:'May',6:'Jun'}\n",
    "dict1"
   ]
  },
  {
   "cell_type": "code",
   "execution_count": 2,
   "metadata": {},
   "outputs": [
    {
     "data": {
      "text/plain": [
       "{1: 1, 2: 2, 3: 3, 4: 4, 5: 5}"
      ]
     },
     "execution_count": 2,
     "metadata": {},
     "output_type": "execute_result"
    }
   ],
   "source": [
    "dict2 = {1:1,2:2,3:3,4:4,5:5}\n",
    "dict2"
   ]
  },
  {
   "cell_type": "code",
   "execution_count": 30,
   "metadata": {},
   "outputs": [
    {
     "data": {
      "text/plain": [
       "{1: 'Jan',\n",
       " 2: 'Feb',\n",
       " 3: 'Mar',\n",
       " 4: 'Apr',\n",
       " 5: 'May',\n",
       " 6: 'Jun',\n",
       " 'Jul-Dec': ['Jul', 'Aug', 'Sep', 'Oct', 'Nov', 'Dec'],\n",
       " 'days': ('Mon', 'Tue', 'Wed', 'Thur', 'Fri', 'Sat', 'Sun')}"
      ]
     },
     "execution_count": 30,
     "metadata": {},
     "output_type": "execute_result"
    }
   ],
   "source": [
    "tuple1 = ('Mon','Tue','Wed','Thur','Fri','Sat','Sun')\n",
    "dict3 = {1:'Jan', 2:'Feb',3:'Mar',4:'Apr',5:'May',6:'Jun','Jul-Dec':['Jul','Aug','Sep','Oct','Nov','Dec'],'days':tuple1}\n",
    "dict3"
   ]
  },
  {
   "cell_type": "code",
   "execution_count": 31,
   "metadata": {},
   "outputs": [
    {
     "data": {
      "text/plain": [
       "{1: 'jake', 2: 'john'}"
      ]
     },
     "execution_count": 31,
     "metadata": {},
     "output_type": "execute_result"
    }
   ],
   "source": [
    "# Create a dictionary from a sequence of tuples\n",
    "make_dict_from_seq = dict([(1,'jake'), (2,'john')])\n",
    "make_dict_from_seq"
   ]
  },
  {
   "cell_type": "markdown",
   "metadata": {},
   "source": [
    "Dictionary Operations"
   ]
  },
  {
   "cell_type": "code",
   "execution_count": 32,
   "metadata": {},
   "outputs": [],
   "source": [
    "#Access Elements\n",
    "#Python dictionary has the key as an additional parameter. We can access the elements of a dictionary with the help of keys by using them as Index to the array operator ([]) or passing as Argument to the get() method.\n",
    "#Both methods will work the same, but the former will return a KeyError while the latter returns None if the element is not available."
   ]
  },
  {
   "cell_type": "code",
   "execution_count": 33,
   "metadata": {},
   "outputs": [
    {
     "name": "stdout",
     "output_type": "stream",
     "text": [
      "['Jul', 'Aug', 'Sep', 'Oct', 'Nov', 'Dec']\n",
      "('Mon', 'Tue', 'Wed', 'Thur', 'Fri', 'Sat', 'Sun')\n"
     ]
    }
   ],
   "source": [
    "print(dict3['Jul-Dec'])\n",
    "print(dict3['days'])"
   ]
  },
  {
   "cell_type": "code",
   "execution_count": 34,
   "metadata": {},
   "outputs": [
    {
     "data": {
      "text/plain": [
       "['Jul', 'Aug', 'Sep', 'Oct', 'Nov', 'Dec']"
      ]
     },
     "execution_count": 34,
     "metadata": {},
     "output_type": "execute_result"
    }
   ],
   "source": [
    "dict3.get('Jul-Dec')"
   ]
  },
  {
   "cell_type": "code",
   "execution_count": 35,
   "metadata": {},
   "outputs": [
    {
     "name": "stdout",
     "output_type": "stream",
     "text": [
      "[1, 2, 3, 4, 5, 6, 'days', 'Jul-Dec']\n",
      "['Jan', 'Feb', 'Mar', 'Apr', 'May', 'Jun', ('Mon', 'Tue', 'Wed', 'Thur', 'Fri', 'Sat', 'Sun'), ['Jul', 'Aug', 'Sep', 'Oct', 'Nov', 'Dec']]\n"
     ]
    }
   ],
   "source": [
    "print(dict3.keys())\n",
    "print(dict3.values())"
   ]
  },
  {
   "cell_type": "code",
   "execution_count": 36,
   "metadata": {},
   "outputs": [],
   "source": [
    "#dict3[0:3] #gives error 'unhashable type'"
   ]
  },
  {
   "cell_type": "code",
   "execution_count": 37,
   "metadata": {},
   "outputs": [
    {
     "data": {
      "text/plain": [
       "{1: 'Jan',\n",
       " 2: 'Feb',\n",
       " 3: 'Mar',\n",
       " 4: 'Apr',\n",
       " 5: 'May',\n",
       " 6: 'Jun',\n",
       " 'Jul-Dec': ['Jul', 'Aug', 'Sep', 'Oct', 'Nov', 'Dec'],\n",
       " 'Q1': ['Jan', 'Feb', 'Mar'],\n",
       " 'days': ('Mon', 'Tue', 'Wed', 'Thur', 'Fri', 'Sat', 'Sun')}"
      ]
     },
     "execution_count": 37,
     "metadata": {},
     "output_type": "execute_result"
    }
   ],
   "source": [
    "#Append\n",
    "dict3['Q1'] = ['Jan','Feb','Mar']\n",
    "dict3"
   ]
  },
  {
   "cell_type": "code",
   "execution_count": 38,
   "metadata": {},
   "outputs": [
    {
     "data": {
      "text/plain": [
       "{1: 'Jan',\n",
       " 2: 'Feb',\n",
       " 3: 'Mar',\n",
       " 4: 'Apr',\n",
       " 5: 'May',\n",
       " 6: 'Jun',\n",
       " 'Jul-Dec': ['Jul', 'Aug', 'Sep', 'Oct', 'Nov', 'Dec'],\n",
       " 'Q1': ['Jan', 'Feb', 'Mar'],\n",
       " 'Q2': ['Apr', 'May', 'Jun'],\n",
       " 'days': ('Mon', 'Tue', 'Wed', 'Thur', 'Fri', 'Sat', 'Sun')}"
      ]
     },
     "execution_count": 38,
     "metadata": {},
     "output_type": "execute_result"
    }
   ],
   "source": [
    "#Update\n",
    "dict3.update({'Q2':['Apr','May','Jun']})\n",
    "dict3"
   ]
  },
  {
   "cell_type": "code",
   "execution_count": 39,
   "metadata": {},
   "outputs": [],
   "source": [
    "#Remove Elements : \n",
    "#pop() - It takes the key as the input and deletes the corresponding element from the Python dictionary\n",
    "#popitem() - It removes and returns a random element (key, value) from the dictionary"
   ]
  },
  {
   "cell_type": "code",
   "execution_count": 40,
   "metadata": {},
   "outputs": [
    {
     "name": "stdout",
     "output_type": "stream",
     "text": [
      "{'Q1': ['Jan', 'Feb', 'Mar'], 1: 'Jan', 2: 'Feb', 3: 'Mar', 4: 'Apr', 5: 'May', 6: 'Jun', 'Q2': ['Apr', 'May', 'Jun'], 'days': ('Mon', 'Tue', 'Wed', 'Thur', 'Fri', 'Sat', 'Sun'), 'Jul-Dec': ['Jul', 'Aug', 'Sep', 'Oct', 'Nov', 'Dec']}\n",
      "{1: 'Jan', 2: 'Feb', 3: 'Mar', 4: 'Apr', 5: 'May', 6: 'Jun', 'Q2': ['Apr', 'May', 'Jun'], 'days': ('Mon', 'Tue', 'Wed', 'Thur', 'Fri', 'Sat', 'Sun'), 'Jul-Dec': ['Jul', 'Aug', 'Sep', 'Oct', 'Nov', 'Dec']}\n"
     ]
    }
   ],
   "source": [
    "print(dict3)\n",
    "dict3.popitem() #Randomly Q1 element is removed\n",
    "print(dict3)"
   ]
  },
  {
   "cell_type": "code",
   "execution_count": 41,
   "metadata": {},
   "outputs": [
    {
     "name": "stdout",
     "output_type": "stream",
     "text": [
      "{1: 'Jan', 2: 'Feb', 3: 'Mar', 4: 'Apr', 5: 'May', 6: 'Jun', 'Q2': ['Apr', 'May', 'Jun'], 'days': ('Mon', 'Tue', 'Wed', 'Thur', 'Fri', 'Sat', 'Sun'), 'Jul-Dec': ['Jul', 'Aug', 'Sep', 'Oct', 'Nov', 'Dec']}\n",
      "{2: 'Feb', 3: 'Mar', 4: 'Apr', 5: 'May', 6: 'Jun', 'Q2': ['Apr', 'May', 'Jun'], 'days': ('Mon', 'Tue', 'Wed', 'Thur', 'Fri', 'Sat', 'Sun'), 'Jul-Dec': ['Jul', 'Aug', 'Sep', 'Oct', 'Nov', 'Dec']}\n"
     ]
    }
   ],
   "source": [
    "print(dict3)\n",
    "dict3.pop(1) #It removed first Key & valur from dict\n",
    "print(dict3)"
   ]
  },
  {
   "cell_type": "code",
   "execution_count": 42,
   "metadata": {},
   "outputs": [
    {
     "name": "stdout",
     "output_type": "stream",
     "text": [
      "{}\n"
     ]
    }
   ],
   "source": [
    "# delete the elements of dictionary - clear()\n",
    "dict3.clear()\n",
    "print(dict3)"
   ]
  },
  {
   "cell_type": "code",
   "execution_count": 43,
   "metadata": {},
   "outputs": [
    {
     "name": "stdout",
     "output_type": "stream",
     "text": [
      "name 'dict3' is not defined\n"
     ]
    }
   ],
   "source": [
    "#delete dictionary object\n",
    "del dict3\n",
    "try:\n",
    "    del dict3\n",
    "except Exception as ex:\n",
    "    print(ex)"
   ]
  },
  {
   "cell_type": "code",
   "execution_count": 46,
   "metadata": {},
   "outputs": [
    {
     "name": "stdout",
     "output_type": "stream",
     "text": [
      "(1, ':', 1)\n",
      "(2, ':', 2)\n",
      "(3, ':', 3)\n",
      "(4, ':', 4)\n",
      "(5, ':', 5)\n"
     ]
    }
   ],
   "source": [
    "#iterate dictionary\n",
    "for key, value in dict2.items():\n",
    "    print(key, \":\" ,value)"
   ]
  },
  {
   "cell_type": "markdown",
   "metadata": {},
   "source": [
    "#Dictionary Comprehension\n",
    "1)Just like a Python list, the dictionary also allows comprehension to create new objects from an iterable in a loop.\n",
    "2)You can specify a dictionary comprehension by using an expression including a “key: value” pair followed by for loop and enclosed with curly braces {}."
   ]
  },
  {
   "cell_type": "code",
   "execution_count": 47,
   "metadata": {},
   "outputs": [
    {
     "data": {
      "text/plain": [
       "{'11': 11, '22': 22, '33': 33, '44': 44, '55': 55}"
      ]
     },
     "execution_count": 47,
     "metadata": {},
     "output_type": "execute_result"
    }
   ],
   "source": [
    "{str(iter):iter for iter in [11,22,33,44,55]}"
   ]
  },
  {
   "cell_type": "code",
   "execution_count": 48,
   "metadata": {},
   "outputs": [
    {
     "data": {
      "text/plain": [
       "{'fri': 3, 'mon': 3, 'sat': 3, 'sun': 3, 'thu': 3, 'tue': 3, 'wed': 3}"
      ]
     },
     "execution_count": 48,
     "metadata": {},
     "output_type": "execute_result"
    }
   ],
   "source": [
    "weekdays = ['sun', 'mon', 'tue', 'wed', 'thu', 'fri', 'sat']\n",
    "{w:len(w) for w in weekdays}"
   ]
  },
  {
   "cell_type": "markdown",
   "metadata": {},
   "source": [
    "enumerate()\n",
    "We can use the “enumerate()” function in a dictionary comprehension.\n",
    "It helps us save the index of a specific element that we could use later. \n",
    "Also, in a for loop, the position of a list element isn’t visible without “enumerate().”"
   ]
  },
  {
   "cell_type": "code",
   "execution_count": 49,
   "metadata": {},
   "outputs": [
    {
     "data": {
      "text/plain": [
       "{'fri': 5, 'mon': 1, 'sat': 6, 'sun': 0, 'thu': 4, 'tue': 2, 'wed': 3}"
      ]
     },
     "execution_count": 49,
     "metadata": {},
     "output_type": "execute_result"
    }
   ],
   "source": [
    "{w : i for i, w in enumerate(weekdays)}"
   ]
  }
 ],
 "metadata": {
  "kernelspec": {
   "display_name": "Python 3",
   "language": "python",
   "name": "python3"
  },
  "language_info": {
   "codemirror_mode": {
    "name": "ipython",
    "version": 3
   },
   "file_extension": ".py",
   "mimetype": "text/x-python",
   "name": "python",
   "nbconvert_exporter": "python",
   "pygments_lexer": "ipython3",
   "version": "3.7.3"
  }
 },
 "nbformat": 4,
 "nbformat_minor": 2
}
