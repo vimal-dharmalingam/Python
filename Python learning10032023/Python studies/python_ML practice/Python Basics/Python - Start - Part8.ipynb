{
 "cells": [
  {
   "cell_type": "markdown",
   "metadata": {},
   "source": [
    "Python LOOP\n",
    "A “for” loop is the most preferred control flow statement to be used in a Python program. It is best to use when you know the total no. of iterations required for execution.\n",
    "It has a clearer and simple syntax and can help you iterate through different types of sequences.\n",
    "Python supports seven sequence data types: standard/Unicode strings, a list, tuples, a bytearray, and xrange objects.\n",
    "There are sets and dictionaries as well, but they are just containers for the sequence types"
   ]
  },
  {
   "cell_type": "markdown",
   "metadata": {},
   "source": [
    "For Loop - A for loop in Python requires at least two variables to work. The first is the iterable object such as a list, tuple or a string. And second is the variable to store the successive values from the sequence in the loop.\n",
    "Syntax\n",
    "for iter in sequence:\n",
    "    statements(iter)\n",
    "iter - The “iter” represents the iterating variable. It gets assigned with the successive values from the input sequence\n",
    "sequence - The “sequence” may refer to any of the following Python objects such as a list, a tuple or a string."
   ]
  },
  {
   "cell_type": "markdown",
   "metadata": {},
   "source": [
    "For Loop Flow - The for loop can include a single line or a block of code with multiple statements. Before executing the code inside the loop, the value from the sequence gets assigned to the iterating variable (“iter”)."
   ]
  },
  {
   "cell_type": "code",
   "execution_count": 2,
   "metadata": {
    "collapsed": true
   },
   "outputs": [
    {
     "name": "stdout",
     "output_type": "stream",
     "text": [
      "N\n",
      "e\n",
      "u\n",
      "r\n",
      "a\n",
      "l\n",
      "N\n",
      "e\n",
      "t\n",
      "w\n",
      "o\n",
      "r\n",
      "k\n"
     ]
    }
   ],
   "source": [
    "str1 = 'NeuralNetwork'\n",
    "for i in str1:\n",
    "    print(i)"
   ]
  },
  {
   "cell_type": "code",
   "execution_count": 1,
   "metadata": {},
   "outputs": [
    {
     "data": {
      "text/plain": [
       "[0, 1, 2, 3, 4, 5, 6, 7, 8, 9]"
      ]
     },
     "execution_count": 1,
     "metadata": {},
     "output_type": "execute_result"
    }
   ],
   "source": [
    "l1 = []\n",
    "for i in range(10):\n",
    "    l1.append(i)\n",
    "l1"
   ]
  },
  {
   "cell_type": "code",
   "execution_count": 27,
   "metadata": {
    "collapsed": true
   },
   "outputs": [
    {
     "name": "stdout",
     "output_type": "stream",
     "text": [
      "1\n",
      "3\n",
      "5\n",
      "7\n",
      "9\n"
     ]
    }
   ],
   "source": [
    "y = 2\n",
    "for i in range(0,10):\n",
    "    if (i%y!=0):\n",
    "        print(i)"
   ]
  },
  {
   "cell_type": "code",
   "execution_count": 28,
   "metadata": {
    "collapsed": true
   },
   "outputs": [
    {
     "name": "stdout",
     "output_type": "stream",
     "text": [
      "0\n",
      "2\n",
      "4\n",
      "6\n",
      "8\n"
     ]
    }
   ],
   "source": [
    "y = 2\n",
    "for i in range(0,10):\n",
    "    if (i%y==0):\n",
    "        print(i)"
   ]
  },
  {
   "cell_type": "code",
   "execution_count": 15,
   "metadata": {
    "collapsed": true
   },
   "outputs": [
    {
     "name": "stdout",
     "output_type": "stream",
     "text": [
      "Mon\n",
      "Tue\n",
      "Wed\n",
      "Thur\n",
      "Fri\n",
      "Sat\n",
      "Sun\n"
     ]
    }
   ],
   "source": [
    "l2 = [2,4,6,8,10,'Mon','Tue','Wed','Thur','Fri','Sat','Sun']\n",
    "for item in l2:\n",
    "    if (type(item)==str):\n",
    "        print(item)"
   ]
  },
  {
   "cell_type": "code",
   "execution_count": 17,
   "metadata": {
    "collapsed": true
   },
   "outputs": [
    {
     "name": "stdout",
     "output_type": "stream",
     "text": [
      "['Mon', 'Tue', 'Wed', 'Thur', 'Fri', 'Sat', 'Sun']\n",
      "[2, 4, 6, 8, 10]\n"
     ]
    }
   ],
   "source": [
    "l3_str = []\n",
    "l4_int = []\n",
    "for item in l2:\n",
    "    if (type(item)==str):\n",
    "        l3_str.append(item)\n",
    "print(l3_str)\n",
    "for item in l2:\n",
    "    if (type(item)==int):\n",
    "        l4_int.append(item)\n",
    "print(l4_int)"
   ]
  },
  {
   "cell_type": "code",
   "execution_count": 22,
   "metadata": {
    "collapsed": true
   },
   "outputs": [
    {
     "name": "stdout",
     "output_type": "stream",
     "text": [
      "[0, 1, 2, 3, 4, 5, 6, 7, 8, 9, 10, 11, 12, 13, 14, 15, 16, 17, 18, 19, 20, 21, 22, 23, 24, 25, 26, 27, 28, 29, 30, 31, 32, 33, 34, 35, 36, 37, 38, 39, 40, 41, 42, 43, 44, 45, 46, 47, 48, 49, 50, 51, 52, 53, 54, 55, 56, 57, 58, 59, 60, 61, 62, 63, 64, 65, 66, 67, 68, 69, 70, 71, 72, 73, 74, 75, 76, 77, 78, 79, 80, 81, 82, 83, 84, 85, 86, 87, 88, 89, 90, 91, 92, 93, 94, 95, 96, 97, 98, 99]\n"
     ]
    }
   ],
   "source": [
    "l5=[]\n",
    "for i in range(100):\n",
    "    l5.append(i)\n",
    "print(l5)"
   ]
  },
  {
   "cell_type": "code",
   "execution_count": 25,
   "metadata": {},
   "outputs": [
    {
     "name": "stdout",
     "output_type": "stream",
     "text": [
      "('Sum: ', 4950)\n",
      "('Avg: ', 49)\n"
     ]
    }
   ],
   "source": [
    "x = 0\n",
    "for item in l5:\n",
    "    x=x+item\n",
    "print(\"Sum: \", x) # if identation is not correct it will print sum and avg=0 for each iteration\n",
    "print(\"Avg: \", x/len(l5)) # if identation is not correct it will print sum and avg=0 for each iteration"
   ]
  },
  {
   "cell_type": "code",
   "execution_count": 40,
   "metadata": {},
   "outputs": [
    {
     "name": "stdout",
     "output_type": "stream",
     "text": [
      "['Jan', 'Feb', 'Mar', 'Apr', 'May', 'Jun', 'Jul', 'Aug', 'Sep', 'Oct', 'Nov', 'Dec']\n"
     ]
    }
   ],
   "source": [
    "l6 = ['Jan','Feb','Mar','Apr','May','Jun','Jul','Aug','Sep','Oct','Nov','Dec']\n",
    "tuple1 = (l6)\n",
    "print(tuple1)"
   ]
  },
  {
   "cell_type": "code",
   "execution_count": 68,
   "metadata": {
    "collapsed": true
   },
   "outputs": [
    {
     "name": "stdout",
     "output_type": "stream",
     "text": [
      "('Q1 (0):', 'Jan')\n",
      "('Q1 (1):', 'Feb')\n",
      "('Q1 (2):', 'Mar')\n",
      "('Q1 (3):', 'Apr')\n",
      "('Q1 (4):', 'May')\n",
      "('Q1 (5):', 'Jun')\n",
      "('Q1 (6):', 'Jul')\n",
      "('Q1 (7):', 'Aug')\n",
      "('Q1 (8):', 'Sep')\n",
      "('Q1 (9):', 'Oct')\n",
      "('Q1 (10):', 'Nov')\n",
      "('Q1 (11):', 'Dec')\n"
     ]
    }
   ],
   "source": [
    "for index in range(len(l6)):\n",
    "    print(\"Q1 (%d):\" % index, tuple1[index])"
   ]
  },
  {
   "cell_type": "markdown",
   "metadata": {},
   "source": [
    "#Else clause with For loop : Syntax\n",
    "for item in seq:\n",
    "    statement 1\n",
    "    statement 2\n",
    "    if <cond>:\n",
    "        break\n",
    "else:\n",
    "    statements"
   ]
  },
  {
   "cell_type": "code",
   "execution_count": 81,
   "metadata": {
    "collapsed": true
   },
   "outputs": [
    {
     "name": "stdout",
     "output_type": "stream",
     "text": [
      "Jan\n",
      "Feb\n",
      "Mar\n",
      "Apr\n",
      "May\n",
      "Jun\n"
     ]
    }
   ],
   "source": [
    "for month in tuple1:\n",
    "    print(month)\n",
    "    if month is 'Jun':\n",
    "        break\n",
    "else:\n",
    "    print('Second Half')"
   ]
  },
  {
   "cell_type": "code",
   "execution_count": null,
   "metadata": {},
   "outputs": [],
   "source": []
  },
  {
   "cell_type": "code",
   "execution_count": null,
   "metadata": {},
   "outputs": [],
   "source": []
  },
  {
   "cell_type": "code",
   "execution_count": null,
   "metadata": {},
   "outputs": [],
   "source": []
  },
  {
   "cell_type": "code",
   "execution_count": null,
   "metadata": {},
   "outputs": [],
   "source": []
  },
  {
   "cell_type": "code",
   "execution_count": null,
   "metadata": {},
   "outputs": [],
   "source": []
  },
  {
   "cell_type": "code",
   "execution_count": null,
   "metadata": {},
   "outputs": [],
   "source": []
  },
  {
   "cell_type": "code",
   "execution_count": null,
   "metadata": {},
   "outputs": [],
   "source": []
  },
  {
   "cell_type": "code",
   "execution_count": null,
   "metadata": {},
   "outputs": [],
   "source": []
  },
  {
   "cell_type": "code",
   "execution_count": null,
   "metadata": {},
   "outputs": [],
   "source": []
  },
  {
   "cell_type": "code",
   "execution_count": null,
   "metadata": {},
   "outputs": [],
   "source": []
  },
  {
   "cell_type": "code",
   "execution_count": null,
   "metadata": {},
   "outputs": [],
   "source": []
  }
 ],
 "metadata": {
  "kernelspec": {
   "display_name": "Python 3",
   "language": "python",
   "name": "python3"
  },
  "language_info": {
   "codemirror_mode": {
    "name": "ipython",
    "version": 3
   },
   "file_extension": ".py",
   "mimetype": "text/x-python",
   "name": "python",
   "nbconvert_exporter": "python",
   "pygments_lexer": "ipython3",
   "version": "3.7.3"
  }
 },
 "nbformat": 4,
 "nbformat_minor": 2
}
