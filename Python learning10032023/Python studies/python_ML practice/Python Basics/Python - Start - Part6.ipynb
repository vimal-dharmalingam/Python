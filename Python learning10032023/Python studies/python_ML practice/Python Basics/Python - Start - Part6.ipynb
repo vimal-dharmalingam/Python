{
 "cells": [
  {
   "cell_type": "markdown",
   "metadata": {},
   "source": [
    "Format String in Python"
   ]
  },
  {
   "cell_type": "markdown",
   "metadata": {},
   "source": [
    "#1)The simplest case while calling the Python format function is to have a single formatter. Below is the syntax to use it.\n",
    "    Syntax : '{}'.format(param) \n",
    "*'{}': It is the format target, i.e., the placeholder.\n",
    "*param: It can be a string, integer, float, or any of the collection types.\n",
    "*Return: It returns a formatted output with the input argument substituting the placeholder"
   ]
  },
  {
   "cell_type": "code",
   "execution_count": 1,
   "metadata": {},
   "outputs": [
    {
     "data": {
      "text/plain": [
       "'Formatting a String in Python'"
      ]
     },
     "execution_count": 1,
     "metadata": {},
     "output_type": "execute_result"
    }
   ],
   "source": [
    "'{}'.format('Formatting a String in Python')"
   ]
  },
  {
   "cell_type": "code",
   "execution_count": null,
   "metadata": {},
   "outputs": [],
   "source": [
    "#2) Multiple Arguments Formatting\n",
    "    syntax : '{} {}'.format(arg1, arg2)\n",
    "*'{} {}': We can have multiple placeholders\n",
    "*arg1, arg2: They can be a string, integer, float, or any of the collection types.\n",
    "*Return: It returns a formatted output with the input argument substituting the placeholder"
   ]
  },
  {
   "cell_type": "code",
   "execution_count": 2,
   "metadata": {},
   "outputs": [
    {
     "data": {
      "text/plain": [
       "'Python Format'"
      ]
     },
     "execution_count": 2,
     "metadata": {},
     "output_type": "execute_result"
    }
   ],
   "source": [
    "'{} {}'.format('Python', 'Format')"
   ]
  },
  {
   "cell_type": "code",
   "execution_count": 3,
   "metadata": {},
   "outputs": [
    {
     "data": {
      "text/plain": [
       "'Neural Network Performs well on complex data'"
      ]
     },
     "execution_count": 3,
     "metadata": {},
     "output_type": "execute_result"
    }
   ],
   "source": [
    "str1 = 'Neural Network Performs well on complex data'\n",
    "'{}'.format(str1)"
   ]
  },
  {
   "cell_type": "markdown",
   "metadata": {},
   "source": [
    "Padding And Align Strings"
   ]
  },
  {
   "cell_type": "code",
   "execution_count": 10,
   "metadata": {},
   "outputs": [
    {
     "data": {
      "text/plain": [
       "'      Neural Network Performs well on complex data'"
      ]
     },
     "execution_count": 10,
     "metadata": {},
     "output_type": "execute_result"
    }
   ],
   "source": [
    "format(str1,\">50s\") #it keeps the length of the string as specified"
   ]
  },
  {
   "cell_type": "code",
   "execution_count": 11,
   "metadata": {},
   "outputs": [
    {
     "data": {
      "text/plain": [
       "'######Neural Network Performs well on complex data'"
      ]
     },
     "execution_count": 11,
     "metadata": {},
     "output_type": "execute_result"
    }
   ],
   "source": [
    "format(str1,\"#>50s\") #You might have observed the “>” symbol in the format syntax. It makes our target string to move to the right side."
   ]
  },
  {
   "cell_type": "code",
   "execution_count": 12,
   "metadata": {},
   "outputs": [
    {
     "data": {
      "text/plain": [
       "'Neural Network Performs well on complex data######'"
      ]
     },
     "execution_count": 12,
     "metadata": {},
     "output_type": "execute_result"
    }
   ],
   "source": [
    "format(str1,\"#<50s\")"
   ]
  },
  {
   "cell_type": "code",
   "execution_count": 13,
   "metadata": {},
   "outputs": [
    {
     "data": {
      "text/plain": [
       "'                Neural Network Performs well on complex data'"
      ]
     },
     "execution_count": 13,
     "metadata": {},
     "output_type": "execute_result"
    }
   ],
   "source": [
    "'{0:>60}'.format(str1)"
   ]
  },
  {
   "cell_type": "code",
   "execution_count": 14,
   "metadata": {},
   "outputs": [
    {
     "data": {
      "text/plain": [
       "'Neural Network Performs well on complex data                '"
      ]
     },
     "execution_count": 14,
     "metadata": {},
     "output_type": "execute_result"
    }
   ],
   "source": [
    "'{0:<60}'.format(str1)"
   ]
  },
  {
   "cell_type": "code",
   "execution_count": 15,
   "metadata": {},
   "outputs": [
    {
     "name": "stdout",
     "output_type": "stream",
     "text": [
      "I've <10> years of experience and my salary is <75000> USD per annum.\n"
     ]
    }
   ],
   "source": [
    "#Formating an integer\n",
    "print(\"I've <{}> years of experience and my salary is <{}> USD per annum.\".format(10, 75000))"
   ]
  },
  {
   "cell_type": "code",
   "execution_count": 16,
   "metadata": {},
   "outputs": [
    {
     "name": "stdout",
     "output_type": "stream",
     "text": [
      "I've <10> years of experience and my salary is <75,000> USD per annum.\n"
     ]
    }
   ],
   "source": [
    "#Using Separator Number Formatting\n",
    "print(\"I've <{}> years of experience and my salary is <{:,}> USD per annum.\".format(10, 75000))"
   ]
  },
  {
   "cell_type": "code",
   "execution_count": 18,
   "metadata": {},
   "outputs": [
    {
     "name": "stdout",
     "output_type": "stream",
     "text": [
      "I've <   10> years of experience and my salary is <75,000         > USD per annum.\n"
     ]
    }
   ],
   "source": [
    "#Specify Field Width For Numbers\n",
    "print(\"I've <{:5}> years of experience and my salary is <{:<15,}> USD per annum.\".format(10, 75000))"
   ]
  },
  {
   "cell_type": "code",
   "execution_count": 23,
   "metadata": {},
   "outputs": [
    {
     "name": "stdout",
     "output_type": "stream",
     "text": [
      "I've <##10> years of experience and my salary is <zz75,000> USD per annum.\n"
     ]
    }
   ],
   "source": [
    "#Padding For Numbers\n",
    "print(\"I've <{:#>4}> years of experience and my salary is <{:z>8,}> USD per annum.\".format(10, 75000))"
   ]
  },
  {
   "cell_type": "code",
   "execution_count": 25,
   "metadata": {},
   "outputs": [
    {
     "name": "stdout",
     "output_type": "stream",
     "text": [
      "1010\n",
      "10001\n"
     ]
    }
   ],
   "source": [
    "#Format A Number As Binary\n",
    "print('{0:b}'.format(10))\n",
    "print('{0:b}'.format(17))"
   ]
  },
  {
   "cell_type": "code",
   "execution_count": 27,
   "metadata": {},
   "outputs": [
    {
     "name": "stdout",
     "output_type": "stream",
     "text": [
      "12\n",
      "21\n"
     ]
    }
   ],
   "source": [
    "#Format A Number As Octal\n",
    "print('{0:o}'.format(10))\n",
    "print('{0:o}'.format(17))"
   ]
  },
  {
   "cell_type": "code",
   "execution_count": 28,
   "metadata": {},
   "outputs": [
    {
     "name": "stdout",
     "output_type": "stream",
     "text": [
      "a\n",
      "11\n"
     ]
    }
   ],
   "source": [
    "#Format A Number As Hex\n",
    "print('{0:x}'.format(10))\n",
    "print('{0:x}'.format(17))"
   ]
  },
  {
   "cell_type": "code",
   "execution_count": 31,
   "metadata": {},
   "outputs": [
    {
     "name": "stdout",
     "output_type": "stream",
     "text": [
      "1.123456\n",
      "1.123\n",
      "1.124\n"
     ]
    }
   ],
   "source": [
    "#Representing A Float Number\n",
    "print(\"{0:f}\".format(1.123456))\n",
    "print(\"{0:.3f}\".format(1.123456))\n",
    "print(\"{0:.3f}\".format(1.123556))"
   ]
  },
  {
   "cell_type": "code",
   "execution_count": 36,
   "metadata": {},
   "outputs": [
    {
     "name": "stdout",
     "output_type": "stream",
     "text": [
      "<2.218300>\n",
      "<                 2.218300>\n",
      "<2.2183000000             >\n"
     ]
    }
   ],
   "source": [
    "#Fixed Point\n",
    "print('<{0:f}>'.format(2.2183))\n",
    "print('<{0:25f}>'.format(2.2183))\n",
    "print('<{0:<25.10f}>'.format(2.2183))"
   ]
  },
  {
   "cell_type": "code",
   "execution_count": 37,
   "metadata": {},
   "outputs": [
    {
     "name": "stdout",
     "output_type": "stream",
     "text": [
      "<2.2183>\n"
     ]
    }
   ],
   "source": [
    "#General\n",
    "print('<{0:g}>'.format(2.2183))"
   ]
  },
  {
   "cell_type": "code",
   "execution_count": 41,
   "metadata": {},
   "outputs": [
    {
     "name": "stdout",
     "output_type": "stream",
     "text": [
      "<2.218300e+00>\n",
      "<2.218300e+00             >\n"
     ]
    }
   ],
   "source": [
    "#Scientific\n",
    "print('<{0:e}>'.format(2.2183))\n",
    "print('<{0:<25e}>'.format(2.2183))"
   ]
  },
  {
   "cell_type": "markdown",
   "metadata": {},
   "source": [
    "Format Lists And Dictionaries"
   ]
  },
  {
   "cell_type": "code",
   "execution_count": 43,
   "metadata": {},
   "outputs": [
    {
     "name": "stdout",
     "output_type": "stream",
     "text": [
      "Skillset: ['C', 'C++', 'CSharp']\n"
     ]
    }
   ],
   "source": [
    "langs = ['C', 'C++', 'CSharp']\n",
    "print('Skillset: {}'.format(langs))"
   ]
  },
  {
   "cell_type": "code",
   "execution_count": 44,
   "metadata": {},
   "outputs": [
    {
     "name": "stdout",
     "output_type": "stream",
     "text": [
      "Skillset: C++\n"
     ]
    }
   ],
   "source": [
    "print('Skillset: {0[1]}'.format(langs))"
   ]
  },
  {
   "cell_type": "code",
   "execution_count": 45,
   "metadata": {},
   "outputs": [
    {
     "name": "stdout",
     "output_type": "stream",
     "text": [
      "Skillset: C\n"
     ]
    }
   ],
   "source": [
    "print('Skillset: {}'.format(*langs))"
   ]
  },
  {
   "cell_type": "code",
   "execution_count": 47,
   "metadata": {},
   "outputs": [
    {
     "name": "stdout",
     "output_type": "stream",
     "text": [
      " Jake's salary is $100K \n",
      " Anand's salary is $120K\n"
     ]
    }
   ],
   "source": [
    "print(\" Jake's salary is {0[jake]} \\n Anand's salary is {0[anand]}\".format({'jake': '$100K', 'anand': '$120K'}))"
   ]
  }
 ],
 "metadata": {
  "kernelspec": {
   "display_name": "Python 2",
   "language": "python",
   "name": "python2"
  },
  "language_info": {
   "codemirror_mode": {
    "name": "ipython",
    "version": 2
   },
   "file_extension": ".py",
   "mimetype": "text/x-python",
   "name": "python",
   "nbconvert_exporter": "python",
   "pygments_lexer": "ipython2",
   "version": "2.7.15"
  }
 },
 "nbformat": 4,
 "nbformat_minor": 2
}
