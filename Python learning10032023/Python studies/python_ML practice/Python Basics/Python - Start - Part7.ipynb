{
 "cells": [
  {
   "cell_type": "markdown",
   "metadata": {},
   "source": [
    "Python Operators - Such as Arithmetic, Comparison, Assignment, Logical, Bitwise, Identity and  Membership operators."
   ]
  },
  {
   "cell_type": "markdown",
   "metadata": {},
   "source": [
    "Arithmetic Operators:\n",
    "With arithmetic operators, we can do various arithmetic operations like addition, subtraction, multiplication, division, modulus, exponent, etc. Python provides multiple ways for arithmetic calculations like eval function, declare variable & calculate, or call functions.\n",
    "Operator\tPurpose\tUsage\n",
    "+\tAddition – Sum of two operands\ta+b\n",
    "–\tSubtraction – Difference between the two operands\ta-b\n",
    "*\tMultiplication – Product of the two operands\ta*b\n",
    "/\tFloat Division – Quotient of the two operands\ta/b\n",
    "//\tFloor Division – Quotient of the two operands (Without fractional part)\ta//b\n",
    "%\tModulus – Integer remainder after division of ‘a’ by ‘b’\ta%b\n",
    "**\tExponent – Product of ‘a’ by itself ‘b’ times (a to the power of b)\ta**b"
   ]
  },
  {
   "cell_type": "code",
   "execution_count": 1,
   "metadata": {
    "collapsed": true
   },
   "outputs": [
    {
     "name": "stdout",
     "output_type": "stream",
     "text": [
      "('Sum : ', 11)\n",
      "('Subtraction : ', 3)\n",
      "('Multiplication : ', 28)\n",
      "('Division (float) : ', 1)\n",
      "('Division (floor) : ', 1)\n",
      "('Modulus : ', 3)\n",
      "('Exponent : ', 2401)\n"
     ]
    }
   ],
   "source": [
    "a=7\n",
    "b=4\n",
    "\n",
    "print('Sum : ', a+b)\n",
    "print('Subtraction : ', a-b)\n",
    "print('Multiplication : ', a*b)\n",
    "print('Division (float) : ', a/b)\n",
    "print('Division (floor) : ', a//b)\n",
    "print('Modulus : ', a%b)\n",
    "print('Exponent : ', a**b)"
   ]
  },
  {
   "cell_type": "markdown",
   "metadata": {},
   "source": [
    "#Comparison Operators\n",
    "In Python programming, comparison operators allow us to determine whether two values are equal or if one is greater than the other and then make a decision based on the result.\n",
    "Operator\tPurpose\tUsage\n",
    ">\tGreater than – if the left operand is greater than the right, then it returns true.\ta>b\n",
    "<\tLess than – if the left operand is less than the right, then it returns true.\ta<b\n",
    "==\tEqual to – if two operands are equal, then it returns true.\ta==b\n",
    "!=\tNot equal to – if two operands aren’t equal, then it returns true.\ta!=b\n",
    ">=\tGreater than or equal – if the left operand is greater than or equal to the right, then it returns true.\ta>=b\n",
    "<=\tLess than or equal – if the left operand is less than or equal to the right, then it returns true.\ta<=b"
   ]
  },
  {
   "cell_type": "code",
   "execution_count": 3,
   "metadata": {
    "collapsed": true
   },
   "outputs": [
    {
     "name": "stdout",
     "output_type": "stream",
     "text": [
      "('a > b is', True)\n",
      "('a < b is', False)\n",
      "('a == b is', False)\n",
      "('a != b is', True)\n",
      "('a >= b is', True)\n",
      "('a <= b is', False)\n"
     ]
    }
   ],
   "source": [
    "a=7\n",
    "b=4\n",
    "\n",
    "print('a > b is',a>b)\n",
    "print('a < b is',a<b)\n",
    "print('a == b is',a==b)\n",
    "print('a != b is',a!=b)\n",
    "print('a >= b is',a>=b)\n",
    "print('a <= b is',a<=b)"
   ]
  },
  {
   "cell_type": "markdown",
   "metadata": {},
   "source": [
    "#Logical Operators\n",
    "The logical Python operators enable us to make decisions based on multiple conditions. The operands act as conditions that can result in a true or false value. The outcome of such an operation is either true or false (i.e., a Boolean value).\n",
    "However, not all of these operators return a boolean result. The ‘and’ and ‘or’ operators do return one of their operands instead of a pure boolean value. Whereas the ‘not’ operator always gives a real boolean outcome.\n",
    "Operator\tPurpose\tUsage\n",
    "and\tif ‘a’ is false, then ‘a’, else ‘b’\ta and b\n",
    "or\tif ‘a’ is false, then ‘b’, else ‘a’\ta or b\n",
    "not\tif ‘a’ is false, then True, else False\tnot a"
   ]
  },
  {
   "cell_type": "code",
   "execution_count": 4,
   "metadata": {},
   "outputs": [
    {
     "name": "stdout",
     "output_type": "stream",
     "text": [
      "('a and b is', 4)\n",
      "('a or b is', 7)\n",
      "('not a is', False)\n"
     ]
    }
   ],
   "source": [
    "a=7\n",
    "b=4\n",
    "\n",
    "print('a and b is',a and b)\n",
    "print('a or b is',a or b)\n",
    "print('not a is',not a)"
   ]
  },
  {
   "cell_type": "markdown",
   "metadata": {},
   "source": [
    "Bitwise Operators\n",
    "Bitwise Python operators process the individual bits of integer values. They treat them as sequences of binary bits.\n",
    "We can use bitwise operators to check whether a particular bit is set. For example, IoT applications read data from the sensors based on a specific bit is set or not. In such a situation, these operators can help\n",
    "Operator\tPurpose\tUsage\n",
    "&\tBitwise AND – compares two operands on a bit level and returns 1 if both the corresponding bits are 1\ta & b\n",
    "|\tBitwise OR – compares two operands on a bit level and returns 1 if any of the corresponding bits is 1\ta | b\n",
    "~\tBitwise NOT – inverts all of the bits in a single operand\t~a\n",
    "^\tBitwise XOR – compares two operands on a bit level and returns 1 if any of the corresponding bits is 1, but not both\ta ^ b\n",
    ">>\tRight shift – shifts the bits of ‘a’ to the right by ‘b’ no. of times\ta >> b\n",
    "<<\tLeft shift – shifts the bits of ‘a’ to the left by ‘b’ no. of times\ta << b"
   ]
  },
  {
   "cell_type": "code",
   "execution_count": 5,
   "metadata": {},
   "outputs": [
    {
     "name": "stdout",
     "output_type": "stream",
     "text": [
      "('a & b is', 4)\n"
     ]
    }
   ],
   "source": [
    "a=4\n",
    "b=6\n",
    "\n",
    "print('a & b is',a & b)"
   ]
  },
  {
   "cell_type": "markdown",
   "metadata": {},
   "source": [
    "Assignment Operators - In Python, we can use assignment operators to set values into variables.\n",
    "Operator\tExample\tSimilar to\n",
    "=\ta=4\ta=4\n",
    "+=\ta+=4\ta=a+4\n",
    "-=\ta-=4\ta=a-4\n",
    "*=\ta*=4\ta=a*4\n",
    "/=\ta/=4\ta=a/4\n",
    "%=\ta%=4\ta=a%4\n",
    "**=\ta**=4\ta=a**4\n",
    "&=\ta&=4\ta=a&4\n",
    "|=\ta|=4\ta=a|4\n",
    "^=\ta^=4\ta=a^4\n",
    ">>=\ta>>=4\ta=a>>4\n",
    "<<=\ta<<=4\ta=<<4"
   ]
  },
  {
   "cell_type": "markdown",
   "metadata": {},
   "source": [
    "Advanced Python Operators\n",
    "Python also bundles a few operators for special purposes. These are known as advanced Python operators like the identity operator or the membership operator."
   ]
  },
  {
   "cell_type": "markdown",
   "metadata": {},
   "source": [
    "Identity Operators : These operators enable us to compare the memory locations of two Python objects/variables. They can let us find if the objects share same memory address. The variables holding equal values are not necessarily identical.\n",
    "We can use these operators to determine whether a value is of a specific class or type.\n",
    "Operator\tPurpose\tUsage\n",
    "is\tTrue – if both the operands refer to the same object, else False\ta is b (True if id(a) and id(b) are the same)\n",
    "is not\tTrue – if the operands refer to different objects, else False\ta is not b  (True if id(a) and id(b) are different)"
   ]
  },
  {
   "cell_type": "code",
   "execution_count": 9,
   "metadata": {},
   "outputs": [
    {
     "name": "stdout",
     "output_type": "stream",
     "text": [
      "true\n"
     ]
    }
   ],
   "source": [
    "a = 7\n",
    "if (type(a) is int):\n",
    " print(\"true\")\n",
    "else:\n",
    " print(\"false\")"
   ]
  },
  {
   "cell_type": "markdown",
   "metadata": {},
   "source": [
    "#Membership Operators\n",
    "#Membership operators enable us to test whether a value is a member of another Python objects such as strings, lists, or tuples.\n",
    "Operator\tPurpose\tUsage\n",
    "in\tTrue – if the value exists in the sequence\t7 in [3, 7, 9]\n",
    "not in\tTrue – if the value doesn’t found in the sequence\t7 not in [3, 5, 9]"
   ]
  },
  {
   "cell_type": "code",
   "execution_count": 10,
   "metadata": {
    "collapsed": true
   },
   "outputs": [
    {
     "name": "stdout",
     "output_type": "stream",
     "text": [
      "True\n",
      "True\n",
      "True\n",
      "True\n",
      "False\n"
     ]
    }
   ],
   "source": [
    "str = 'Python operators'\n",
    "dict = {6:'June',12:'Dec'}\n",
    "\n",
    "print('P' in str) \n",
    "print('Python' in str)\n",
    "print('python' not in str)\n",
    "print(6 in dict) \n",
    "print('Dec' in dict)"
   ]
  }
 ],
 "metadata": {
  "kernelspec": {
   "display_name": "Python 3",
   "language": "python",
   "name": "python3"
  },
  "language_info": {
   "codemirror_mode": {
    "name": "ipython",
    "version": 3
   },
   "file_extension": ".py",
   "mimetype": "text/x-python",
   "name": "python",
   "nbconvert_exporter": "python",
   "pygments_lexer": "ipython3",
   "version": "3.7.3"
  }
 },
 "nbformat": 4,
 "nbformat_minor": 2
}
