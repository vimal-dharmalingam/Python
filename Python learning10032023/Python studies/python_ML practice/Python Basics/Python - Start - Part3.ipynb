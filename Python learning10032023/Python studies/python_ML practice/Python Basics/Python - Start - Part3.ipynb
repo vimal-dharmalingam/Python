{
 "cells": [
  {
   "cell_type": "markdown",
   "metadata": {},
   "source": [
    "Set In Python\n",
    "A set is a term which originates from Mathematics. It is a collection type which can store elements of different data types but doesn’t index them in a particular order.\n",
    "    A Python Set has the following properties.\n",
    "The elements don’t have a specific order, hence, shall exist in a random style.\n",
    "Each item is unique in a Set and therefore, can’t have duplicates.\n",
    "The elements are immutable and hence, can’t accept changes once added.\n",
    "A set is itself mutable and allows addition or deletion of items.\n",
    "We can execute several mathematical operations such as Union, Intersection, Symmetric Difference, and Complement."
   ]
  },
  {
   "cell_type": "markdown",
   "metadata": {},
   "source": [
    "You can invoke any of the following two methods to create a Python Set.\n",
    "If you have a fixed set of elements, then group them using a comma as the separator and enclose the group inside curly braces.\n",
    "Another way is to call the built-in “set()” method which can also be used to add elements at run-time."
   ]
  },
  {
   "cell_type": "markdown",
   "metadata": {},
   "source": [
    "Also, remember, the elements can be of any types such as an integer, a float, a tuple, or strings, etc. \n",
    "The only exception with a Set is that it can’t store a mutable item such as a list, a set or a dictionary."
   ]
  },
  {
   "cell_type": "code",
   "execution_count": 2,
   "metadata": {},
   "outputs": [
    {
     "name": "stdout",
     "output_type": "stream",
     "text": [
      "set([1, 2, 3, 5])\n",
      "<type 'set'>\n"
     ]
    }
   ],
   "source": [
    "set1 = {2,1,3,5,2,1} #set1 = {} : THis will create empty dictionary so we have to convert it using set() function : set(set1)\n",
    "print(set1)\n",
    "print(type(set1))"
   ]
  },
  {
   "cell_type": "code",
   "execution_count": 39,
   "metadata": {},
   "outputs": [
    {
     "name": "stdout",
     "output_type": "stream",
     "text": [
      "<type 'dict'>\n",
      "<type 'set'>\n"
     ]
    }
   ],
   "source": [
    "sett = {}\n",
    "print(type(sett))\n",
    "settt = set(sett)\n",
    "print(type(settt))"
   ]
  },
  {
   "cell_type": "code",
   "execution_count": 19,
   "metadata": {},
   "outputs": [
    {
     "name": "stdout",
     "output_type": "stream",
     "text": [
      "set([0, 1, 2, 3, 4, 6])\n",
      "set([2, 4, 6, 8, 10, 12])\n",
      "set(['x2', 'x3', 'x1', 'x4', 'x5'])\n"
     ]
    }
   ],
   "source": [
    "#set() : method to convert list, tumple or dictionary into set\n",
    "#convert list into set\n",
    "l1 = []\n",
    "for i in range(5):\n",
    "    l1.append(i)\n",
    "l1.append(6)\n",
    "set2 = set(l1)\n",
    "print(set2)\n",
    "#convert tumple into set\n",
    "tuple1 = (2,4,6,8,10,12)\n",
    "set3 = set(tuple1)\n",
    "print(set3)\n",
    "#convert disctionary into set\n",
    "dict1 = {\"x1\":1,\"x2\":3,\"x3\":5,\"x4\":7,\"x5\":9}\n",
    "set4 = set(dict1) #converts only key into set, not values\n",
    "print(set4)"
   ]
  },
  {
   "cell_type": "markdown",
   "metadata": {},
   "source": [
    "Methods\n",
    "add() - adds a single element\n",
    "#update() - adds more than one item.\n",
    "Discard() - Remove the element however if element is not available python will throw error\n",
    "Remove() - Remove the element\n",
    "pop() - since the Set doesn’t use indexing, so you can’t be sure which of the item would get popped. It’ll randomly pick one element and remove it.\n",
    "clear() - flushes everthing out from set"
   ]
  },
  {
   "cell_type": "code",
   "execution_count": 55,
   "metadata": {
    "collapsed": true
   },
   "outputs": [
    {
     "data": {
      "text/plain": [
       "{0, 1, 2, 3, 4, 5, 6, 7, 8, 9}"
      ]
     },
     "execution_count": 55,
     "metadata": {},
     "output_type": "execute_result"
    }
   ],
   "source": [
    "a = {}\n",
    "set5 = set(a)\n",
    "for i in range(10):\n",
    "    set5.add(i)\n",
    "set5"
   ]
  },
  {
   "cell_type": "code",
   "execution_count": 26,
   "metadata": {},
   "outputs": [
    {
     "data": {
      "text/plain": [
       "{0, 1, 2, 3, 4}"
      ]
     },
     "execution_count": 26,
     "metadata": {},
     "output_type": "execute_result"
    }
   ],
   "source": [
    "#Set cannot store duplicates\n",
    "set6 = {0,1,2,3,4,3,4}\n",
    "set6   #duplicates removed from output"
   ]
  },
  {
   "cell_type": "code",
   "execution_count": 36,
   "metadata": {},
   "outputs": [
    {
     "data": {
      "text/plain": [
       "{1, 2.3, 'sat', (2, 4, 6, 8, 10)}"
      ]
     },
     "execution_count": 36,
     "metadata": {},
     "output_type": "execute_result"
    }
   ],
   "source": [
    "#Set can store multiple data types however it cannot store mutable objects i.e - list, set, dictionary but we can convert them into set by using built in function set()\n",
    "#set7 = {1,'sat',2.3, (2,4,6,8,10), [0,1,2,3,4,5]} #TypeError: unhashable type: 'list'\n",
    "#set7 = {1,'sat',2.3, (2,4,6,8,10), {'x1':1,'x2':2}} #TypeError: unhashable type: 'dict'\n",
    "#set7 = {1,'sat',2.3, (2,4,6,8,10), {2,4,6}} #TypeError: unhashable type: 'set'\n",
    "set7 = {1,'sat',2.3, (2,4,6,8,10)}\n",
    "set7"
   ]
  },
  {
   "cell_type": "markdown",
   "metadata": {},
   "source": [
    "Modify Python Set"
   ]
  },
  {
   "cell_type": "code",
   "execution_count": null,
   "metadata": {},
   "outputs": [],
   "source": [
    "#Python Set is a mutable object. However, it doesn’t use any indexing, and hence it doesn’t have any order.\n",
    "#It also means that you can’t change its elements by accessing through an index or via slicing\n",
    "#However, there are Set methods like the add() which adds a single element and the update() which can add more than one item.\n",
    "#The update() method can even accept tuples, lists, strings or other sets as an argument. However, duplicate elements will automatically get excluded."
   ]
  },
  {
   "cell_type": "code",
   "execution_count": 41,
   "metadata": {},
   "outputs": [
    {
     "data": {
      "text/plain": [
       "{1, 2.3, 'KNN', 'sat', (2, 4, 6, 8, 10)}"
      ]
     },
     "execution_count": 41,
     "metadata": {},
     "output_type": "execute_result"
    }
   ],
   "source": [
    "set7.add('KNN') #Can add single element\n",
    "set7"
   ]
  },
  {
   "cell_type": "code",
   "execution_count": 45,
   "metadata": {},
   "outputs": [
    {
     "data": {
      "text/plain": [
       "{1, 2.3, 'KNN', 'Random Forest', 'XGboost', 'sat', (2, 4, 6, 8, 10)}"
      ]
     },
     "execution_count": 45,
     "metadata": {},
     "output_type": "execute_result"
    }
   ],
   "source": [
    "set7.update(['KNN','XGboost', 'Random Forest']) # Can add multiple element (Does not take duplicates as KNN was present before but still one)\n",
    "set7"
   ]
  },
  {
   "cell_type": "code",
   "execution_count": 46,
   "metadata": {},
   "outputs": [
    {
     "ename": "KeyError",
     "evalue": "10",
     "output_type": "error",
     "traceback": [
      "\u001b[1;31m---------------------------------------------------------------------------\u001b[0m",
      "\u001b[1;31mKeyError\u001b[0m                                  Traceback (most recent call last)",
      "\u001b[1;32m<ipython-input-46-9e753a0af473>\u001b[0m in \u001b[0;36m<module>\u001b[1;34m()\u001b[0m\n\u001b[1;32m----> 1\u001b[1;33m \u001b[0mset7\u001b[0m\u001b[1;33m.\u001b[0m\u001b[0mremove\u001b[0m\u001b[1;33m(\u001b[0m\u001b[1;36m10\u001b[0m\u001b[1;33m)\u001b[0m\u001b[1;33m\u001b[0m\u001b[0m\n\u001b[0m\u001b[0;32m      2\u001b[0m \u001b[0mset7\u001b[0m\u001b[1;33m\u001b[0m\u001b[0m\n",
      "\u001b[1;31mKeyError\u001b[0m: 10"
     ]
    }
   ],
   "source": [
    "set7.remove(10)  # how to remove item from tuple inside set\n",
    "set7"
   ]
  },
  {
   "cell_type": "code",
   "execution_count": 49,
   "metadata": {
    "collapsed": true
   },
   "outputs": [
    {
     "ename": "KeyError",
     "evalue": "1",
     "output_type": "error",
     "traceback": [
      "\u001b[1;31m---------------------------------------------------------------------------\u001b[0m",
      "\u001b[1;31mKeyError\u001b[0m                                  Traceback (most recent call last)",
      "\u001b[1;32m<ipython-input-49-5f06d28f8f9d>\u001b[0m in \u001b[0;36m<module>\u001b[1;34m()\u001b[0m\n\u001b[1;32m----> 1\u001b[1;33m \u001b[0mset7\u001b[0m\u001b[1;33m.\u001b[0m\u001b[0mremove\u001b[0m\u001b[1;33m(\u001b[0m\u001b[1;36m1\u001b[0m\u001b[1;33m)\u001b[0m  \u001b[1;31m# how to remove item from tuple inside set\u001b[0m\u001b[1;33m\u001b[0m\u001b[0m\n\u001b[0m\u001b[0;32m      2\u001b[0m \u001b[0mset7\u001b[0m\u001b[1;33m\u001b[0m\u001b[0m\n",
      "\u001b[1;31mKeyError\u001b[0m: 1"
     ]
    }
   ],
   "source": [
    "set7.remove(1)  # removes element if not available it will throw error\n",
    "set7"
   ]
  },
  {
   "cell_type": "code",
   "execution_count": 50,
   "metadata": {},
   "outputs": [
    {
     "data": {
      "text/plain": [
       "{2.3, 'Random Forest', 'XGboost', 'sat', (2, 4, 6, 8, 10)}"
      ]
     },
     "execution_count": 50,
     "metadata": {},
     "output_type": "execute_result"
    }
   ],
   "source": [
    "set7.discard('KNN')  # removes element if not available it will keep it as it is\n",
    "set7"
   ]
  },
  {
   "cell_type": "code",
   "execution_count": 51,
   "metadata": {},
   "outputs": [
    {
     "data": {
      "text/plain": [
       "{2.3, 'Random Forest', 'sat', (2, 4, 6, 8, 10)}"
      ]
     },
     "execution_count": 51,
     "metadata": {},
     "output_type": "execute_result"
    }
   ],
   "source": [
    "set7.pop() # it removes randomly as set does not use idexing\n",
    "set7"
   ]
  },
  {
   "cell_type": "code",
   "execution_count": 52,
   "metadata": {},
   "outputs": [
    {
     "data": {
      "text/plain": [
       "set()"
      ]
     },
     "execution_count": 52,
     "metadata": {},
     "output_type": "execute_result"
    }
   ],
   "source": [
    "set7.clear() # it flushes out everything from set\n",
    "set7"
   ]
  },
  {
   "cell_type": "markdown",
   "metadata": {},
   "source": [
    "Python Set – Native Operations\n",
    "union - setA.union(setB) or setA|setB\n",
    "intersection - setA.intersection(setB) or setA.&(setB)\n",
    "difference - setA.difference(setB) or setA-setB\n",
    "Symmetric Difference - setA.symmetric_difference(setB) or setA^setB\n",
    "complement - "
   ]
  },
  {
   "cell_type": "code",
   "execution_count": 71,
   "metadata": {},
   "outputs": [],
   "source": [
    "setA = {0,1,3,5,7,9}\n",
    "setB = {0,1,2,4,6,8,10}"
   ]
  },
  {
   "cell_type": "code",
   "execution_count": 72,
   "metadata": {},
   "outputs": [
    {
     "data": {
      "text/plain": [
       "{0, 1, 2, 3, 4, 5, 6, 7, 8, 9, 10}"
      ]
     },
     "execution_count": 72,
     "metadata": {},
     "output_type": "execute_result"
    }
   ],
   "source": [
    "setA|setB # prints all from both apart from duplicates"
   ]
  },
  {
   "cell_type": "code",
   "execution_count": 73,
   "metadata": {},
   "outputs": [
    {
     "data": {
      "text/plain": [
       "{0, 1}"
      ]
     },
     "execution_count": 73,
     "metadata": {},
     "output_type": "execute_result"
    }
   ],
   "source": [
    "setA&setB # prints which matches in both"
   ]
  },
  {
   "cell_type": "code",
   "execution_count": 74,
   "metadata": {},
   "outputs": [
    {
     "data": {
      "text/plain": [
       "{2, 4, 6, 8, 10}"
      ]
     },
     "execution_count": 74,
     "metadata": {},
     "output_type": "execute_result"
    }
   ],
   "source": [
    "setB-setA #prints everything from first set except common in both"
   ]
  },
  {
   "cell_type": "code",
   "execution_count": 75,
   "metadata": {},
   "outputs": [
    {
     "data": {
      "text/plain": [
       "{2, 3, 4, 5, 6, 7, 8, 9, 10}"
      ]
     },
     "execution_count": 75,
     "metadata": {},
     "output_type": "execute_result"
    }
   ],
   "source": [
    "setB^setA #prints from both the sets which is not common"
   ]
  },
  {
   "cell_type": "markdown",
   "metadata": {},
   "source": [
    "Frozen Sets In Python\n",
    "1) It is a unique type of set which is immutable and doesn’t allow changing its elements after assignment.\n",
    "2) It supports all methods and operators applicable to a set but those that don’t alter its content.\n",
    "3) As you now know that the sets are mutable and thus become unhashable. So, we can’t use them as keys for a Python dictionary. On the contrary, the Frozen Set is by default hashable and can work as keys to a dictionary."
   ]
  },
  {
   "cell_type": "markdown",
   "metadata": {},
   "source": [
    "How to create new set\n",
    "frozenset()"
   ]
  },
  {
   "cell_type": "markdown",
   "metadata": {},
   "source": [
    "#following Python methods can work with the Frozen set.\n",
    "copy()\n",
    "difference()\n",
    "intersection()\n",
    "isdisjoint()\n",
    "issubset()\n",
    "issuperset()\n",
    "symmetric_difference()\n",
    "union()\n",
    "Note:- The methods which perform add or remove operations aren’t applicable for Frozen sets as they are immutable."
   ]
  },
  {
   "cell_type": "code",
   "execution_count": 76,
   "metadata": {},
   "outputs": [
    {
     "data": {
      "text/plain": [
       "frozenset({0, 1, 2, 4, 6, 8, 10})"
      ]
     },
     "execution_count": 76,
     "metadata": {},
     "output_type": "execute_result"
    }
   ],
   "source": [
    "frozen = frozenset(setB)\n",
    "frozen"
   ]
  },
  {
   "cell_type": "code",
   "execution_count": null,
   "metadata": {},
   "outputs": [],
   "source": []
  }
 ],
 "metadata": {
  "kernelspec": {
   "display_name": "Python 3",
   "language": "python",
   "name": "python3"
  },
  "language_info": {
   "codemirror_mode": {
    "name": "ipython",
    "version": 3
   },
   "file_extension": ".py",
   "mimetype": "text/x-python",
   "name": "python",
   "nbconvert_exporter": "python",
   "pygments_lexer": "ipython3",
   "version": "3.6.5"
  }
 },
 "nbformat": 4,
 "nbformat_minor": 2
}
