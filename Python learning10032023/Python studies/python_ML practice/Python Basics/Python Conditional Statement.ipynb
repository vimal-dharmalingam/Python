{
 "cells": [
  {
   "cell_type": "markdown",
   "metadata": {},
   "source": [
    "#Python IF, ELSE, ELIF, Nested IF & Switch Case Statement"
   ]
  },
  {
   "cell_type": "code",
   "execution_count": 5,
   "metadata": {},
   "outputs": [],
   "source": [
    "#If statement - If Statement is used for decision making. It will run the body of code only when IF statement is true.\n",
    "def statement():\n",
    "    x,y = 2,8\n",
    "    if(y%x==0):\n",
    "        print(\"X is even number\")"
   ]
  },
  {
   "cell_type": "code",
   "execution_count": 9,
   "metadata": {
    "collapsed": true
   },
   "outputs": [
    {
     "name": "stdout",
     "output_type": "stream",
     "text": [
      "X is even number\n"
     ]
    }
   ],
   "source": [
    "statement()"
   ]
  },
  {
   "cell_type": "code",
   "execution_count": 12,
   "metadata": {},
   "outputs": [],
   "source": [
    "#How to use \"else condition\"\n",
    "def statement1():\n",
    "    x,y = 3,8\n",
    "    if(y%x==0):\n",
    "        print(\"X is even number\")\n",
    "    else:\n",
    "        print(\"X is odd number\")"
   ]
  },
  {
   "cell_type": "code",
   "execution_count": 13,
   "metadata": {
    "collapsed": true
   },
   "outputs": [
    {
     "name": "stdout",
     "output_type": "stream",
     "text": [
      "X is odd number\n"
     ]
    }
   ],
   "source": [
    "statement1()"
   ]
  },
  {
   "cell_type": "code",
   "execution_count": 38,
   "metadata": {},
   "outputs": [],
   "source": [
    "#How to use \"elif\" condition\n",
    "def statement2():\n",
    "    x,y = 3,17\n",
    "    if(y%x==0):\n",
    "        print(\"X is even number\")\n",
    "    elif(y%x==y):\n",
    "        print(\"X is niether odd nor even\")\n",
    "    else:\n",
    "         print(\"X is odd number\")"
   ]
  },
  {
   "cell_type": "code",
   "execution_count": 39,
   "metadata": {
    "collapsed": true
   },
   "outputs": [
    {
     "name": "stdout",
     "output_type": "stream",
     "text": [
      "X is odd number\n"
     ]
    }
   ],
   "source": [
    "statement2()"
   ]
  },
  {
   "cell_type": "code",
   "execution_count": 42,
   "metadata": {
    "collapsed": true
   },
   "outputs": [
    {
     "name": "stdout",
     "output_type": "stream",
     "text": [
      "X is odd number\n"
     ]
    }
   ],
   "source": [
    "#How to execute conditional statement with minimal code\n",
    "x,y=3,8\n",
    "st=\"X is even number\" if(y%x==0) else \"X is odd number\"\n",
    "print(st)"
   ]
  },
  {
   "cell_type": "code",
   "execution_count": 43,
   "metadata": {
    "collapsed": true
   },
   "outputs": [
    {
     "name": "stdout",
     "output_type": "stream",
     "text": [
      "Shipping Cost is $25\n"
     ]
    }
   ],
   "source": [
    "#Nested IF statement\n",
    "total = 100\n",
    "#country = \"US\"\n",
    "country = \"AU\"\n",
    "if country == \"US\":\n",
    "    if total <= 50:\n",
    "        print(\"Shipping Cost is  $50\")\n",
    "elif total <= 100:\n",
    "        print(\"Shipping Cost is $25\")\n",
    "elif total <= 150:\n",
    "\t    print(\"Shipping Costs $5\")\n",
    "else:\n",
    "        print(\"FREE\")\n",
    "if country == \"AU\": \n",
    "\t  if total <= 50:\n",
    "\t    print(\"Shipping Cost is  $100\")\n",
    "else:\n",
    "\t    print(\"FREE\")"
   ]
  },
  {
   "cell_type": "code",
   "execution_count": 44,
   "metadata": {
    "collapsed": true
   },
   "outputs": [
    {
     "ename": "SyntaxError",
     "evalue": "invalid syntax (<ipython-input-44-e66eb62a70a5>, line 2)",
     "output_type": "error",
     "traceback": [
      "\u001b[1;36m  File \u001b[1;32m\"<ipython-input-44-e66eb62a70a5>\"\u001b[1;36m, line \u001b[1;32m2\u001b[0m\n\u001b[1;33m    function(argument){\u001b[0m\n\u001b[1;37m                      ^\u001b[0m\n\u001b[1;31mSyntaxError\u001b[0m\u001b[1;31m:\u001b[0m invalid syntax\n"
     ]
    }
   ],
   "source": [
    "#Switch Statement\n",
    "function(argument){\n",
    "    switch(argument) {\n",
    "        case 0:\n",
    "            return \"This is Case Zero\";\n",
    "        case 1:\n",
    "            return \" This is Case One\";\n",
    "        case 2:\n",
    "            return \" This is Case Two \";\n",
    "        default:\n",
    "            return \"nothing\";\n",
    "    };\n",
    "};"
   ]
  },
  {
   "cell_type": "code",
   "execution_count": null,
   "metadata": {},
   "outputs": [],
   "source": [
    "#Alternative for Switch Statement\n",
    "def SwitchExample(argument):\n",
    "    switcher = {\n",
    "        0: \" This is Case Zero \",\n",
    "        1: \" This is Case One \",\n",
    "        2: \" This is Case Two \",\n",
    "    }\n",
    "    return switcher.get(argument, \"nothing\")"
   ]
  },
  {
   "cell_type": "code",
   "execution_count": 45,
   "metadata": {},
   "outputs": [
    {
     "name": "stdout",
     "output_type": "stream",
     "text": [
      "Line 1 - x is available in the given list\n",
      "Line 2 - y is not available in the given list\n"
     ]
    }
   ],
   "source": [
    "x = 4\n",
    "y = 8\n",
    "list = [1, 2, 3, 4, 5 ];\n",
    "if ( x in list ):\n",
    "   print(\"Line 1 - x is available in the given list\")\n",
    "else:\n",
    "   print(\"Line 1 - x is not available in the given list\")\n",
    "if ( y not in list ):\n",
    "   print(\"Line 2 - y is not available in the given list\")\n",
    "else:\n",
    "   print(\"Line 2 - y is available in the given list\")"
   ]
  },
  {
   "cell_type": "code",
   "execution_count": null,
   "metadata": {},
   "outputs": [],
   "source": []
  }
 ],
 "metadata": {
  "kernelspec": {
   "display_name": "Python 3",
   "language": "python",
   "name": "python3"
  },
  "language_info": {
   "codemirror_mode": {
    "name": "ipython",
    "version": 3
   },
   "file_extension": ".py",
   "mimetype": "text/x-python",
   "name": "python",
   "nbconvert_exporter": "python",
   "pygments_lexer": "ipython3",
   "version": "3.6.5"
  }
 },
 "nbformat": 4,
 "nbformat_minor": 2
}
