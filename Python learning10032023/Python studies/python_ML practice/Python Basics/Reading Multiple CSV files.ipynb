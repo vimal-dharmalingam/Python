{
 "cells": [
  {
   "cell_type": "code",
   "execution_count": null,
   "metadata": {},
   "outputs": [],
   "source": [
    "import pandas as pd\n",
    "import glob\n",
    "# Taken from http://stackoverflow.com/questions/20906474/import-multiple-csv-files-into-pandas-and-concatenate-into-one-dataframe#comment57648172_21232849\n",
    "\n",
    "# Read multiple files into one dataframe\n",
    "allfiles = glob.glob('C:\\Users\\ManagingDirector\\Documents\\ML Implementation\\NLP\\BBC News\\bbc-fulltext\\business/*.txt')\n",
    "df = pd.concat((pd.read_csv(f) for f in allfiles))\n",
    "\n",
    "# Read multiple files into one dataframe whilst adding custom columns\n",
    "\n",
    "def my_csv_reader(path):\n",
    "  d = pd.read_csv(path)\n",
    "  d['Filepath'] = path  # an example of a column to be added to each dataframe\n",
    "  return d\n",
    "\n",
    "allfiles = glob.glob('C:/example_folder/*.csv')\n",
    "df = pd.concat((my_csv_reader(f) for f in allfiles))"
   ]
  }
 ],
 "metadata": {
  "kernelspec": {
   "display_name": "Python 3",
   "language": "python",
   "name": "python3"
  },
  "language_info": {
   "codemirror_mode": {
    "name": "ipython",
    "version": 3
   },
   "file_extension": ".py",
   "mimetype": "text/x-python",
   "name": "python",
   "nbconvert_exporter": "python",
   "pygments_lexer": "ipython3",
   "version": "3.7.3"
  }
 },
 "nbformat": 4,
 "nbformat_minor": 2
}
