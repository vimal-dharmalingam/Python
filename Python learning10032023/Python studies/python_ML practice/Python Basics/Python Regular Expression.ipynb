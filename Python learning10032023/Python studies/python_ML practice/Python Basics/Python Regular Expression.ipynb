{
 "cells": [
  {
   "cell_type": "code",
   "execution_count": null,
   "metadata": {},
   "outputs": [],
   "source": [
    "#Python Regular Expression: re.match(), re.search(), re.findall() \n",
    "#A regular expression in a programming language is a special text string used for describing a search pattern. It is extremely useful for extracting information from text such as code, files, log, spreadsheets or even documents\n",
    "#Text matching\n",
    "#Repetition\n",
    "#Branching\n",
    "#Pattern-composition\n",
    "#Modifiers\n",
    "#Identifiers\n",
    "#White space"
   ]
  },
  {
   "cell_type": "code",
   "execution_count": 1,
   "metadata": {},
   "outputs": [],
   "source": [
    "#\"re\" module included with Python primarily used for string searching and manipulation\n",
    "#Also used frequently for web page \"Scraping\" (extract large amount of data from websites)\n",
    "import re"
   ]
  },
  {
   "cell_type": "code",
   "execution_count": 4,
   "metadata": {},
   "outputs": [
    {
     "name": "stdout",
     "output_type": "stream",
     "text": [
      "['guru99']\n"
     ]
    }
   ],
   "source": [
    "#\"^\": This expression matches the start of a string\n",
    "#\"w+\": This expression matches the alphanumeric character in the string\n",
    "x=\"guru99,education is fun\"\n",
    "r1=re.findall(r\"^\\w+\",x)\n",
    "print(r1)"
   ]
  },
  {
   "cell_type": "code",
   "execution_count": 5,
   "metadata": {
    "collapsed": true
   },
   "outputs": [
    {
     "name": "stdout",
     "output_type": "stream",
     "text": [
      "['g']\n"
     ]
    }
   ],
   "source": [
    "#If remove \"+\", it will give first character of first string\n",
    "x=\"guru99,education is fun\"\n",
    "r1=re.findall(r\"^\\w\",x)\n",
    "print(r1)"
   ]
  },
  {
   "cell_type": "code",
   "execution_count": 6,
   "metadata": {
    "collapsed": true
   },
   "outputs": [
    {
     "name": "stdout",
     "output_type": "stream",
     "text": [
      "['This', 'is', 'my', 'revision', 'of', 're', 'basics']\n"
     ]
    }
   ],
   "source": [
    "#\"s\": This expression is used for creating a space in the string\n",
    "y=\"This is my revision of re basics\"\n",
    "print(re.split(r'\\s',y))"
   ]
  },
  {
   "cell_type": "code",
   "execution_count": 7,
   "metadata": {},
   "outputs": [
    {
     "name": "stdout",
     "output_type": "stream",
     "text": [
      "['Thi', ' i', ' my revi', 'ion of re ba', 'ic', '']\n"
     ]
    }
   ],
   "source": [
    "# if we remove \"\\\" - It will split wherever it finds s\n",
    "y=\"This is my revision of re basics\"\n",
    "print(re.split(r's',y))"
   ]
  },
  {
   "cell_type": "code",
   "execution_count": 8,
   "metadata": {},
   "outputs": [
    {
     "name": "stdout",
     "output_type": "stream",
     "text": [
      "('guru99', 'get')\n",
      "('guru99', 'give')\n"
     ]
    }
   ],
   "source": [
    "#Using regular expression methods\n",
    "#re.match()  - it checks match only in the beggning\n",
    "#re.search() - it checks match in whole string\n",
    "#re.findall()\n",
    "list = [\"guru99 get\",\"guru99 give\",\"guru99 selenium\"]\n",
    "for element in list:\n",
    "    z=re.match(\"(g\\w+)\\W(g\\w+)\", element)\n",
    "    if z:\n",
    "        print(z.groups())"
   ]
  },
  {
   "cell_type": "code",
   "execution_count": 20,
   "metadata": {},
   "outputs": [
    {
     "ename": "SyntaxError",
     "evalue": "invalid syntax (<ipython-input-20-c12550b41356>, line 5)",
     "output_type": "error",
     "traceback": [
      "\u001b[1;36m  File \u001b[1;32m\"<ipython-input-20-c12550b41356>\"\u001b[1;36m, line \u001b[1;32m5\u001b[0m\n\u001b[1;33m    print('Looking for \"%s\" in \"%s\" ->' % (pattern, text), end=\" \")\u001b[0m\n\u001b[1;37m                                                              ^\u001b[0m\n\u001b[1;31mSyntaxError\u001b[0m\u001b[1;31m:\u001b[0m invalid syntax\n"
     ]
    }
   ],
   "source": [
    "#Finding Pattern in Text (re.search())\n",
    "patterns = ['software testing', 'guru99']\n",
    "text = 'software testing is fun?'\n",
    "for pattern in patterns:\n",
    "    print('Looking for \"%s\" in \"%s\" ->' % (pattern, text), end=' ')\n",
    "    if re.search(pattern, text):\n",
    "        print('found a match')\n",
    "    else:\n",
    "        print('no match')"
   ]
  },
  {
   "cell_type": "code",
   "execution_count": 22,
   "metadata": {},
   "outputs": [
    {
     "name": "stdout",
     "output_type": "stream",
     "text": [
      "guru99@google.com\n",
      "careerguru99@hotmail.com\n",
      "users@yahoomail.com\n"
     ]
    }
   ],
   "source": [
    "#Using re.findall for text\n",
    "abc = 'guru99@google.com, careerguru99@hotmail.com, users@yahoomail.com'\n",
    "emails = re.findall(r'[\\w\\.-]+@[\\w\\.-]+', abc)\n",
    "for email in emails:\n",
    "    print(email)"
   ]
  },
  {
   "cell_type": "code",
   "execution_count": 25,
   "metadata": {},
   "outputs": [],
   "source": [
    "#Python Flags\n",
    "#Many Python Regex Methods and Regex functions take an optional argument called Flags. This flags can modify the meaning of the given Regex pattern. To understand these we will see one or two example of these Flags."
   ]
  },
  {
   "cell_type": "code",
   "execution_count": 24,
   "metadata": {},
   "outputs": [
    {
     "name": "stdout",
     "output_type": "stream",
     "text": [
      "['g']\n",
      "['g', 'c', 's']\n"
     ]
    }
   ],
   "source": [
    "xx = \"\"\"guru99 \n",
    "careerguru99\n",
    "selenium\"\"\"\n",
    "k1 = re.findall(r\"^\\w\", xx)\n",
    "k2 = re.findall(r\"^\\w\", xx, re.MULTILINE)\n",
    "print(k1)\n",
    "print(k2)"
   ]
  },
  {
   "cell_type": "code",
   "execution_count": null,
   "metadata": {},
   "outputs": [],
   "source": []
  }
 ],
 "metadata": {
  "kernelspec": {
   "display_name": "Python 3",
   "language": "python",
   "name": "python3"
  },
  "language_info": {
   "codemirror_mode": {
    "name": "ipython",
    "version": 3
   },
   "file_extension": ".py",
   "mimetype": "text/x-python",
   "name": "python",
   "nbconvert_exporter": "python",
   "pygments_lexer": "ipython3",
   "version": "3.6.5"
  }
 },
 "nbformat": 4,
 "nbformat_minor": 2
}
