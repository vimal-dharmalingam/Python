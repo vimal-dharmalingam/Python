{
 "cells": [
  {
   "cell_type": "code",
   "execution_count": 26,
   "metadata": {
    "collapsed": true
   },
   "outputs": [
    {
     "data": {
      "text/plain": [
       "['and',\n",
       " 'as',\n",
       " 'assert',\n",
       " 'break',\n",
       " 'class',\n",
       " 'continue',\n",
       " 'def',\n",
       " 'del',\n",
       " 'elif',\n",
       " 'else',\n",
       " 'except',\n",
       " 'exec',\n",
       " 'finally',\n",
       " 'for',\n",
       " 'from',\n",
       " 'global',\n",
       " 'if',\n",
       " 'import',\n",
       " 'in',\n",
       " 'is',\n",
       " 'lambda',\n",
       " 'not',\n",
       " 'or',\n",
       " 'pass',\n",
       " 'print',\n",
       " 'raise',\n",
       " 'return',\n",
       " 'try',\n",
       " 'while',\n",
       " 'with',\n",
       " 'yield']"
      ]
     },
     "execution_count": 26,
     "metadata": {},
     "output_type": "execute_result"
    }
   ],
   "source": [
    "# Python Keywords\n",
    "#Python keywords, identifiers and variables. These are the basic building blocks of Python programming. Hence, you must know everything about them.\n",
    "#Python keyword is a unique programming term intended to perform some action. There are as many as 33 such keywords in Python, each serving a different purpose. Together, they build the vocabulary of the Python language.\n",
    "#They represent the syntax and structure of a Python program. Since all of them are reserved, so you can’t use their names for defining variables, classes or functions\n",
    "\n",
    "import keyword\n",
    "keyword.kwlist"
   ]
  },
  {
   "cell_type": "code",
   "execution_count": 31,
   "metadata": {},
   "outputs": [
    {
     "data": {
      "text/plain": [
       "True"
      ]
     },
     "execution_count": 31,
     "metadata": {},
     "output_type": "execute_result"
    }
   ],
   "source": [
    "#Testing keyword\n",
    "keyword.iskeyword('and')"
   ]
  },
  {
   "cell_type": "code",
   "execution_count": null,
   "metadata": {},
   "outputs": [],
   "source": [
    "#Python Identifiers - Python Identifiers are user-defined names to represent a variable, function, class, module or any other object. If you assign some name to a programmable entity in Python, then it is nothing but technically called an identifier"
   ]
  },
  {
   "cell_type": "code",
   "execution_count": null,
   "metadata": {},
   "outputs": [],
   "source": [
    "#Python Variables\n",
    "#A variable in Python represents an entity whose value can change as and when required. Conceptually, it is a memory location which holds the actual value. And we can retrieve the value from our code by querying the entity.\n",
    "#But it requires assigning a label to that memory location so that we can reference it. And we call it as a variable in the programming terms\n"
   ]
  },
  {
   "cell_type": "code",
   "execution_count": 29,
   "metadata": {},
   "outputs": [
    {
     "data": {
      "text/plain": [
       "32541056L"
      ]
     },
     "execution_count": 29,
     "metadata": {},
     "output_type": "execute_result"
    }
   ],
   "source": [
    "#Whenever the expression changes, Python associates a new object (a chunk of memory) to the variable for referencing that value. And the old one goes to the garbage collector.\n",
    "test = 10\n",
    "id(test)"
   ]
  },
  {
   "cell_type": "code",
   "execution_count": 30,
   "metadata": {},
   "outputs": [
    {
     "data": {
      "text/plain": [
       "32541032L"
      ]
     },
     "execution_count": 30,
     "metadata": {},
     "output_type": "execute_result"
    }
   ],
   "source": [
    "test = 11\n",
    "id(test)"
   ]
  },
  {
   "cell_type": "code",
   "execution_count": null,
   "metadata": {},
   "outputs": [],
   "source": [
    "#Object - An object is just a region of memory which can hold the following\n",
    "#1)The actual object values.\n",
    "#2)A type designator to reflect the object type.\n",
    "#3)The reference counter which determines when it’s OK to reclaim the object.\n",
    "#4)It’s the object which has a type, not the variable. However, a variable can hold objects of different types as and when required.\n"
   ]
  },
  {
   "cell_type": "markdown",
   "metadata": {},
   "source": [
    "Python Statement, Expression & Indentation"
   ]
  },
  {
   "cell_type": "code",
   "execution_count": null,
   "metadata": {},
   "outputs": [],
   "source": [
    "#Python Statement - A statement in Python is a logical instruction which Python interpreter can read and execute. In Python, it could be an expression or an assignment statement.\n",
    "#The assignment statement is fundamental to Python. It defines the way an expression creates objects and preserve them."
   ]
  },
  {
   "cell_type": "code",
   "execution_count": null,
   "metadata": {},
   "outputs": [],
   "source": [
    "#Python Expression - An expression is a type Python statement which contains a logical sequence of numbers, strings, objects, and operators. The value in itself is a valid expression and so is a variable.\n",
    "#Using expressions, we can perform operations like addition, subtraction, concatenation and so on. It can also have a call to a function which evaluates results."
   ]
  },
  {
   "cell_type": "code",
   "execution_count": 32,
   "metadata": {},
   "outputs": [
    {
     "data": {
      "text/plain": [
       "40"
      ]
     },
     "execution_count": 32,
     "metadata": {},
     "output_type": "execute_result"
    }
   ],
   "source": [
    "# Using Arithmetic expressions\n",
    "((10 + 2) * 100 / 5 - 200)"
   ]
  },
  {
   "cell_type": "code",
   "execution_count": 33,
   "metadata": {},
   "outputs": [
    {
     "data": {
      "text/plain": [
       "1024"
      ]
     },
     "execution_count": 33,
     "metadata": {},
     "output_type": "execute_result"
    }
   ],
   "source": [
    "# Using functions in an expression\n",
    "pow(2, 10)"
   ]
  },
  {
   "cell_type": "code",
   "execution_count": 34,
   "metadata": {},
   "outputs": [
    {
     "data": {
      "text/plain": [
       "5.0"
      ]
     },
     "execution_count": 34,
     "metadata": {},
     "output_type": "execute_result"
    }
   ],
   "source": [
    "# Using eval in an expression\n",
    "eval( \"2.5+2.5\" )"
   ]
  },
  {
   "cell_type": "code",
   "execution_count": 37,
   "metadata": {},
   "outputs": [
    {
     "name": "stdout",
     "output_type": "stream",
     "text": [
      "69063344\n",
      "69066480\n"
     ]
    }
   ],
   "source": [
    "# Same variable will have different memory address\n",
    "test = \"Python for Machine Learning\"\n",
    "print(id(test))\n",
    "test = \"Python for Deep Learning\"\n",
    "print(id(test))"
   ]
  },
  {
   "cell_type": "code",
   "execution_count": 38,
   "metadata": {},
   "outputs": [],
   "source": [
    "#However, Python will also allocate the same memory address in the following two scenarios\n",
    "#1)The strings don’t have whitespaces and contain less than 20 characters.\n",
    "#2)In case of Integers ranging between -5 to +255.\n",
    "#3)This concept is known as Interning. Python does it to save memory."
   ]
  },
  {
   "cell_type": "code",
   "execution_count": 39,
   "metadata": {},
   "outputs": [
    {
     "name": "stdout",
     "output_type": "stream",
     "text": [
      "69117392\n",
      "69119192\n"
     ]
    }
   ],
   "source": [
    "a='HLB'\n",
    "print(id(a))\n",
    "a='TPUSA'\n",
    "print(id(a))"
   ]
  },
  {
   "cell_type": "code",
   "execution_count": 40,
   "metadata": {},
   "outputs": [
    {
     "name": "stdout",
     "output_type": "stream",
     "text": [
      "32541056\n",
      "32541008\n"
     ]
    }
   ],
   "source": [
    "c=10\n",
    "print(id(c))\n",
    "c=12\n",
    "print(id(c))"
   ]
  },
  {
   "cell_type": "code",
   "execution_count": 44,
   "metadata": {},
   "outputs": [
    {
     "data": {
      "text/plain": [
       "10"
      ]
     },
     "execution_count": 44,
     "metadata": {},
     "output_type": "execute_result"
    }
   ],
   "source": [
    "#Augmented Assignment Statement\n",
    "x,y=2,8\n",
    "x+=y\n",
    "x"
   ]
  },
  {
   "cell_type": "code",
   "execution_count": 45,
   "metadata": {},
   "outputs": [
    {
     "data": {
      "text/plain": [
       "(23, 21, 19, 29, 25)"
      ]
     },
     "execution_count": 45,
     "metadata": {},
     "output_type": "execute_result"
    }
   ],
   "source": [
    "my_tuple = (23,21,19)\n",
    "my_tuple +=(29,25)\n",
    "my_tuple"
   ]
  },
  {
   "cell_type": "code",
   "execution_count": 48,
   "metadata": {},
   "outputs": [
    {
     "data": {
      "text/plain": [
       "['a', 'i', 'o', 'u', 'e']"
      ]
     },
     "execution_count": 48,
     "metadata": {},
     "output_type": "execute_result"
    }
   ],
   "source": [
    "list1 = ['a', 'i', 'o', 'u']\n",
    "list1 += ['e',]\n",
    "list1"
   ]
  },
  {
   "cell_type": "code",
   "execution_count": null,
   "metadata": {},
   "outputs": [],
   "source": [
    "#Multiline statement in Python\n",
    "#Usually, every Python statement ends with a newline character. However, we can extend it over to multiple lines using the line continuation character (\\)."
   ]
  },
  {
   "cell_type": "code",
   "execution_count": 50,
   "metadata": {},
   "outputs": [
    {
     "data": {
      "text/plain": [
       "[2, 4, 6, 8, 10, 12, 14, 16, 18, 20]"
      ]
     },
     "execution_count": 50,
     "metadata": {},
     "output_type": "execute_result"
    }
   ],
   "source": [
    "#1)Explicit Line Continuation\n",
    "list2 = [2, 4, 6,\\\n",
    "         8,10,12,14,\\\n",
    "         16,18,20\\\n",
    "        ]\n",
    "list2"
   ]
  },
  {
   "cell_type": "code",
   "execution_count": 52,
   "metadata": {},
   "outputs": [
    {
     "data": {
      "text/plain": [
       "6.0"
      ]
     },
     "execution_count": 52,
     "metadata": {},
     "output_type": "execute_result"
    }
   ],
   "source": [
    "eval(\\\n",
    "    \"2.5\\\n",
    "    +\\\n",
    "    3.5\"\\\n",
    "    )"
   ]
  },
  {
   "cell_type": "code",
   "execution_count": null,
   "metadata": {},
   "outputs": [],
   "source": [
    "#2)Implicit Line Continuation\n",
    "#Implicit line continuation is when you split a statement using either of parentheses ( ), brackets [ ] and braces { }. You need to enclose the target statement using the mentioned construct."
   ]
  },
  {
   "cell_type": "code",
   "execution_count": 53,
   "metadata": {},
   "outputs": [
    {
     "name": "stdout",
     "output_type": "stream",
     "text": [
      "520\n"
     ]
    }
   ],
   "source": [
    "result = (10+100\n",
    "         *5-5\n",
    "         /100+10\n",
    "         )\n",
    "print(result)"
   ]
  },
  {
   "cell_type": "code",
   "execution_count": 54,
   "metadata": {},
   "outputs": [
    {
     "data": {
      "text/plain": [
       "['Maths', 'English', 'Science']"
      ]
     },
     "execution_count": 54,
     "metadata": {},
     "output_type": "execute_result"
    }
   ],
   "source": [
    "subject = [\n",
    "    'Maths',\n",
    "    'English',\n",
    "    'Science'\n",
    "]\n",
    "subject"
   ]
  },
  {
   "cell_type": "markdown",
   "metadata": {},
   "source": [
    "#Python Identation"
   ]
  },
  {
   "cell_type": "code",
   "execution_count": null,
   "metadata": {},
   "outputs": [],
   "source": [
    "#Many of the high-level programming languages like C, C++, C# use braces { } to mark a block of code. Python does it via indentation.\n",
    "#A code block which represents the body of a function or a loop begins with the indentation and ends with the first unindented line."
   ]
  },
  {
   "cell_type": "code",
   "execution_count": null,
   "metadata": {},
   "outputs": [],
   "source": [
    "#How Many Spaces Is An Indent In Python?\n",
    "#Python style guidelines (PEP 8) states that you should keep indent size of four. However, Google has its \\\n",
    "#unique style guideline which limits indenting up to two spaces. So you too can choose a different style, but \\\n",
    "#we recommend to follow the PEP8."
   ]
  },
  {
   "cell_type": "code",
   "execution_count": null,
   "metadata": {},
   "outputs": [],
   "source": [
    "#Why Is Indentation So Crucial In Python?\n",
    "#Most of the programming languages provide indentation for better code formatting and don’t enforce to have it.\n",
    "#However, in Python, it is mandatory to obey the indentation rules. Typically, we indent each line by four spaces \\\n",
    "#(or by the same amount) in a block of code."
   ]
  },
  {
   "cell_type": "code",
   "execution_count": 70,
   "metadata": {},
   "outputs": [],
   "source": [
    "def demo_routine(num):\n",
    "    print('Check Integer Type')\n",
    "    if num%2==0:\n",
    "        return True\n",
    "    else:\n",
    "        return False"
   ]
  },
  {
   "cell_type": "code",
   "execution_count": 71,
   "metadata": {},
   "outputs": [
    {
     "name": "stdout",
     "output_type": "stream",
     "text": [
      "Enter a number:12\n",
      "Check Integer Type\n",
      "(12, 'is even number')\n"
     ]
    }
   ],
   "source": [
    "num = int(input('Enter a number:'))\n",
    "if demo_routine(num) is True:\n",
    "    print(num, 'is even number')\n",
    "else:\n",
    "    print(num, 'is odd number')"
   ]
  },
  {
   "cell_type": "code",
   "execution_count": 72,
   "metadata": {},
   "outputs": [
    {
     "name": "stdout",
     "output_type": "stream",
     "text": [
      "Enter a number:13\n",
      "Check Integer Type\n",
      "(13, 'is odd number')\n"
     ]
    }
   ],
   "source": [
    "num = int(input('Enter a number:'))\n",
    "if demo_routine(num) is True:\n",
    "    print(num, 'is even number')\n",
    "else:\n",
    "    print(num, 'is odd number')"
   ]
  },
  {
   "cell_type": "markdown",
   "metadata": {},
   "source": [
    "Data Types in Python"
   ]
  },
  {
   "cell_type": "code",
   "execution_count": null,
   "metadata": {},
   "outputs": [],
   "source": [
    "#Python data types are just more than that. In Python, we don’t need to declare a variable with explicitly mentioning the data type. This feature is famously known as dynamic typing.\n",
    "#Python determines the type of a literal directly from the syntax at runtime.\n",
    "#Everything including variables, functions, modules in Python is an object. \\\n",
    "#Another interesting fact is that variables don’t have types instead they are just labels in Python. \\\n",
    "#It is the value which gets associated with a type. Hence, the same variable, the label can refer values of different Python data types."
   ]
  },
  {
   "cell_type": "code",
   "execution_count": null,
   "metadata": {},
   "outputs": [],
   "source": [
    "#List of Python Data types\n",
    "#1)Booleans\n",
    "#2)Numbers\n",
    "#3)Strings\n",
    "#4)Bytes\n",
    "#5)Lists\n",
    "#6)Tuples\n",
    "#7)Sets\n",
    "#8)Dictionaries"
   ]
  },
  {
   "cell_type": "code",
   "execution_count": null,
   "metadata": {},
   "outputs": [],
   "source": [
    "#1)Booleans\n",
    "#A boolean is such a data type that almost every programming language has, and so is Python. \\\n",
    "#Boolean in Python can have two values – True or False. These values are constants and can be \\\n",
    "#used to assign or compare boolean values. Follow a simple example given below."
   ]
  },
  {
   "cell_type": "code",
   "execution_count": 73,
   "metadata": {},
   "outputs": [
    {
     "name": "stdout",
     "output_type": "stream",
     "text": [
      "Press cancel and restart the program\n"
     ]
    }
   ],
   "source": [
    "condition = False\n",
    "if condition ==True:\n",
    "    print('Press ok to continue')\n",
    "else:\n",
    "    print('Press cancel and restart the program')"
   ]
  },
  {
   "cell_type": "code",
   "execution_count": 75,
   "metadata": {},
   "outputs": [
    {
     "name": "stdout",
     "output_type": "stream",
     "text": [
      "Press ok to continue\n"
     ]
    }
   ],
   "source": [
    "#While making boolean conditions in Python, we can skip the explicit comparison in our code. And we’ll still get the same behavior.\n",
    "condition = True\n",
    "if condition:\n",
    "    print('Press ok to continue')\n",
    "else:\n",
    "    print('Press cancel and restart the program')"
   ]
  },
  {
   "cell_type": "code",
   "execution_count": null,
   "metadata": {},
   "outputs": [],
   "source": [
    "#The expression in a condition block will yield a boolean value. Python creates boolean contexts to evaluate expressions."
   ]
  },
  {
   "cell_type": "code",
   "execution_count": 76,
   "metadata": {},
   "outputs": [
    {
     "data": {
      "text/plain": [
       "55"
      ]
     },
     "execution_count": 76,
     "metadata": {},
     "output_type": "execute_result"
    }
   ],
   "source": [
    "str = 'Machine Learning can enhance the human life drastically'\n",
    "len(str)"
   ]
  },
  {
   "cell_type": "code",
   "execution_count": 77,
   "metadata": {},
   "outputs": [
    {
     "data": {
      "text/plain": [
       "True"
      ]
     },
     "execution_count": 77,
     "metadata": {},
     "output_type": "execute_result"
    }
   ],
   "source": [
    "len(str)==55"
   ]
  },
  {
   "cell_type": "code",
   "execution_count": null,
   "metadata": {},
   "outputs": [],
   "source": [
    "#In some cases, the boolean constants “True” and “False” might also act as numbers."
   ]
  },
  {
   "cell_type": "code",
   "execution_count": 78,
   "metadata": {},
   "outputs": [
    {
     "name": "stdout",
     "output_type": "stream",
     "text": [
      "(True, False)\n"
     ]
    }
   ],
   "source": [
    "a,b=True,False\n",
    "print(a,b)"
   ]
  },
  {
   "cell_type": "code",
   "execution_count": 81,
   "metadata": {},
   "outputs": [
    {
     "name": "stdout",
     "output_type": "stream",
     "text": [
      "(1, 0)\n",
      "<type 'int'>\n",
      "<type 'int'>\n"
     ]
    }
   ],
   "source": [
    "a,b=True+0,False+0\n",
    "print(a,b)\n",
    "print(type(a))\n",
    "print(type(b))"
   ]
  },
  {
   "cell_type": "markdown",
   "metadata": {},
   "source": [
    "2) Numbers"
   ]
  },
  {
   "cell_type": "code",
   "execution_count": null,
   "metadata": {},
   "outputs": [],
   "source": [
    "#Numbers are one of the most prominent Python data types. Unlike many languages \\\n",
    "#which have only integers and floats, Python introduces complex as a new type of numbers"
   ]
  },
  {
   "cell_type": "code",
   "execution_count": null,
   "metadata": {},
   "outputs": [],
   "source": [
    "#The numbers in Python are classified using the following keywords.\n",
    "#int, float, and complex"
   ]
  },
  {
   "cell_type": "code",
   "execution_count": null,
   "metadata": {},
   "outputs": [],
   "source": [
    "#Python has a built-in function type() to determine the data type of a variable or the value\n",
    "#Another built-in function isinstance() is there for testing the type of an object\n",
    "#In Python, we can add a “j” or “J” after a number to make it imaginary or complex"
   ]
  },
  {
   "cell_type": "code",
   "execution_count": 88,
   "metadata": {},
   "outputs": [
    {
     "name": "stdout",
     "output_type": "stream",
     "text": [
      "('The number (', 10, ') is of type', <type 'int'>)\n"
     ]
    }
   ],
   "source": [
    "num=10\n",
    "print(\"The number (\", num, \") is of type\", type(num))"
   ]
  },
  {
   "cell_type": "code",
   "execution_count": 89,
   "metadata": {},
   "outputs": [
    {
     "name": "stdout",
     "output_type": "stream",
     "text": [
      "('The number (', (3+5j), ') is of type', <type 'complex'>)\n"
     ]
    }
   ],
   "source": [
    "#Complex Number\n",
    "num = 3+5j\n",
    "print(\"The number (\", num, \") is of type\", type(num))"
   ]
  },
  {
   "cell_type": "code",
   "execution_count": 90,
   "metadata": {},
   "outputs": [
    {
     "data": {
      "text/plain": [
       "(1.3+2j)"
      ]
     },
     "execution_count": 90,
     "metadata": {},
     "output_type": "execute_result"
    }
   ],
   "source": [
    "complex(1.3,2)"
   ]
  },
  {
   "cell_type": "code",
   "execution_count": 91,
   "metadata": {},
   "outputs": [
    {
     "data": {
      "text/plain": [
       "27"
      ]
     },
     "execution_count": 91,
     "metadata": {},
     "output_type": "execute_result"
    }
   ],
   "source": [
    "#Intiger\n",
    "num = 123456789\n",
    "num.bit_length()"
   ]
  },
  {
   "cell_type": "code",
   "execution_count": null,
   "metadata": {},
   "outputs": [],
   "source": [
    "#A float type number can have precision up to 15 decimal places."
   ]
  },
  {
   "cell_type": "markdown",
   "metadata": {},
   "source": [
    "3) String - The strings in Python are immutable. It means the memory will be allocated once and re-used thereafter"
   ]
  },
  {
   "cell_type": "code",
   "execution_count": null,
   "metadata": {},
   "outputs": [],
   "source": [
    "#A sequence of one or more characters enclosed within either single quotes ‘ or double quotes ” is considered as String in Python. \\\n",
    "#Any letter, a number or a symbol could be a part of the sting.\n",
    "#Python also supports multi-line strings which require a triple quotation mark at the start and one at the end."
   ]
  },
  {
   "cell_type": "code",
   "execution_count": 92,
   "metadata": {},
   "outputs": [
    {
     "data": {
      "text/plain": [
       "'Neural networ is applied when we have complex data'"
      ]
     },
     "execution_count": 92,
     "metadata": {},
     "output_type": "execute_result"
    }
   ],
   "source": [
    "str = 'Neural networ is applied when we have complex data'\n",
    "str"
   ]
  },
  {
   "cell_type": "code",
   "execution_count": 93,
   "metadata": {},
   "outputs": [
    {
     "data": {
      "text/plain": [
       "'Neural networ is applied when we have complex data'"
      ]
     },
     "execution_count": 93,
     "metadata": {},
     "output_type": "execute_result"
    }
   ],
   "source": [
    "str = \"Neural networ is applied when we have complex data\"\n",
    "str"
   ]
  },
  {
   "cell_type": "code",
   "execution_count": 94,
   "metadata": {},
   "outputs": [
    {
     "data": {
      "text/plain": [
       "'Neural networ is applied when we have complex data'"
      ]
     },
     "execution_count": 94,
     "metadata": {},
     "output_type": "execute_result"
    }
   ],
   "source": [
    "str = '''Neural networ is applied when we have complex data'''\n",
    "str"
   ]
  },
  {
   "cell_type": "code",
   "execution_count": 95,
   "metadata": {},
   "outputs": [
    {
     "data": {
      "text/plain": [
       "'Neural networ is applied \\nwhen we have \\ncomplex data'"
      ]
     },
     "execution_count": 95,
     "metadata": {},
     "output_type": "execute_result"
    }
   ],
   "source": [
    "str = '''Neural networ is applied \n",
    "when we have \n",
    "complex data'''\n",
    "str"
   ]
  },
  {
   "cell_type": "code",
   "execution_count": 96,
   "metadata": {},
   "outputs": [],
   "source": [
    "string = str"
   ]
  },
  {
   "cell_type": "code",
   "execution_count": 97,
   "metadata": {},
   "outputs": [
    {
     "name": "stdout",
     "output_type": "stream",
     "text": [
      "68986552\n",
      "68986552\n"
     ]
    }
   ],
   "source": [
    "print(id(str))\n",
    "print(id(string))"
   ]
  },
  {
   "cell_type": "markdown",
   "metadata": {},
   "source": [
    "#4) Bytes"
   ]
  },
  {
   "cell_type": "code",
   "execution_count": null,
   "metadata": {},
   "outputs": [],
   "source": [
    "#The byte is an immutable type in Python. It can store a sequence of bytes (each 8-bits) ranging from 0 to 255. \\\n",
    "#Similar to an array, we can fetch the value of a single byte by using the index. But we can not modify the value."
   ]
  },
  {
   "cell_type": "code",
   "execution_count": null,
   "metadata": {},
   "outputs": [],
   "source": [
    "#Difference between Byte and string\n",
    "#Byte objects contain a sequence of bytes whereas the strings store sequence of characters.\n",
    "#The bytes are machine-readable objects whereas the strings are just in human-readable form.\n",
    "#Since the byte is machine-readable, so they can be directly stored to the disk. Whereas, the strings first need to encoded before getting on to the disk."
   ]
  },
  {
   "cell_type": "code",
   "execution_count": 100,
   "metadata": {},
   "outputs": [
    {
     "name": "stdout",
     "output_type": "stream",
     "text": [
      "<type 'str'>\n",
      "16\n"
     ]
    }
   ],
   "source": [
    "empty_object = bytes(16)\n",
    "print(type(empty_object))\n",
    "print(empty_object)"
   ]
  },
  {
   "cell_type": "code",
   "execution_count": null,
   "metadata": {},
   "outputs": [],
   "source": [
    "#5) List"
   ]
  },
  {
   "cell_type": "code",
   "execution_count": null,
   "metadata": {},
   "outputs": [],
   "source": [
    "#Python list is an array like construct which stores arbitrarily typed objects in an ordered sequence. \\\n",
    "#It is very flexible and does not have a fixed size. \\\n",
    "#Index in a list begins with zero in Python.\\\n",
    "#It is a heterogeneous collection of items of varied data types\\\n",
    "#Lists in Python can be declared by placing elements inside square brackets separated by commas.\\\n",
    "#List objects are mutable. Python allows modifying a list or its elements via assignments as well as through the built-in list methods."
   ]
  },
  {
   "cell_type": "code",
   "execution_count": 104,
   "metadata": {},
   "outputs": [
    {
     "name": "stdout",
     "output_type": "stream",
     "text": [
      "[21, 9, 'a', 10, 'e', 13, 2.12, (3+5j)]\n",
      "<type 'list'>\n"
     ]
    }
   ],
   "source": [
    "list1 = [21,9,'a',10,'e',13, 2.12, 3+5j]\n",
    "print(list1)\n",
    "print(type(list1))"
   ]
  },
  {
   "cell_type": "code",
   "execution_count": 142,
   "metadata": {},
   "outputs": [
    {
     "data": {
      "text/plain": [
       "'e'"
      ]
     },
     "execution_count": 142,
     "metadata": {},
     "output_type": "execute_result"
    }
   ],
   "source": [
    "list2 = "
   ]
  },
  {
   "cell_type": "code",
   "execution_count": 144,
   "metadata": {},
   "outputs": [
    {
     "ename": "TypeError",
     "evalue": "no ordering relation is defined for complex numbers",
     "output_type": "error",
     "traceback": [
      "\u001b[1;31m---------------------------------------------------------------------------\u001b[0m",
      "\u001b[1;31mTypeError\u001b[0m                                 Traceback (most recent call last)",
      "\u001b[1;32m<ipython-input-144-337c02bd43f2>\u001b[0m in \u001b[0;36m<module>\u001b[1;34m()\u001b[0m\n\u001b[1;32m----> 1\u001b[1;33m \u001b[0mmin\u001b[0m\u001b[1;33m(\u001b[0m\u001b[0mlist1\u001b[0m\u001b[1;33m)\u001b[0m\u001b[1;33m\u001b[0m\u001b[0m\n\u001b[0m",
      "\u001b[1;31mTypeError\u001b[0m: no ordering relation is defined for complex numbers"
     ]
    }
   ],
   "source": [
    "min(list1)"
   ]
  },
  {
   "cell_type": "code",
   "execution_count": 140,
   "metadata": {},
   "outputs": [
    {
     "name": "stdout",
     "output_type": "stream",
     "text": [
      "[9, 'a', 10, 'e']\n",
      "[10, 'e']\n",
      "['a', 10, 'e', 13, 2.12, (3+5j)]\n",
      "[21, 9, 'a']\n",
      "[(3+5j), 2.12, 13, 'e', 10, 'a', 9, 21]\n",
      "3\n"
     ]
    }
   ],
   "source": [
    "#slicing list\n",
    "print(list1[1:5])\n",
    "print(list1[3:5])\n",
    "print(list1[2:])\n",
    "print(list1[:3])\n",
    "#Reverse List\n",
    "print(list1[::-1])\n",
    "print(nested[2][0]) # slicing a nested list create down"
   ]
  },
  {
   "cell_type": "code",
   "execution_count": 109,
   "metadata": {},
   "outputs": [
    {
     "data": {
      "text/plain": [
       "69166792L"
      ]
     },
     "execution_count": 109,
     "metadata": {},
     "output_type": "execute_result"
    }
   ],
   "source": [
    "simpleton = ['Learn', 'Python', '2']\n",
    "id(simpleton)"
   ]
  },
  {
   "cell_type": "code",
   "execution_count": 110,
   "metadata": {},
   "outputs": [],
   "source": [
    "#edit list simpleton\n",
    "simpleton[2] = '3'"
   ]
  },
  {
   "cell_type": "code",
   "execution_count": 112,
   "metadata": {},
   "outputs": [
    {
     "name": "stdout",
     "output_type": "stream",
     "text": [
      "['Learn', 'Python', '3']\n",
      "69166792\n"
     ]
    }
   ],
   "source": [
    "print(simpleton)\n",
    "print(id(simpleton))"
   ]
  },
  {
   "cell_type": "code",
   "execution_count": 16,
   "metadata": {},
   "outputs": [],
   "source": [
    "#Interestingly, a list can contain another list. Such a list is called as the nested list.\n",
    "nested = [[1,1,1], [2,2,2], [3,3,3]]"
   ]
  },
  {
   "cell_type": "code",
   "execution_count": 17,
   "metadata": {},
   "outputs": [
    {
     "name": "stdout",
     "output_type": "stream",
     "text": [
      "71981064\n",
      "69477192\n",
      "64962120\n"
     ]
    }
   ],
   "source": [
    "for i in nested:\n",
    "    print id(i)"
   ]
  },
  {
   "cell_type": "code",
   "execution_count": 18,
   "metadata": {},
   "outputs": [
    {
     "data": {
      "text/plain": [
       "[[1, 1, 1], [2, 2, 2], [3, 3, 3], [4, 4, 4]]"
      ]
     },
     "execution_count": 18,
     "metadata": {},
     "output_type": "execute_result"
    }
   ],
   "source": [
    "nested.extend([[4,4,4]])\n",
    "nested"
   ]
  },
  {
   "cell_type": "code",
   "execution_count": 19,
   "metadata": {},
   "outputs": [
    {
     "data": {
      "text/plain": [
       "[[1, 1, 1], [2, 2, 2], [3, 3, 3], [4, 4, 4], [5, 5, 5]]"
      ]
     },
     "execution_count": 19,
     "metadata": {},
     "output_type": "execute_result"
    }
   ],
   "source": [
    "nested.insert(7,[5,5,5])\n",
    "nested"
   ]
  },
  {
   "cell_type": "code",
   "execution_count": 20,
   "metadata": {},
   "outputs": [
    {
     "data": {
      "text/plain": [
       "[[1, 1, 1], [2, 2, 2], [3, 3, 3], [4, 4, 4], [5, 5, 5], [6, 6, 6]]"
      ]
     },
     "execution_count": 20,
     "metadata": {},
     "output_type": "execute_result"
    }
   ],
   "source": [
    "nested.append([6,6,6])\n",
    "nested"
   ]
  },
  {
   "cell_type": "code",
   "execution_count": 23,
   "metadata": {},
   "outputs": [
    {
     "data": {
      "text/plain": [
       "[[1, 1, 1, 2], [2, 2, 2], [3, 3, 3], [4, 4, 4], [5, 5, 5], [6, 6, 6]]"
      ]
     },
     "execution_count": 23,
     "metadata": {},
     "output_type": "execute_result"
    }
   ],
   "source": [
    "nested[0].append(2)\n",
    "nested"
   ]
  },
  {
   "cell_type": "code",
   "execution_count": 122,
   "metadata": {},
   "outputs": [
    {
     "name": "stdout",
     "output_type": "stream",
     "text": [
      "[1, 1, 1]\n",
      "[1, 1, 1]\n",
      "[1, 1, 1]\n",
      "[2, 2, 2]\n",
      "[2, 2, 2]\n",
      "[2, 2, 2]\n",
      "[3, 3, 3]\n",
      "[3, 3, 3]\n",
      "[3, 3, 3]\n"
     ]
    }
   ],
   "source": [
    "for i in nested:\n",
    "    for j in i:\n",
    "        print(i)  #print(i, end=' ') this does not work"
   ]
  },
  {
   "cell_type": "code",
   "execution_count": null,
   "metadata": {},
   "outputs": [],
   "source": [
    "#6) Tuples\n",
    "#A tuple is a heterogeneous collection of Python objects separated by commas. \\\n",
    "#It means objects of different data types can co-exist in a tuple. \\\n",
    "#The tuple and a list are somewhat similar as they share the following traits."
   ]
  },
  {
   "cell_type": "code",
   "execution_count": null,
   "metadata": {},
   "outputs": [],
   "source": [
    "#similarity between Tuples and List\n",
    "#Both objects are an ordered sequence.\n",
    "#They enable indexing and repetition.\n",
    "#Nesting is allowed.\n",
    "#They can store values of different types"
   ]
  },
  {
   "cell_type": "code",
   "execution_count": null,
   "metadata": {},
   "outputs": [],
   "source": [
    "#sytax - Define a tuple using enclosing parentheses () having its elements separated by commas inside."
   ]
  },
  {
   "cell_type": "code",
   "execution_count": 26,
   "metadata": {},
   "outputs": [
    {
     "data": {
      "text/plain": [
       "(3, 5, 7, 9)"
      ]
     },
     "execution_count": 26,
     "metadata": {},
     "output_type": "execute_result"
    }
   ],
   "source": [
    "tuple1 = (3, 5, 7, 9)\n",
    "tuple1"
   ]
  },
  {
   "cell_type": "code",
   "execution_count": 27,
   "metadata": {},
   "outputs": [
    {
     "data": {
      "text/plain": [
       "('Neural Network', 'XGboost')"
      ]
     },
     "execution_count": 27,
     "metadata": {},
     "output_type": "execute_result"
    }
   ],
   "source": [
    "tuple2 = ('Neural Network', 'XGboost')\n",
    "tuple2"
   ]
  },
  {
   "cell_type": "code",
   "execution_count": 28,
   "metadata": {},
   "outputs": [
    {
     "data": {
      "text/plain": [
       "((3, 5, 7, 9), ('Neural Network', 'XGboost'))"
      ]
     },
     "execution_count": 28,
     "metadata": {},
     "output_type": "execute_result"
    }
   ],
   "source": [
    "#Nested tuple\n",
    "tuple3 = (tuple1, tuple2)\n",
    "tuple3"
   ]
  },
  {
   "cell_type": "code",
   "execution_count": 29,
   "metadata": {},
   "outputs": [
    {
     "data": {
      "text/plain": [
       "(3, 5, 7, 9, 3, 5, 7, 9, 3, 5, 7, 9)"
      ]
     },
     "execution_count": 29,
     "metadata": {},
     "output_type": "execute_result"
    }
   ],
   "source": [
    "#Repition in Tuple\n",
    "tuple4 = tuple1*3\n",
    "tuple4"
   ]
  },
  {
   "cell_type": "code",
   "execution_count": 30,
   "metadata": {},
   "outputs": [
    {
     "data": {
      "text/plain": [
       "(9, 7, 5, 3, 9, 7, 5, 3, 9, 7, 5, 3)"
      ]
     },
     "execution_count": 30,
     "metadata": {},
     "output_type": "execute_result"
    }
   ],
   "source": [
    "#Reverse tuple\n",
    "tuple5 = tuple4[::-1]\n",
    "tuple5"
   ]
  },
  {
   "cell_type": "code",
   "execution_count": null,
   "metadata": {},
   "outputs": [],
   "source": [
    "#How Does A Tuple Differ From The List?\n",
    "#Tuples do differ a bit from the list as they are immutable. Python does not allow to modify a tuple after it is created. \n",
    "#We can not add or remove any element later. \n",
    "#Instead, Python expects us to create a new one with the updated sequence of elements."
   ]
  },
  {
   "cell_type": "code",
   "execution_count": null,
   "metadata": {},
   "outputs": [],
   "source": [
    "#What If A Tuple Has Mutable Objects As Elements?\n",
    "#Here, comes the surprise. Modifying a tuple is forbidden. But Python doesn’t enforce it on the elements. \n",
    "#It means we can update them if they are mutable objects."
   ]
  },
  {
   "cell_type": "code",
   "execution_count": 31,
   "metadata": {},
   "outputs": [
    {
     "data": {
      "text/plain": [
       "((3, 5, 7, 9), ('Neural Network', 'XGboost'))"
      ]
     },
     "execution_count": 31,
     "metadata": {},
     "output_type": "execute_result"
    }
   ],
   "source": [
    "tuple3"
   ]
  },
  {
   "cell_type": "code",
   "execution_count": 32,
   "metadata": {},
   "outputs": [
    {
     "data": {
      "text/plain": [
       "5"
      ]
     },
     "execution_count": 32,
     "metadata": {},
     "output_type": "execute_result"
    }
   ],
   "source": [
    "tuple3[0][1]"
   ]
  },
  {
   "cell_type": "code",
   "execution_count": 33,
   "metadata": {
    "collapsed": true
   },
   "outputs": [
    {
     "ename": "AttributeError",
     "evalue": "'tuple' object has no attribute 'append'",
     "output_type": "error",
     "traceback": [
      "\u001b[1;31m---------------------------------------------------------------------------\u001b[0m",
      "\u001b[1;31mAttributeError\u001b[0m                            Traceback (most recent call last)",
      "\u001b[1;32m<ipython-input-33-c725ec69d477>\u001b[0m in \u001b[0;36m<module>\u001b[1;34m()\u001b[0m\n\u001b[1;32m----> 1\u001b[1;33m \u001b[0mtuple3\u001b[0m\u001b[1;33m[\u001b[0m\u001b[1;36m1\u001b[0m\u001b[1;33m]\u001b[0m\u001b[1;33m.\u001b[0m\u001b[0mappend\u001b[0m\u001b[1;33m(\u001b[0m\u001b[1;36m101\u001b[0m\u001b[1;33m)\u001b[0m\u001b[1;33m\u001b[0m\u001b[0m\n\u001b[0m",
      "\u001b[1;31mAttributeError\u001b[0m: 'tuple' object has no attribute 'append'"
     ]
    }
   ],
   "source": [
    "tuple3[1].append(101) # it throws error as tumples are immutable"
   ]
  },
  {
   "cell_type": "markdown",
   "metadata": {},
   "source": [
    "Why Need A Tuple As One Of The Python Data Types?"
   ]
  },
  {
   "cell_type": "code",
   "execution_count": null,
   "metadata": {},
   "outputs": [],
   "source": [
    "#Python uses tuples to return multiple values from a function.\n",
    "#Tuples are more lightweight than lists.\n",
    "#It works as a single container to stuff multiple things.\n",
    "#We can use them as a key in a dictionary."
   ]
  },
  {
   "cell_type": "code",
   "execution_count": null,
   "metadata": {},
   "outputs": [],
   "source": [
    "#7) Set\n",
    "#Amongst all the Python data types, the set is one which supports mathematical operations like union, intersection, \\\n",
    "#symmetric difference etc.\n",
    "#A set is an unordered collection of unique and immutable objects. \\\n",
    "#Its definition starts with enclosing braces { } having its items separated by commas inside\n",
    "#Since the set derives its implementation from the “Set” in mathematics, \\\n",
    "#so it can’t have multiple occurrences of the same element."
   ]
  },
  {
   "cell_type": "code",
   "execution_count": null,
   "metadata": {},
   "outputs": [],
   "source": [
    "#Why need set\n",
    "#The set type has a significant advantage over a list. \n",
    "#It implements a highly optimized method that checks whether the container hosts a specific element or not. \n",
    "#The mechanism used here is based on a data structure known as a hash table."
   ]
  },
  {
   "cell_type": "markdown",
   "metadata": {},
   "source": [
    "#To create a set, call the built-in set() function with a sequence or any iterable object."
   ]
  },
  {
   "cell_type": "code",
   "execution_count": 35,
   "metadata": {},
   "outputs": [
    {
     "data": {
      "text/plain": [
       "{' ', 'P', 'a', 'd', 'e', 'h', 'n', 'o', 'p', 's', 't', 'y'}"
      ]
     },
     "execution_count": 35,
     "metadata": {},
     "output_type": "execute_result"
    }
   ],
   "source": [
    "set1 = set(\"Python data types\")\n",
    "set1"
   ]
  },
  {
   "cell_type": "code",
   "execution_count": null,
   "metadata": {},
   "outputs": [],
   "source": [
    "#Another simpler way is to specify the elements enclosed in curly braces {}"
   ]
  },
  {
   "cell_type": "code",
   "execution_count": 36,
   "metadata": {},
   "outputs": [
    {
     "data": {
      "text/plain": [
       "{'black', 'green', 'red'}"
      ]
     },
     "execution_count": 36,
     "metadata": {},
     "output_type": "execute_result"
    }
   ],
   "source": [
    "set2 = {'red', 'green', 'black'}\n",
    "set2"
   ]
  },
  {
   "cell_type": "code",
   "execution_count": null,
   "metadata": {},
   "outputs": [],
   "source": [
    "#Frozen Set\n",
    "#A frozen set is a processed form of the traditional set. \n",
    "#It is immutable and only supports methods and operators that executes without altering the frozen set used in the context."
   ]
  },
  {
   "cell_type": "code",
   "execution_count": 38,
   "metadata": {},
   "outputs": [
    {
     "data": {
      "text/plain": [
       "frozenset"
      ]
     },
     "execution_count": 38,
     "metadata": {},
     "output_type": "execute_result"
    }
   ],
   "source": [
    "cities = {\"New York City\", \"Saint Petersburg\", \"London\", \"Munich\", \"Paris\"}\n",
    "fset = frozenset(cities)\n",
    "type(fset)"
   ]
  },
  {
   "cell_type": "markdown",
   "metadata": {},
   "source": [
    "#Dictionaries"
   ]
  },
  {
   "cell_type": "code",
   "execution_count": null,
   "metadata": {},
   "outputs": [],
   "source": [
    "#A dictionary in Python is an unordered collection of key-value pairs. \n",
    "#It’s a built-in mapping type in Python where keys map to values. \n",
    "#These key-value pairs provide an intuitive way to store data."
   ]
  },
  {
   "cell_type": "code",
   "execution_count": null,
   "metadata": {},
   "outputs": [],
   "source": [
    "# Why need dictionary\n",
    "#The dictionary solves the problem of efficiently storing a large data set. \n",
    "#Python has made the dictionary object highly optimized for retrieving data."
   ]
  },
  {
   "cell_type": "code",
   "execution_count": null,
   "metadata": {},
   "outputs": [],
   "source": [
    "#Python syntax for creating dictionaries use braces {} where each item appears as a pair of keys and values. \n",
    "#The key and value can be of any Python data types."
   ]
  },
  {
   "cell_type": "code",
   "execution_count": 39,
   "metadata": {},
   "outputs": [
    {
     "data": {
      "text/plain": [
       "{'feb': 28, 'jan': 31, 'key': 'value', 'mar': 31}"
      ]
     },
     "execution_count": 39,
     "metadata": {},
     "output_type": "execute_result"
    }
   ],
   "source": [
    "dict1 = {'key':'value', 'jan':31, 'feb':28, 'mar':31}\n",
    "dict1"
   ]
  },
  {
   "cell_type": "code",
   "execution_count": null,
   "metadata": {},
   "outputs": [],
   "source": [
    "#Accessing Dictionaries Elements With Keys\n",
    "#Dictionaries act like a database. Here, we don’t use a number to get a particular index value as we do with a list. \n",
    "#Instead, we replace it with a key and then use the key to fetch its value."
   ]
  },
  {
   "cell_type": "code",
   "execution_count": null,
   "metadata": {},
   "outputs": [],
   "source": [
    "#Dictionaries Methods To Access Elements\n",
    "#keys() – It isolates the keys from a dictionary.\n",
    "#values() – It isolates the values from a dictionary.\n",
    "#items() – It returns the items in a list style of (key, value) pairs."
   ]
  },
  {
   "cell_type": "code",
   "execution_count": 40,
   "metadata": {},
   "outputs": [
    {
     "data": {
      "text/plain": [
       "['jan', 'mar', 'feb', 'key']"
      ]
     },
     "execution_count": 40,
     "metadata": {},
     "output_type": "execute_result"
    }
   ],
   "source": [
    "dict1.keys()"
   ]
  },
  {
   "cell_type": "code",
   "execution_count": 41,
   "metadata": {},
   "outputs": [
    {
     "data": {
      "text/plain": [
       "[31, 31, 28, 'value']"
      ]
     },
     "execution_count": 41,
     "metadata": {},
     "output_type": "execute_result"
    }
   ],
   "source": [
    "dict1.values()"
   ]
  },
  {
   "cell_type": "code",
   "execution_count": 42,
   "metadata": {},
   "outputs": [
    {
     "data": {
      "text/plain": [
       "[('jan', 31), ('mar', 31), ('feb', 28), ('key', 'value')]"
      ]
     },
     "execution_count": 42,
     "metadata": {},
     "output_type": "execute_result"
    }
   ],
   "source": [
    "dict1.items()"
   ]
  },
  {
   "cell_type": "code",
   "execution_count": 43,
   "metadata": {},
   "outputs": [
    {
     "data": {
      "text/plain": [
       "{'feb': 28, 'jan': 31, 'key': 'value', 'mar': 27}"
      ]
     },
     "execution_count": 43,
     "metadata": {},
     "output_type": "execute_result"
    }
   ],
   "source": [
    "#Modifying a disctionary - Add/update/delete\n",
    "dict1['mar'] = 27\n",
    "dict1"
   ]
  },
  {
   "cell_type": "code",
   "execution_count": 44,
   "metadata": {},
   "outputs": [
    {
     "data": {
      "text/plain": [
       "{'apr': 33, 'feb': 28, 'jan': 31, 'key': 'value', 'mar': 27}"
      ]
     },
     "execution_count": 44,
     "metadata": {},
     "output_type": "execute_result"
    }
   ],
   "source": [
    "dict1.update({'apr':33})\n",
    "dict1"
   ]
  },
  {
   "cell_type": "code",
   "execution_count": 45,
   "metadata": {},
   "outputs": [
    {
     "data": {
      "text/plain": [
       "{'apr': 33, 'feb': 28, 'key': 'value', 'mar': 27}"
      ]
     },
     "execution_count": 45,
     "metadata": {},
     "output_type": "execute_result"
    }
   ],
   "source": [
    "del dict1['jan']\n",
    "dict1"
   ]
  },
  {
   "cell_type": "markdown",
   "metadata": {},
   "source": [
    "String"
   ]
  },
  {
   "cell_type": "code",
   "execution_count": 4,
   "metadata": {},
   "outputs": [
    {
     "name": "stdout",
     "output_type": "stream",
     "text": [
      "Neural Networks performs well with complex data and Decision Tree performs well with simple data\n"
     ]
    }
   ],
   "source": [
    "#Concatenation\n",
    "var1 = 'Neural Networks performs well with complex data'\n",
    "var2 = 'Decision Tree performs well with simple data'\n",
    "print(var1 +' '+'and'+' '+ var2)"
   ]
  },
  {
   "cell_type": "code",
   "execution_count": 9,
   "metadata": {},
   "outputs": [
    {
     "name": "stdout",
     "output_type": "stream",
     "text": [
      "141\n"
     ]
    }
   ],
   "source": [
    "#Repetition\n",
    "var3=var1*3\n",
    "print(len(var1*3))"
   ]
  },
  {
   "cell_type": "code",
   "execution_count": 12,
   "metadata": {},
   "outputs": [
    {
     "name": "stdout",
     "output_type": "stream",
     "text": [
      "Neural Networks performs well with complex data\n",
      "a\n"
     ]
    }
   ],
   "source": [
    "#Slicing[0:47]\n",
    "print(var3[0:47])\n",
    "print(var3[4])"
   ]
  },
  {
   "cell_type": "code",
   "execution_count": 13,
   "metadata": {},
   "outputs": [
    {
     "name": "stdout",
     "output_type": "stream",
     "text": [
      "True\n"
     ]
    }
   ],
   "source": [
    "#Member ship\n",
    "print('Neural' in var3)"
   ]
  },
  {
   "cell_type": "code",
   "execution_count": 18,
   "metadata": {
    "collapsed": true
   },
   "outputs": [
    {
     "name": "stdout",
     "output_type": "stream",
     "text": [
      "N\n",
      "e\n",
      "u\n",
      "r\n",
      "a\n",
      "l\n",
      " \n",
      "N\n",
      "e\n",
      "t\n",
      "w\n",
      "o\n",
      "r\n",
      "k\n",
      "s\n",
      " \n",
      "p\n",
      "e\n",
      "r\n",
      "f\n",
      "o\n",
      "r\n",
      "m\n",
      "s\n",
      " \n",
      "w\n",
      "e\n",
      "l\n",
      "l\n",
      " \n",
      "w\n",
      "i\n",
      "t\n",
      "h\n",
      " \n",
      "c\n",
      "o\n",
      "m\n",
      "p\n",
      "l\n",
      "e\n",
      "x\n",
      " \n",
      "d\n",
      "a\n",
      "t\n",
      "a\n",
      "N\n",
      "e\n",
      "u\n",
      "r\n",
      "a\n",
      "l\n",
      " \n",
      "N\n",
      "e\n",
      "t\n",
      "w\n",
      "o\n",
      "r\n",
      "k\n",
      "s\n",
      " \n",
      "p\n",
      "e\n",
      "r\n",
      "f\n",
      "o\n",
      "r\n",
      "m\n",
      "s\n",
      " \n",
      "w\n",
      "e\n",
      "l\n",
      "l\n",
      " \n",
      "w\n",
      "i\n",
      "t\n",
      "h\n",
      " \n",
      "c\n",
      "o\n",
      "m\n",
      "p\n",
      "l\n",
      "e\n",
      "x\n",
      " \n",
      "d\n",
      "a\n",
      "t\n",
      "a\n",
      "N\n",
      "e\n",
      "u\n",
      "r\n",
      "a\n",
      "l\n",
      " \n",
      "N\n",
      "e\n",
      "t\n",
      "w\n",
      "o\n",
      "r\n",
      "k\n",
      "s\n",
      " \n",
      "p\n",
      "e\n",
      "r\n",
      "f\n",
      "o\n",
      "r\n",
      "m\n",
      "s\n",
      " \n",
      "w\n",
      "e\n",
      "l\n",
      "l\n",
      " \n",
      "w\n",
      "i\n",
      "t\n",
      "h\n",
      " \n",
      "c\n",
      "o\n",
      "m\n",
      "p\n",
      "l\n",
      "e\n",
      "x\n",
      " \n",
      "d\n",
      "a\n",
      "t\n",
      "a\n"
     ]
    }
   ],
   "source": [
    "#Iterating\n",
    "for i in var3:\n",
    "    print(i) #print(i, end='') does not work in my python version"
   ]
  },
  {
   "cell_type": "code",
   "execution_count": 20,
   "metadata": {},
   "outputs": [
    {
     "name": "stdout",
     "output_type": "stream",
     "text": [
      "\\n\n",
      "\\n\n"
     ]
    }
   ],
   "source": [
    "# Raw String: We can use it to ignore the actual meaning of Escape characters inside a string. For this, we add ‘r’ or ‘R’ in front of the String.\n",
    "print (r'\\n')\n",
    "print (R'\\n')"
   ]
  },
  {
   "cell_type": "code",
   "execution_count": null,
   "metadata": {},
   "outputs": [],
   "source": [
    "#String Formatting Operators In Python\n",
    "#An Escape sequence starts with a backslash (\\) which signals the compiler to treat it differently. \\\n",
    "#Python subsystem automatically interprets an escape sequence irrespective of it is in a single quoted or double quoted Strings."
   ]
  },
  {
   "cell_type": "code",
   "execution_count": null,
   "metadata": {},
   "outputs": [],
   "source": [
    "#Example - Suppose we have a string like – Python is a “widely” used language.\n",
    "         - #The double-quote around the word “widely” disguise python that the String ends up there.\n",
    "         - #We need a way to tell Python that the double-quotes inside the string are not the string markup quotes"
   ]
  },
  {
   "cell_type": "code",
   "execution_count": 21,
   "metadata": {},
   "outputs": [
    {
     "ename": "SyntaxError",
     "evalue": "invalid syntax (<ipython-input-21-1b0fd88b27b0>, line 2)",
     "output_type": "error",
     "traceback": [
      "\u001b[1;36m  File \u001b[1;32m\"<ipython-input-21-1b0fd88b27b0>\"\u001b[1;36m, line \u001b[1;32m2\u001b[0m\n\u001b[1;33m    var4 = \"Python is a \"widely\" used language\"\u001b[0m\n\u001b[1;37m                              ^\u001b[0m\n\u001b[1;31mSyntaxError\u001b[0m\u001b[1;31m:\u001b[0m invalid syntax\n"
     ]
    }
   ],
   "source": [
    "#To resolve this issue, we can escape the double-quotes and single-quotes as:\n",
    "var4 = \"Python is a \"widely\" used language\" # it will throw error as it cannot read string inside string"
   ]
  },
  {
   "cell_type": "code",
   "execution_count": 22,
   "metadata": {},
   "outputs": [
    {
     "data": {
      "text/plain": [
       "'Python is a \"widel\" used language'"
      ]
     },
     "execution_count": 22,
     "metadata": {},
     "output_type": "execute_result"
    }
   ],
   "source": [
    "var4 = \"Python is a \\\"widel\\\" used language\"\n",
    "var4"
   ]
  },
  {
   "cell_type": "code",
   "execution_count": 102,
   "metadata": {},
   "outputs": [
    {
     "data": {
      "text/plain": [
       "'Employee Name: Ashish,\\nEmployee Age:25'"
      ]
     },
     "execution_count": 102,
     "metadata": {},
     "output_type": "execute_result"
    }
   ],
   "source": [
    "#Python Format Characters:String ‘%’ operator issued for formatting Strings. We often use this operator with the print() functio\n",
    "var5 = \"Employee Name: %s,\\nEmployee Age:%d\" % ('Ashish',25)\n",
    "var5"
   ]
  },
  {
   "cell_type": "markdown",
   "metadata": {},
   "source": [
    "Sybol - Conversion\n",
    "%c\tcharacter\n",
    "%s\tstring conversion via str() before formatting\n",
    "%i\tsigned decimal integer\n",
    "%d\tsigned decimal integer\n",
    "%u\tunsigned decimal integer\n",
    "%o\toctal integer\n",
    "%x\thexadecimal integer (lowercase letters)\n",
    "%X\thexadecimal integer (UPPER-case letters)\n",
    "%e\texponential notation (with lowercase ‘e’)\n",
    "%E\texponential notation (with UPPER-case ‘E’)\n",
    "%f\tfloating point real number\n",
    "%g\tthe shorter of %f and %e\n",
    "%G\tthe shorter of %f and %E"
   ]
  },
  {
   "cell_type": "code",
   "execution_count": 35,
   "metadata": {},
   "outputs": [
    {
     "name": "stdout",
     "output_type": "stream",
     "text": [
      " Hello Python!!\n"
     ]
    }
   ],
   "source": [
    "print (u' Hello Python!!')"
   ]
  },
  {
   "cell_type": "code",
   "execution_count": null,
   "metadata": {},
   "outputs": [],
   "source": [
    "#Built-In String Functions In Python"
   ]
  },
  {
   "cell_type": "code",
   "execution_count": 44,
   "metadata": {},
   "outputs": [
    {
     "data": {
      "text/plain": [
       "'Neural network'"
      ]
     },
     "execution_count": 44,
     "metadata": {},
     "output_type": "execute_result"
    }
   ],
   "source": [
    "#1)capitalize()\n",
    "var6 = \"neural network\"\n",
    "var6.capitalize()"
   ]
  },
  {
   "cell_type": "code",
   "execution_count": 45,
   "metadata": {},
   "outputs": [
    {
     "data": {
      "text/plain": [
       "'neural network'"
      ]
     },
     "execution_count": 45,
     "metadata": {},
     "output_type": "execute_result"
    }
   ],
   "source": [
    "#1)lower()\n",
    "var7 = \"neural network\"\n",
    "var7.lower()"
   ]
  },
  {
   "cell_type": "code",
   "execution_count": 46,
   "metadata": {},
   "outputs": [
    {
     "data": {
      "text/plain": [
       "'NEURAL NETWORK'"
      ]
     },
     "execution_count": 46,
     "metadata": {},
     "output_type": "execute_result"
    }
   ],
   "source": [
    "#1)upper()\n",
    "var8 = \"neural network\"\n",
    "var8.upper()"
   ]
  },
  {
   "cell_type": "code",
   "execution_count": 48,
   "metadata": {},
   "outputs": [
    {
     "data": {
      "text/plain": [
       "'nEURAL nETWORK'"
      ]
     },
     "execution_count": 48,
     "metadata": {},
     "output_type": "execute_result"
    }
   ],
   "source": [
    "#swapcase()\n",
    "var9 = \"Neural Network\"\n",
    "var9.swapcase()"
   ]
  },
  {
   "cell_type": "code",
   "execution_count": 50,
   "metadata": {},
   "outputs": [
    {
     "data": {
      "text/plain": [
       "'Neural Network'"
      ]
     },
     "execution_count": 50,
     "metadata": {},
     "output_type": "execute_result"
    }
   ],
   "source": [
    "#title()\n",
    "var10 = \"neural Network\"\n",
    "var10.title()"
   ]
  },
  {
   "cell_type": "code",
   "execution_count": 51,
   "metadata": {},
   "outputs": [
    {
     "data": {
      "text/plain": [
       "1"
      ]
     },
     "execution_count": 51,
     "metadata": {},
     "output_type": "execute_result"
    }
   ],
   "source": [
    "#count( str[, beg [, end]])\n",
    "var11 = \"neural Network\"\n",
    "var11.count('n')"
   ]
  },
  {
   "cell_type": "code",
   "execution_count": 53,
   "metadata": {},
   "outputs": [
    {
     "data": {
      "text/plain": [
       "1"
      ]
     },
     "execution_count": 53,
     "metadata": {},
     "output_type": "execute_result"
    }
   ],
   "source": [
    "var11.count('n', 0 , 13)"
   ]
  },
  {
   "cell_type": "code",
   "execution_count": 55,
   "metadata": {},
   "outputs": [
    {
     "data": {
      "text/plain": [
       "False"
      ]
     },
     "execution_count": 55,
     "metadata": {},
     "output_type": "execute_result"
    }
   ],
   "source": [
    "#islower() \n",
    "var11 = \"neural Network\"\n",
    "var11.islower()"
   ]
  },
  {
   "cell_type": "code",
   "execution_count": 58,
   "metadata": {},
   "outputs": [
    {
     "name": "stdout",
     "output_type": "stream",
     "text": [
      "False\n",
      "True\n"
     ]
    }
   ],
   "source": [
    "#isupper() \n",
    "var11 = \"neural Network\"\n",
    "var12 = \"NEURAL NETWORK\"\n",
    "print(var11.isupper())\n",
    "print(var12.isupper())"
   ]
  },
  {
   "cell_type": "code",
   "execution_count": 61,
   "metadata": {},
   "outputs": [
    {
     "name": "stdout",
     "output_type": "stream",
     "text": [
      "True\n"
     ]
    }
   ],
   "source": [
    "#isdecimal():Returns ‘True’ if all the characters in String are decimal. If any character in the String is of other data-type, it will return False\n",
    "num=u'2016'\n",
    "print (num.isdecimal())"
   ]
  },
  {
   "cell_type": "code",
   "execution_count": 62,
   "metadata": {},
   "outputs": [
    {
     "name": "stdout",
     "output_type": "stream",
     "text": [
      "True\n"
     ]
    }
   ],
   "source": [
    "#isdigit(): Returns ‘True’ for any character for which isdecimal() would return ‘True and some characters in the ‘No’ category. If there are any characters other than these, it will return False’.\n",
    "print ('2'.isdigit())"
   ]
  },
  {
   "cell_type": "code",
   "execution_count": 63,
   "metadata": {},
   "outputs": [
    {
     "name": "stdout",
     "output_type": "stream",
     "text": [
      "True\n"
     ]
    }
   ],
   "source": [
    "#isnumeric() : Returns ‘True’ if all the characters of the Unicode String lie in any one of the categories Nd’, No, and NI.\n",
    "num=u'2016'\n",
    "print (num.isnumeric())"
   ]
  },
  {
   "cell_type": "code",
   "execution_count": 68,
   "metadata": {},
   "outputs": [
    {
     "name": "stdout",
     "output_type": "stream",
     "text": [
      "True\n",
      "False\n"
     ]
    }
   ],
   "source": [
    "#isalpha() – Returns ‘True’ if String contains at least one character (non-empty String) and all the characters are alphabetic, ‘False’ otherwise\n",
    "strg='python'\n",
    "strg1='python12'\n",
    "print (strg.isalpha())\n",
    "print (strg1.isalpha())"
   ]
  },
  {
   "cell_type": "code",
   "execution_count": 71,
   "metadata": {},
   "outputs": [
    {
     "name": "stdout",
     "output_type": "stream",
     "text": [
      "True\n"
     ]
    }
   ],
   "source": [
    "#isalnum() – Returns ‘True’ if String contains at least one character (non-empty String) and all the characters are either alphabetic or decimal digits, ‘False’ otherwise.\n",
    "print ('python'.isalnum())"
   ]
  },
  {
   "cell_type": "code",
   "execution_count": 75,
   "metadata": {},
   "outputs": [
    {
     "name": "stdout",
     "output_type": "stream",
     "text": [
      "    Python\n"
     ]
    }
   ],
   "source": [
    "#Padding \n",
    "#rjust(width[,fillchar]) – Returns string filled with input char while pushing the original content on the right side.\n",
    "#the padding uses a space. Otherwise ‘fillchar’ specifies the filler character.\n",
    "var13='Python'\n",
    "print (var13.rjust(10)) # it gives four spaces before string and then prints string"
   ]
  },
  {
   "cell_type": "code",
   "execution_count": 76,
   "metadata": {},
   "outputs": [
    {
     "name": "stdout",
     "output_type": "stream",
     "text": [
      "$$$$Python\n"
     ]
    }
   ],
   "source": [
    "var14='Python'\n",
    "print (var14.rjust(10,\"$\")) # it gives four \"$\" before string and then prints string"
   ]
  },
  {
   "cell_type": "code",
   "execution_count": 78,
   "metadata": {},
   "outputs": [
    {
     "name": "stdout",
     "output_type": "stream",
     "text": [
      "Python    \n",
      "Python@@@@\n"
     ]
    }
   ],
   "source": [
    "#ljust(width[,fillchar]) – Returns a padded version of String with the original String left-justified to a total of width columns\n",
    "var15='Python'\n",
    "print (var15.ljust(10)) # it gives four spaces after string\n",
    "print (var15.ljust(10,\"@\")) # it gives four \"$\" before string and then prints string"
   ]
  },
  {
   "cell_type": "code",
   "execution_count": 79,
   "metadata": {},
   "outputs": [
    {
     "name": "stdout",
     "output_type": "stream",
     "text": [
      "  Python  \n",
      "@@Python@@\n"
     ]
    }
   ],
   "source": [
    "#center(width[,fillchar]) – Returns string filled with the input char while pushing the original content into the center.\n",
    "var16='Python'\n",
    "print (var15.center(10)) # it gives 2 spaces before and 2 after string\n",
    "print (var15.center(10,\"@\")) # it tags 2 before and 2 \"@\""
   ]
  },
  {
   "cell_type": "code",
   "execution_count": 80,
   "metadata": {},
   "outputs": [
    {
     "name": "stdout",
     "output_type": "stream",
     "text": [
      "0000Python\n"
     ]
    }
   ],
   "source": [
    "#zfill(width) – Returns string filled with the original content padded on the left with zeros so that total length of String becomes equal to the input size.\n",
    "var='Python'\n",
    "print (var.zfill(10))"
   ]
  },
  {
   "cell_type": "markdown",
   "metadata": {},
   "source": [
    "Search Functions"
   ]
  },
  {
   "cell_type": "code",
   "execution_count": 83,
   "metadata": {},
   "outputs": [
    {
     "name": "stdout",
     "output_type": "stream",
     "text": [
      "5\n"
     ]
    }
   ],
   "source": [
    "#Find(str [,i [,j]]) or index(str[,i [,j]])– Searches for ‘str’ in complete String (if i and j not defined) or in a sub-string of String (if i and j are defined).This function returns the index if ‘str’ is found else returns ‘-1’.\n",
    "var=\"Tech Beamers\"\n",
    "str=\"Beam\"\n",
    "print(var.find(str))"
   ]
  },
  {
   "cell_type": "code",
   "execution_count": 84,
   "metadata": {},
   "outputs": [
    {
     "name": "stdout",
     "output_type": "stream",
     "text": [
      "5\n"
     ]
    }
   ],
   "source": [
    "var=\"Tech Beamers\"\n",
    "str=\"Beam\"\n",
    "print (var.find(str,4))"
   ]
  },
  {
   "cell_type": "code",
   "execution_count": 85,
   "metadata": {},
   "outputs": [
    {
     "name": "stdout",
     "output_type": "stream",
     "text": [
      "-1\n"
     ]
    }
   ],
   "source": [
    "var=\"Tech Beamers\"\n",
    "str=\"Beam\"\n",
    "print (var.find(str,7))"
   ]
  },
  {
   "cell_type": "code",
   "execution_count": 86,
   "metadata": {},
   "outputs": [
    {
     "name": "stdout",
     "output_type": "stream",
     "text": [
      "5\n"
     ]
    }
   ],
   "source": [
    "#rfind(str[,i [,j]]) – This is same as find() just that this function returns the last index where ‘str’ is found. If ‘str’ is not found it returns ‘-1’\n",
    "var='This is a good example'\n",
    "str='is'\n",
    "print (var.rfind(str,0,10))"
   ]
  },
  {
   "cell_type": "code",
   "execution_count": 90,
   "metadata": {},
   "outputs": [
    {
     "name": "stdout",
     "output_type": "stream",
     "text": [
      "2\n",
      "1\n"
     ]
    }
   ],
   "source": [
    "#count(str[,i [,j]]) – Returns the number of occurrences of substring ‘str’ in the String. Searches for ‘str’ in the complete String (if i and j not defined) or in a sub-string of String (if i and j are defined).\n",
    "var='This is a good example'\n",
    "str='is'\n",
    "str1=' is '\n",
    "print (var.count(str))\n",
    "print (var.count(str1,4,10))"
   ]
  },
  {
   "cell_type": "markdown",
   "metadata": {},
   "source": [
    "String Substitution Functions"
   ]
  },
  {
   "cell_type": "code",
   "execution_count": 91,
   "metadata": {},
   "outputs": [
    {
     "name": "stdout",
     "output_type": "stream",
     "text": [
      "Thwas was a good example\n"
     ]
    }
   ],
   "source": [
    "#Replace(old,new[,count]) – Replaces all the occurrences of substring ‘old’ with ‘new’ in the String.\n",
    "#If the count is available, then only ‘count’ number of occurrences of ‘old’ will be replaced with the new’.\n",
    "var='This is a good example'\n",
    "str='was'\n",
    "print (var.replace('is',str))"
   ]
  },
  {
   "cell_type": "code",
   "execution_count": 92,
   "metadata": {},
   "outputs": [
    {
     "name": "stdout",
     "output_type": "stream",
     "text": [
      "['This', 'is', 'a', 'good', 'example']\n"
     ]
    }
   ],
   "source": [
    "#split([sep[,maxsplit]]) – Returns a list of substring obtained after splitting the String with ‘sep’ as a delimiter.\n",
    "var = \"This is a good example\"\n",
    "print (var.split())"
   ]
  },
  {
   "cell_type": "code",
   "execution_count": 93,
   "metadata": {},
   "outputs": [
    {
     "name": "stdout",
     "output_type": "stream",
     "text": [
      "['Print new line', 'Nextline', '', 'Move again to new line']\n"
     ]
    }
   ],
   "source": [
    "#splitlines(num) – Splits the String at line breaks and returns the list after removing the line breaks.\n",
    "var='Print new line\\nNextline\\n\\nMove again to new line'\n",
    "print (var.splitlines())"
   ]
  },
  {
   "cell_type": "code",
   "execution_count": 94,
   "metadata": {},
   "outputs": [
    {
     "name": "stdout",
     "output_type": "stream",
     "text": [
      "ab=bc=cd\n"
     ]
    }
   ],
   "source": [
    "#join(seq) – Returns a String obtained after concatenating the sequence ‘seq’ with a delimiter string.\n",
    "seq=('ab','bc','cd')\n",
    "str='='\n",
    "print (str.join(seq))"
   ]
  },
  {
   "cell_type": "markdown",
   "metadata": {},
   "source": [
    "Misc String Functions"
   ]
  },
  {
   "cell_type": "code",
   "execution_count": 95,
   "metadata": {},
   "outputs": [
    {
     "name": "stdout",
     "output_type": "stream",
     "text": [
      "This is a good example \n",
      "This is a good example*****\n"
     ]
    }
   ],
   "source": [
    "#lstrip([chars]) – Returns a String after removing the characters from the beginning of the String.\n",
    "var=' This is a good example '\n",
    "print (var.lstrip())\n",
    "var='*****This is a good example*****'\n",
    "print (var.lstrip('*'))"
   ]
  },
  {
   "cell_type": "code",
   "execution_count": null,
   "metadata": {},
   "outputs": [],
   "source": [
    "#rstrip() – Returns a String after removing the characters from the End of the String.\n"
   ]
  },
  {
   "cell_type": "code",
   "execution_count": 96,
   "metadata": {},
   "outputs": [
    {
     "name": "stdout",
     "output_type": "stream",
     "text": [
      "*****This is a good example\n"
     ]
    }
   ],
   "source": [
    "print (var.rstrip('*'))"
   ]
  },
  {
   "cell_type": "code",
   "execution_count": 97,
   "metadata": {},
   "outputs": [
    {
     "name": "stdout",
     "output_type": "stream",
     "text": [
      "5\n"
     ]
    }
   ],
   "source": [
    "#rindex(str[,i [,j]]) – Searches for ‘str’ in the complete String (if i and j not defined) or in a sub-string of String (if i and j are defined). \\\n",
    "#This function returns the last index where ‘str’ is available.\n",
    "var='This is a good example'\n",
    "str='is'\n",
    "print (var.rindex(str,0,10))"
   ]
  },
  {
   "cell_type": "code",
   "execution_count": 98,
   "metadata": {},
   "outputs": [
    {
     "name": "stdout",
     "output_type": "stream",
     "text": [
      "22\n"
     ]
    }
   ],
   "source": [
    "#len(string) – Returns the length of given String\n",
    "var='This is a good example'\n",
    "print (len(var))"
   ]
  },
  {
   "cell_type": "markdown",
   "metadata": {},
   "source": [
    "Numbers: plain integer, long integer, floating-point and complex numbers.\n",
    "Like other types in Python, numbers are also objects. They can store an integer, a real or a composite number. Python numbers are immutable objects so any change in the value would lead to the creation of a new object. Usually, assigning a numeric value to a variable will get the number object created"
   ]
  },
  {
   "cell_type": "code",
   "execution_count": 104,
   "metadata": {},
   "outputs": [
    {
     "name": "stdout",
     "output_type": "stream",
     "text": [
      "<type 'complex'>\n",
      "65347472\n",
      "<type 'complex'>\n",
      "65347088\n"
     ]
    }
   ],
   "source": [
    "num = 10 + 5j # The number object got created.\n",
    "print(type(num)) # The number is of complex type.\n",
    "print(id(num)) # The initial address of 'num' in memory.\n",
    "num = 11 + 6j # The 'num' gets a new value.\n",
    "print(type(num)) # The 'num' is still of complex type.\n",
    "print(id(num))# Change in value caused 'num' to have a new memory address."
   ]
  },
  {
   "cell_type": "code",
   "execution_count": null,
   "metadata": {},
   "outputs": [],
   "source": [
    "#Python Numbers – Types Of Numeric Data\n",
    "#Interestingly, Python 2.x had four built-in data types (int, long, float and complex) to represent numbers. \n",
    "#Later Python 3.x removed the long and extended the int type to have unlimited length.\n",
    "#The number types are automatically upcast in the following order.\n",
    "#Int → Long → Float → Complex\n",
    "#While integers in Python 3.x can be of any length, a float type number is only precise to fifteen decimal places.\n",
    "#In Python, we can deal such numbers using the proper prefixes - '0b', '0o', '0x'"
   ]
  },
  {
   "cell_type": "code",
   "execution_count": 105,
   "metadata": {},
   "outputs": [
    {
     "data": {
      "text/plain": [
       "int"
      ]
     },
     "execution_count": 105,
     "metadata": {},
     "output_type": "execute_result"
    }
   ],
   "source": [
    "x = 9\n",
    "type(x)"
   ]
  },
  {
   "cell_type": "code",
   "execution_count": 106,
   "metadata": {},
   "outputs": [
    {
     "data": {
      "text/plain": [
       "long"
      ]
     },
     "execution_count": 106,
     "metadata": {},
     "output_type": "execute_result"
    }
   ],
   "source": [
    "#\n",
    "x = 9999999999 # In Python 2.x, the type will be long. While in 3.x, it is int irrespective of the size.\n",
    "type(x)"
   ]
  },
  {
   "cell_type": "code",
   "execution_count": null,
   "metadata": {},
   "outputs": [],
   "source": [
    "#Float Type\n",
    "#The float represents a binary floating point number. Using a float variable in an expression automatically converts the adjoining longs and ints to floats."
   ]
  },
  {
   "cell_type": "code",
   "execution_count": 107,
   "metadata": {},
   "outputs": [
    {
     "data": {
      "text/plain": [
       "float"
      ]
     },
     "execution_count": 107,
     "metadata": {},
     "output_type": "execute_result"
    }
   ],
   "source": [
    "x = 9.999\n",
    "type(x)"
   ]
  },
  {
   "cell_type": "code",
   "execution_count": 108,
   "metadata": {},
   "outputs": [
    {
     "name": "stdout",
     "output_type": "stream",
     "text": [
      "<type 'complex'>\n",
      "3.0\n",
      "4.0\n"
     ]
    }
   ],
   "source": [
    "x = 3 + 4j\n",
    "print(type(x))\n",
    "print(x.real)\n",
    "print(x.imag)"
   ]
  },
  {
   "cell_type": "code",
   "execution_count": null,
   "metadata": {},
   "outputs": [],
   "source": [
    "#Usually, we work with numbers based on the decimal (base 10) number system. But sometimes, we may need to use other number systems such as binary (base 2), hexadecimal (base 16) and octal (base 8)."
   ]
  },
  {
   "cell_type": "code",
   "execution_count": null,
   "metadata": {},
   "outputs": [],
   "source": [
    "#Number System Base Prefix to Use\n",
    "#Binary\tBase-2\t‘0b’ or ‘0B’\n",
    "#Octal\tBase-8\t‘0o’ or ‘0O’\n",
    "#Hex\tBase-16\t‘0x’ or ‘0X’"
   ]
  },
  {
   "cell_type": "code",
   "execution_count": 110,
   "metadata": {},
   "outputs": [
    {
     "name": "stdout",
     "output_type": "stream",
     "text": [
      "5\n",
      "<type 'int'>\n"
     ]
    }
   ],
   "source": [
    "x = 0b101\n",
    "print(x)\n",
    "print(type(x))"
   ]
  },
  {
   "cell_type": "code",
   "execution_count": 111,
   "metadata": {},
   "outputs": [
    {
     "name": "stdout",
     "output_type": "stream",
     "text": [
      "10\n"
     ]
    }
   ],
   "source": [
    "print(0b101 + 5)"
   ]
  },
  {
   "cell_type": "code",
   "execution_count": 112,
   "metadata": {},
   "outputs": [
    {
     "name": "stdout",
     "output_type": "stream",
     "text": [
      "83\n"
     ]
    }
   ],
   "source": [
    "print(0o123)"
   ]
  },
  {
   "cell_type": "code",
   "execution_count": 113,
   "metadata": {},
   "outputs": [
    {
     "data": {
      "text/plain": [
       "int"
      ]
     },
     "execution_count": 113,
     "metadata": {},
     "output_type": "execute_result"
    }
   ],
   "source": [
    "type(0x10)"
   ]
  },
  {
   "cell_type": "code",
   "execution_count": 114,
   "metadata": {},
   "outputs": [
    {
     "data": {
      "text/plain": [
       "True"
      ]
     },
     "execution_count": 114,
     "metadata": {},
     "output_type": "execute_result"
    }
   ],
   "source": [
    "#If you want to test the class type of a number in Python, then you should use the isinstance() function.\n",
    "isinstance(2.2, float)"
   ]
  },
  {
   "cell_type": "code",
   "execution_count": 115,
   "metadata": {},
   "outputs": [
    {
     "data": {
      "text/plain": [
       "(3, 1)"
      ]
     },
     "execution_count": 115,
     "metadata": {},
     "output_type": "execute_result"
    }
   ],
   "source": [
    "#The floor operator (//) returns the integer quotient, and the mod (%) operator gives the remainder. \n",
    "#However, you can get both these by using the divmod() function.\n",
    "divmod(7, 2)"
   ]
  },
  {
   "cell_type": "code",
   "execution_count": 116,
   "metadata": {},
   "outputs": [
    {
     "data": {
      "text/plain": [
       "1"
      ]
     },
     "execution_count": 116,
     "metadata": {},
     "output_type": "execute_result"
    }
   ],
   "source": [
    "7 % 2"
   ]
  },
  {
   "cell_type": "code",
   "execution_count": 117,
   "metadata": {},
   "outputs": [
    {
     "data": {
      "text/plain": [
       "3"
      ]
     },
     "execution_count": 117,
     "metadata": {},
     "output_type": "execute_result"
    }
   ],
   "source": [
    "7 / 2"
   ]
  },
  {
   "cell_type": "code",
   "execution_count": 118,
   "metadata": {},
   "outputs": [
    {
     "data": {
      "text/plain": [
       "3"
      ]
     },
     "execution_count": 118,
     "metadata": {},
     "output_type": "execute_result"
    }
   ],
   "source": [
    "7 // 2"
   ]
  },
  {
   "cell_type": "code",
   "execution_count": null,
   "metadata": {},
   "outputs": [],
   "source": [
    "#Type Conversion (Casting) In Python\n",
    "#In Python, it is pretty easy to convert any numeric data type into another. We call this process as coercion in Pythonic term.\n",
    "#Basic operations such as addition, subtraction coerce integer to float implicitly (by default) if one of the operands is a float."
   ]
  },
  {
   "cell_type": "code",
   "execution_count": 119,
   "metadata": {},
   "outputs": [
    {
     "data": {
      "text/plain": [
       "6.5"
      ]
     },
     "execution_count": 119,
     "metadata": {},
     "output_type": "execute_result"
    }
   ],
   "source": [
    "2+4.5"
   ]
  },
  {
   "cell_type": "code",
   "execution_count": 120,
   "metadata": {},
   "outputs": [
    {
     "data": {
      "text/plain": [
       "2"
      ]
     },
     "execution_count": 120,
     "metadata": {},
     "output_type": "execute_result"
    }
   ],
   "source": [
    "int(2.8)"
   ]
  },
  {
   "cell_type": "code",
   "execution_count": 122,
   "metadata": {},
   "outputs": [
    {
     "data": {
      "text/plain": [
       "3.0"
      ]
     },
     "execution_count": 122,
     "metadata": {},
     "output_type": "execute_result"
    }
   ],
   "source": [
    "float(3)"
   ]
  },
  {
   "cell_type": "code",
   "execution_count": 123,
   "metadata": {},
   "outputs": [
    {
     "data": {
      "text/plain": [
       "(4+7j)"
      ]
     },
     "execution_count": 123,
     "metadata": {},
     "output_type": "execute_result"
    }
   ],
   "source": [
    "complex(4 + 7j)"
   ]
  },
  {
   "cell_type": "markdown",
   "metadata": {},
   "source": [
    "External Classes to Handle Python Numbers\n",
    "As you’ve read above that Python’s built-in float class has a limit to control precision up to the fifteen decimal places. However, there are other limitations as well because it entirely depends on the computer implementation of the floating point numbers. For example, see the below decimal point issue."
   ]
  },
  {
   "cell_type": "code",
   "execution_count": 124,
   "metadata": {},
   "outputs": [
    {
     "data": {
      "text/plain": [
       "4.300000000000001"
      ]
     },
     "execution_count": 124,
     "metadata": {},
     "output_type": "execute_result"
    }
   ],
   "source": [
    "1.1 + 3.2 #To overcome such type of issues, we can use the decimal module in Python."
   ]
  },
  {
   "cell_type": "code",
   "execution_count": 125,
   "metadata": {},
   "outputs": [
    {
     "name": "stdout",
     "output_type": "stream",
     "text": [
      "0.28\n",
      "0.2800000000000000266453525910037569701671600341796875\n",
      "5.30\n"
     ]
    }
   ],
   "source": [
    "import decimal\n",
    "print(0.28)\n",
    "print(decimal.Decimal(0.28))\n",
    "print(decimal.Decimal('5.30'))"
   ]
  },
  {
   "cell_type": "markdown",
   "metadata": {},
   "source": [
    "Python Fractions\n",
    "Python packages a module named as ‘fractions,’ to handle fractional numbers.\n",
    "A fraction combines a numerator and a denominator; both are of integer data type. This module enables rational number arithmetic functionality.\n",
    "Here is a simple example to create and use fraction type objects."
   ]
  },
  {
   "cell_type": "code",
   "execution_count": 126,
   "metadata": {},
   "outputs": [
    {
     "name": "stdout",
     "output_type": "stream",
     "text": [
      "5/2\n",
      "5854679515581645/1125899906842624\n",
      "3/5\n",
      "5854679515581645/4503599627370496\n",
      "37/10\n"
     ]
    }
   ],
   "source": [
    "import fractions\n",
    "print(fractions.Fraction(2.5))\n",
    "print(fractions.Fraction(5.2))\n",
    "print(fractions.Fraction(3,5))\n",
    "print(fractions.Fraction(1.3))\n",
    "print(fractions.Fraction('3.7'))"
   ]
  },
  {
   "cell_type": "markdown",
   "metadata": {},
   "source": [
    "Python Mathematics\n",
    "Python exposes a few built-in functions to carry out simple mathematical calculations.\n",
    "For example – abs(), cmp(), max(), min(), round()."
   ]
  },
  {
   "cell_type": "code",
   "execution_count": 127,
   "metadata": {},
   "outputs": [
    {
     "name": "stdout",
     "output_type": "stream",
     "text": [
      "55.3\n",
      "70.0\n"
     ]
    }
   ],
   "source": [
    "print(round(55.26,1))\n",
    "print(round(66.36,-1))"
   ]
  },
  {
   "cell_type": "code",
   "execution_count": null,
   "metadata": {},
   "outputs": [],
   "source": [
    "#Apart from the above methods, we can also use the math module in Python. It provides following common functions to use.\n",
    "Function\tDescription\n",
    "abs(x)\tThe absolute value of x: the (positive) distance between x and zero.\n",
    "ceil(x)\tThe ceiling of x: the smallest integer not less than x\n",
    "cmp(a, b)\t-1 if a < b, 0 if a == b, or 1 if a > b\n",
    "exp(x)\tThe exponential of x: ex\n",
    "floor(x)\tThe floor of x: the largest integer not greater than x\n",
    "log(x)\tThe natural logarithm of x, for x> 0\n",
    "log10(x)\tThe base-10 logarithm of x for x> 0.\n",
    "max(x1, x2,…)\tThe largest of its arguments: the value closest to positive infinity\n",
    "min(x1, x2,…)\tThe smallest of its arguments: the value closest to negative infinity\n",
    "modf(x)\tThe fractional and integer parts of x in a two-item tuple. Both parts share the same sign as x. The integer part coerces into a float.\n",
    "pow(x, y)\tThe value of x**y\n",
    "round(x [,n])\tx rounded to n digits from the decimal point.\n",
    "sqrt(x)\tThe square root of x for x > 0\n",
    "pi\tThe mathematical constant pi.\n",
    "e\tThe mathematical constant e."
   ]
  },
  {
   "cell_type": "code",
   "execution_count": 128,
   "metadata": {},
   "outputs": [
    {
     "name": "stdout",
     "output_type": "stream",
     "text": [
      "4.0\n",
      "7.0\n"
     ]
    }
   ],
   "source": [
    "import math\n",
    "x = math.ceil(3.5)\n",
    "print(x)\n",
    "print(math.ceil(2 + 4.2))"
   ]
  }
 ],
 "metadata": {
  "kernelspec": {
   "display_name": "Python 3",
   "language": "python",
   "name": "python3"
  },
  "language_info": {
   "codemirror_mode": {
    "name": "ipython",
    "version": 3
   },
   "file_extension": ".py",
   "mimetype": "text/x-python",
   "name": "python",
   "nbconvert_exporter": "python",
   "pygments_lexer": "ipython3",
   "version": "3.6.5"
  }
 },
 "nbformat": 4,
 "nbformat_minor": 2
}
