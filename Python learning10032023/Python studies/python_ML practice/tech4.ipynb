{
 "cells": [
  {
   "cell_type": "code",
   "execution_count": null,
   "metadata": {},
   "outputs": [],
   "source": [
    "lst=[]\n",
    "for index,row in df1.iterrows():\n",
    "    if(df1[\"Age_Band\"][index]==\"a.<21\"):\n",
    "        lst.append('00.lessthan20')\n",
    "    elif(df1[\"Age_Band\"][index]==\"b.21-25\" or df1[\"Age_Band\"][index]==\"c.26-30\"):\n",
    "        lst.append('01.(20 to 30)')    \n",
    "    elif(df1[\"Age_Band\"][index]==\"d.31-35\" or df1[\"Age_Band\"][index]==\"e.36-40\"):\n",
    "        lst.append('02.(30 to 40)')\n",
    "    elif(df1[\"Age_Band\"][index]==\"f.41-45\" or df1[\"Age_Band\"][index]==\"g.46-50\"):\n",
    "        lst.append('03.(40 to 50)')\n",
    "    elif(df1[\"Age_Band\"][index]==\"h.51-55\" or df1[\"Age_Band\"][index]==\"i.56-60\"):\n",
    "        lst.append('04.(50 to 60)')\n",
    "    elif(df1[\"Age_Band\"][index]==\"j.61-70\"):\n",
    "        lst.append('05.(60 to 70)')\n",
    "    else:\n",
    "        lst.append('06.above 70')"
   ]
  },
  {
   "cell_type": "code",
   "execution_count": null,
   "metadata": {},
   "outputs": [],
   "source": [
    "lst=[]\n",
    "for index,row in df.iterrows():\n",
    "    if( cc[index]==1  and ca[index]==1 and sa[index]==1):\n",
    "        lst.append('casa_cc')\n",
    "    elif(ca[index]==0 and cc[index]==0 and sa[index]==0):\n",
    "        lst.append('other products')\n",
    "    elif((ca[index]==1 or sa[index]==1) and cc[index]==0):\n",
    "        lst.append('casa')\n",
    "    elif((ca[index]==1 or sa[index]==1) and cc[index]==1):\n",
    "        lst.append('casa-cc')\n",
    "    \n",
    "    else:\n",
    "        lst.append('cc')"
   ]
  },
  {
   "cell_type": "code",
   "execution_count": null,
   "metadata": {},
   "outputs": [],
   "source": [
    "lst=[]\n",
    "for index,row in df1.iterrows():\n",
    "    if(df1['Gross_Annual_Income'][index]<= 1):\n",
    "        lst.append('00.zero')\n",
    "    elif(df1['Gross_Annual_Income'][index]>1 and df1['Gross_Annual_Income'][index]<=10000):\n",
    "        lst.append('01.less than 10000')    \n",
    "    elif(df1['Gross_Annual_Income'][index]>10000 and df1['Gross_Annual_Income'][index]<=20000):\n",
    "        lst.append('02.10k to 20k')\n",
    "    elif(df1['Gross_Annual_Income'][index] > 20000 and df1['Gross_Annual_Income'][index]<=40000):\n",
    "        lst.append('03.20k to 40 K')\n",
    "    else:\n",
    "        lst.append('06above 40k')"
   ]
  },
  {
   "cell_type": "code",
   "execution_count": null,
   "metadata": {},
   "outputs": [],
   "source": [
    "lst=[]\n",
    "for index,row in df1.iterrows():\n",
    "    if(df1 ['Occupation_Group'][index]==\"UNIFORMED AND ARMED FORCES\"):\n",
    "        lst.append('00.armed force')\n",
    "    elif(df1 ['Occupation_Group'][index]==\"EXEBB CONVERSION\" or df1 ['Occupation_Group'][index]==\"EBB CONVERSION\"):\n",
    "        lst.append('1.ebb conversion ')    \n",
    "    elif(df1 ['Occupation_Group'][index]==\"SALES WORKERS RELATED\" or df1 ['Occupation_Group'][index]==\n",
    "         \"ATHLETIC, ARTISTIC, CRAFT, CULTURE AND DESIGNER \" or\n",
    "         df1 ['Occupation_Group'][index]==\"SERVICE WORKERS RELATED\"):\n",
    "        lst.append('2.workers relaated')\n",
    "    elif(df1 ['Occupation_Group'][index]==\"ELEMENTARY OCCUPATIONS\" or df1 ['Occupation_Group'][index]==\n",
    "         \"CLERICAL, SECRETARIAL AND ADMINISTRATIVE RELATED\"):\n",
    "        lst.append('3.admin related')\n",
    "    elif(df1 ['Occupation_Group'][index]==\"NON-EMPLOYED / NON-GAINFULLY EMPLOYED\"):\n",
    "        lst.append('4.non employed')\n",
    "    elif(df1 ['Occupation_Group'][index]==\"LEGISLATORS, SENIOR OFFICIALS AND MANAGERS\"):\n",
    "        lst.append('05.managers level')\n",
    "    elif(df1 ['Occupation_Group'][index]==\"TECHNICIANS, SEMI-SKILLED AND ASSOCIATE PROFESSIONALS\"):\n",
    "        lst.append('6.junior professional')\n",
    "    else:\n",
    "        lst.append('07.professional')\n"
   ]
  },
  {
   "cell_type": "code",
   "execution_count": null,
   "metadata": {},
   "outputs": [],
   "source": [
    "import numpy as np\n",
    "score_data['Age']=score_data['Age'].astype(int)\n",
    "#score_data['Age']=np.ceil(score_data['Age']).astype(int)\n",
    "np.ceil(score_data['Age'])\n",
    "score_data['Age']=np.ceil(score_data['Age']).astype(int)\n",
    "score_data['Age'].value_counts()\n",
    "Age=[]\n",
    "for index,row in score_data.iterrows():\n",
    "    if(score_data['Age'][index]<21):\n",
    "        Age.append('a.<21')\n",
    "    elif(score_data['Age'][index]>=21 and score_data['Age'][index]<=25):\n",
    "        Age.append('b.21-25')    \n",
    "    elif(score_data['Age'][index]>=26 and score_data['Age'][index]<=30):\n",
    "        Age.append('c.26-30')\n",
    "    elif(score_data['Age'][index]>=31 and score_data['Age'][index]<=35):\n",
    "        Age.append('d.31-35')\n",
    "    elif(score_data['Age'][index]>=36 and score_data['Age'][index]<=40):\n",
    "        Age.append('e.36-40')\n",
    "    elif(score_data['Age'][index]>=41 and score_data['Age'][index]<=45):\n",
    "        Age.append('f.41-45')\n",
    "    elif(score_data['Age'][index]>=46 and score_data['Age'][index]<=50):\n",
    "        Age.append('g.46-50')\n",
    "    elif(score_data['Age'][index]>=51 and score_data['Age'][index]<=55):\n",
    "        Age.append('h.51-55')\n",
    "    elif(score_data['Age'][index]>=56 and score_data['Age'][index]<=60):\n",
    "        Age.append('i.56-60')\n",
    "    elif(score_data['Age'][index]>=61 and score_data['Age'][index]<=65):\n",
    "        Age.append('j.61-70')\n",
    "        \n",
    "    else:\n",
    "        Age.append('k.>70')\n",
    "score_data['Age']=pd.Series(list(Age))"
   ]
  }
 ],
 "metadata": {
  "kernelspec": {
   "display_name": "Python 3",
   "language": "python",
   "name": "python3"
  },
  "language_info": {
   "codemirror_mode": {
    "name": "ipython",
    "version": 3
   },
   "file_extension": ".py",
   "mimetype": "text/x-python",
   "name": "python",
   "nbconvert_exporter": "python",
   "pygments_lexer": "ipython3",
   "version": "3.6.5"
  }
 },
 "nbformat": 4,
 "nbformat_minor": 2
}
