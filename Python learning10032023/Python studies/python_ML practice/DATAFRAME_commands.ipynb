{
 "cells": [
  {
   "cell_type": "code",
   "execution_count": null,
   "metadata": {},
   "outputs": [],
   "source": [
    "import pandas as pd\n",
    "import numpy as np\n",
    "import seaborn as sns\n",
    "from sklearn import metrics\n",
    "import matplotlib.pyplot as plt\n",
    "import seaborn as sns\n",
    "from sklearn.cross_validation import train_test_split\n",
    "from imblearn.over_sampling import SMOTE\n",
    "from sklearn.preprocessing import StandardScaler\n",
    "from sklearn.linear_model import LogisticRegression\n",
    "from sklearn.utils import shuffle\n",
    "import keras\n",
    "from keras.models import Sequential\n",
    "from keras.layers import Dense\n",
    "from  sklearn.model_selection import GridSearchCV\n",
    "from keras.layers.core import Dropout\n",
    "from sklearn  import metrics\n",
    "from keras.wrappers.scikit_learn import KerasClassifier\n",
    "Classifier=Sequential()\n",
    "from keras import regularizers\n",
    "from keras.callbacks import EarlyStopping\n",
    "from sklearn.metrics import confusion_matrix\n",
    "import scikitplot as skplt\n",
    "from sklearn.metrics import accuracy_score\n",
    "from scipy.spatial.distance import cosine\n",
    "from IPython.display import display\n",
    "pd.options.display.max_columns = None\n",
    "#display(df1)\n",
    "#from IPython.core.interactiveshell import InteractiveShell\n",
    "#InteractiveShell.ast_node_interactivity = \"all\""
   ]
  },
  {
   "cell_type": "code",
   "execution_count": null,
   "metadata": {},
   "outputs": [],
   "source": [
    "#imputation types\n",
    "total = dataset.isnull().sum().sort_values(ascending=False)\n",
    "percent = (dataset.isnull().sum()/dataset.isnull().count()).sort_values(ascending=False)\n",
    "#Basic missing values importation\n",
    "#1.Ignore the data row (only when missing percentage is less than 5%)\n",
    "dataframe.dropna(inplace=True)\n",
    "#drop the rows only all the values are missing\n",
    "dataframe.dropna(how='all',inplace=True)\n",
    "#Drop a column which contains missing values more\n",
    "dataframe.dropna(axis=1,inplace=True)\n",
    "#using thresh hold(delete when variable is insignificant and more than 60% null values)\n",
    "dataframe.dropna(thresh=4,inplace=True)\n",
    "\n",
    "#for back fill  (it fills the nearby values)\n",
    "dataframe.fillna(method='bfill',inplace=True)\n",
    "#for forward-fill\n",
    "dataframe.fillna(method='ffill',inplace=True)\n",
    "#global constant when u r not interestred to use that value into model\n",
    "dataframe.Column_Name.fillna(-99,inplace=True)\n",
    "#MEAN: Suitable for continuous data without outliers\n",
    "dataframe.Column_Name.fillna(dataframe.Column_Name.mean(),inplace=True)\n",
    "#MEDIAN :Suitable for continuous data with outliers\n",
    "dataframe.Column_Name.fillna(dataframe.Column_Name.median(),inplace=True)\n",
    "#mode option for categorical features\n",
    "dataframe.Column_Name.fillna(dataframe.Column_Name.mode()[0], inplace=True)\n",
    "#Another option would be to randomly fill them with values close to the mean value but within one standard deviation.\n",
    "Column_Name_avg = dataframe['Column_Name'].mean()\n",
    "Column_Name_std = dataframe['Column_Name'].std()\n",
    "Column_Name_null_count = dataframe['Column_Name'].isnull().sum()\n",
    "Column_Name_null_random_list = np.random.randint(Column_Name_avg - Column_Name_std, Column_Name_avg + Column_Name_std, size=Column_Name_null_count)\n",
    "dataframe['Column_Name'][np.isnan(dataframe['Column_Name'])] = Column_Name_null_random_list\n",
    "dataframe['Column_Name'] = dataframe['Column_Name'].astype(int)\n",
    "#\n",
    "#You can theoretically impute missing values by fitting a regression model, such \n",
    "#as linear regression or k nearest neighbors.\n",
    "from sklearn.linear_model import LinearRegression\n",
    "linreg=LinearRegression()\n",
    "data_with_null=df[['UTIL_1', 'avg_pymt_3m','avg_pymt_6m', 'avg_pymt_diff_3m_1m', \n",
    "                          'avg_pymt_diff_6m_1m', 'avg_pymt_diff_3m_6m', 'avg_PAYRATIO_3m', 'avg_PAYRATIO_6m',\n",
    "                          'avg_PAYRATIO_diff_3m_1m', 'avg_PAYRATIO_diff_6m_1m','avg_PAYRATIO_diff_3m_6m',\n",
    "                          'avg_ENR_3m', 'avg_ENR_6m', 'avg_ENR_diff_6m_1m', 'avg_ENR_diff_3m_6m',\n",
    "                         'avg_UTIL_3m', 'avg_UTIL_diff_3m_1m','avg_UTIL_diff_6m_1m', 'avg_UTIL_diff_3m_6m', \n",
    "                          'avg_PREV_BAL_3',  'avg_PREV_BAL_6', 'PREV_BAL_diff_3m_1m', 'PREV_BAL_diff_6m_1m',\n",
    "                          'PREV_BAL_diff_3m_6m','avg_ENR_diff_3m_1m', 'avg_UTIL_6m']].dropna()\n",
    "print(data_with_null['avg_UTIL_6m'].isnull().sum())\n",
    "data_without_null=data_with_null_values.dropna()\n",
    "#all features except Age\n",
    "train_data_x=data_without_null.iloc[:,:25]\n",
    "#Only age\n",
    "train_data_y=data_without_null.iloc[:,25]\n",
    "#predict for the whole dataset and replace only missing values\n",
    "test_data=data_with_null.iloc[:,:25]\n",
    "\n",
    "train_data_x=train_data_x.replace(-np.inf,0)\n",
    "train_data_x=train_data_x.replace(np.inf,0)\n",
    "train_data_y=train_data_y.replace(-np.inf,0)\n",
    "train_data_y=train_data_y.replace(np.inf,0)\n",
    "\n",
    "test_data=test_data.replace(-np.inf,0)\n",
    "test_data=test_data.replace(np.inf,0)\n",
    "linreg.fit(train_data_x,train_data_y)\n",
    "\n",
    "data_with_null['new_one']=pd.DataFrame(linreg.predict(test_data))\n",
    "#lets replace only the missing values\n",
    "data_with_null.avg_UTIL_6m.fillna(data_with_null.new_one,inplace=True)\n",
    "\n",
    "\n",
    "##################\n",
    "#conditional imputation based on business knowledge and and other column values\n"
   ]
  },
  {
   "cell_type": "raw",
   "metadata": {},
   "source": [
    "instead of for loop you can use where condition"
   ]
  },
  {
   "cell_type": "code",
   "execution_count": null,
   "metadata": {},
   "outputs": [],
   "source": [
    "mask = ES_15M_Summary['Rolling_OLS_Coefficient'] > .08\n",
    "ES_15M_Summary['Long'] = np.where(mask, 'Y', 'N')\n",
    "\n",
    "-----------------------------\n",
    "for index, row in ES_15M_Summary.iterrows():\n",
    "    if ES_15M_Summary.loc[index, 'Rolling_OLS_Coefficient'] > .08:\n",
    "        ES_15M_Summary.loc[index,'Long'] = 'Y'\n",
    "    else:\n",
    "        ES_15M_Summary.loc[index,'Long'] = 'N'\n",
    "print (ES_15M_Summary)"
   ]
  },
  {
   "cell_type": "code",
   "execution_count": null,
   "metadata": {},
   "outputs": [],
   "source": [
    "#correlation matrix without seaborn\n",
    "plt.figure(figsize=(40,40))\n",
    "training_data.corr(method='spearman').style.format(\"{:.2}\").background_gradient(cmap=plt.get_cmap('coolwarm'), axis=1)"
   ]
  },
  {
   "cell_type": "code",
   "execution_count": null,
   "metadata": {},
   "outputs": [],
   "source": [
    "#for categorical values\n",
    "df1['FINAL_SEGMENT'].value_counts().plot.pie()\n",
    "df1['FINAL_SEGMENT'].value_counts()\n",
    "df1['FINAL_SEGMENT'].value_counts().plot.bar()\n",
    "x['PROD_Curr_CASA_In_num'].values.plot(kind='bar')\n",
    "x['PROD_Curr_Mebal_CASA'].value_counts(sort=True).plot.bar()\n",
    "x['PROD_Curr_CASA_In_num'].hist(bins=10)\n",
    "#numerical data outlier detection\n",
    "import seaborn as sns\n",
    "sns.boxplot(x=x['PROD_Curr_Mebal_CASA'])\n",
    "#scatterplot for numbers\n",
    "fig, ax = plt.subplots(figsize=(16,8))\n",
    "ax.scatter(df1['PROD_Curr_Mebal_CASA'],df1['TARGET'] )\n",
    "ax.set_xlabel('values in a column')\n",
    "ax.set_ylabel('values in output')\n",
    "plt.show()\n",
    "#it shows max value\n",
    "x['PROD_Curr_Mebal_CASA'].max()\n",
    "#it gives largest 10 values in a column\n",
    "df1['PROD_Curr_Mebal_CASA'].nlargest(10)\n",
    "#can choose specific columns for ex startr from 100\n",
    "df1['PROD_Curr_Mebal_CASA'].argsort()[100:]\n",
    "#\n",
    "x['PROD_Curr_Mebal_CASA'].describe()\n",
    "\n",
    "df1=df.select_dtypes(include=['object'])\n",
    "df1.columns.nunique()\n",
    "#\n",
    "x.select_dtypes(include=['object']).columns\n",
    "\n",
    "total = x_train.isnull().sum().sort_values(ascending=False)\n",
    "percent_1 = x_train.isnull().sum()/x_train.isnull().count()*100\n",
    "percent_2 = (round(percent_1, 1)).sort_values(ascending=False)\n",
    "missing_data = pd.concat([total, percent_2], axis=1, keys=['Total', '%'])\n",
    "missing_data\n",
    "\n",
    "#outliers detection\n",
    "print(df3.plot(x='TARGET_VAR',y= 'Util_2',style='o'))\n",
    "s=df3[ 'Util_2'].quantile(0.99999)\n",
    "d=df3[df3[ 'Util_2']<s]\n",
    "d.plot(x='TARGET_VAR',y= 'Util_2',style='o')\n",
    "\n",
    "\n",
    "df[['Age_Band','Open_PL_Jul17Jun18','Marital_status']].groupby(['Age_Band','Open_PL_Jul17Jun18']).agg([ 'count'])\n",
    "df.groupby(['Age_Band','Open_PL_Jul17Jun18']).size()\n",
    "\n",
    "df1=df.pivot_table(index='Age_Band', columns='Open_PL_Jul17Jun18', aggfunc=len)\n",
    "df1\n",
    "#df2['SCV_Party_ID'].duplicated()\n",
    "ct=pd.crosstab(df.Age_Band,df.Open_PL_Jul17Jun18)\n",
    "ct.plot.bar(stacked=False)\n",
    "\n",
    "import seaborn as sns\n",
    "# now stack and reset\n",
    "stacked = ct.stack().reset_index().rename(columns={0:'value'})\n",
    "\n",
    "# plot grouped bar chart\n",
    "sns.barplot(x=stacked.Age_Band, y=stacked.value, hue=stacked.Open_PL_Jul17Jun18)\n",
    "\n",
    "df=df.drop_duplicates(['SCV_Party_ID'],keep='first')\n",
    "df.shape\n",
    "\n",
    "from keras.utils import to_categorical\n",
    "train_y_2 = to_categorical(y_train)\n",
    "\n",
    "ca=pd.to_numeric(dfxx['f_CA'])\n",
    "\n",
    "\n",
    "# for overfiitting add more data,add regularization,reduce model complexity\n",
    "\n",
    "df1=df.loc[(df['DEMO_Gender']==\"02.Female\") & (df['DEMO_D_Occupation_Group']==\"03. Salary - Local\") ,\n",
    "         ['DEMO_Gender','DEMO_D_Occupation_Group',\"TARGET_RENEW\"]]\n",
    "\n",
    "#Create a new function:\n",
    "df.replace('00_Missing',np.nan)\n",
    "def num_missing(df):\n",
    "    return sum(df.isnull())\n",
    "\n",
    "#Applying per column:\n",
    "print (\"Missing values per column:\")\n",
    "print (df.apply(num_missing, axis=0)) #axis=0 defines that function is to be applied on each column\n",
    "\n",
    "#Applying per row:\n",
    "print (\"\\nMissing values per row:\")\n",
    "print (df.apply(num_missing, axis=1).head()) #axis=1 defines that function is to be applied on each row\n",
    "\n",
    "\n",
    "#First we import a function to determine the mode\n",
    "from scipy.stats import mode\n",
    "mode(df['DEMO_Gender'])\n",
    "\n",
    "mode(df['DEMO_Gender']).mode[0]\n",
    "df['DEMO_Gender'].fillna(mode(df['DEMO_Gender']).mode[0], inplace=True)\n",
    "df['DEMO_Gender']\n",
    "\n",
    "df1=df1.fillna(0)\n",
    "\n",
    "\n",
    "ones.rename(columns={'no_of_prods': 'No_of_Prod_Held_BW','gender':'Gender','maritalstatus': 'Marital_status',\n",
    "                    }, inplace=True)\n",
    "\n",
    "y_pred=classifier.predict_proba(tes)\n",
    "prob=y_pred[:,1]\n",
    "\n",
    "newprob=prob>0.1\n",
    "y_pred1=newprob*1\n",
    "y_pred1.ravel()\n",
    "\n",
    "df=pd.read_csv('C:\\\\Users\\\\tvimal\\\\Desktop\\\\PL_MODELS\\\\pldata_lim_var.csv',index_col='TARGET_RENEW')\n",
    "\n",
    "df1=df[~df.SCV_Party_ID.isin(cont_cust.SCV_Party_ID)]\n",
    "#convert dummies data frame into gain category\n",
    "s2 = pd.Series(dummies.columns[np.where(dummies!=0)[1]])\n",
    "s1 = pd.merge(df2, df1, how='left', on=['CIFNO'])\n",
    "\n",
    "df4.apply(lambda x: pd.factorize(x)[0])\n",
    "df4[['inflow avg_3m', 'inflow avg_6m']].boxplot()\n",
    "\n",
    "train=df.sample(frac=0.8,random_state=200)\n",
    "test=df.drop(train.index)\n",
    "\n",
    "df['date'].max()"
   ]
  },
  {
   "cell_type": "code",
   "execution_count": 7,
   "metadata": {
    "collapsed": true
   },
   "outputs": [
    {
     "data": {
      "text/html": [
       "<div>\n",
       "<style scoped>\n",
       "    .dataframe tbody tr th:only-of-type {\n",
       "        vertical-align: middle;\n",
       "    }\n",
       "\n",
       "    .dataframe tbody tr th {\n",
       "        vertical-align: top;\n",
       "    }\n",
       "\n",
       "    .dataframe thead th {\n",
       "        text-align: right;\n",
       "    }\n",
       "</style>\n",
       "<table border=\"1\" class=\"dataframe\">\n",
       "  <thead>\n",
       "    <tr style=\"text-align: right;\">\n",
       "      <th></th>\n",
       "      <th>A</th>\n",
       "      <th>B</th>\n",
       "      <th>C</th>\n",
       "      <th>D</th>\n",
       "    </tr>\n",
       "  </thead>\n",
       "  <tbody>\n",
       "    <tr>\n",
       "      <th>0</th>\n",
       "      <td>78</td>\n",
       "      <td>3</td>\n",
       "      <td>13</td>\n",
       "      <td>50</td>\n",
       "    </tr>\n",
       "    <tr>\n",
       "      <th>1</th>\n",
       "      <td>91</td>\n",
       "      <td>52</td>\n",
       "      <td>62</td>\n",
       "      <td>52</td>\n",
       "    </tr>\n",
       "    <tr>\n",
       "      <th>2</th>\n",
       "      <td>94</td>\n",
       "      <td>67</td>\n",
       "      <td>12</td>\n",
       "      <td>48</td>\n",
       "    </tr>\n",
       "    <tr>\n",
       "      <th>3</th>\n",
       "      <td>74</td>\n",
       "      <td>84</td>\n",
       "      <td>81</td>\n",
       "      <td>73</td>\n",
       "    </tr>\n",
       "    <tr>\n",
       "      <th>4</th>\n",
       "      <td>32</td>\n",
       "      <td>56</td>\n",
       "      <td>91</td>\n",
       "      <td>75</td>\n",
       "    </tr>\n",
       "    <tr>\n",
       "      <th>5</th>\n",
       "      <td>36</td>\n",
       "      <td>48</td>\n",
       "      <td>49</td>\n",
       "      <td>50</td>\n",
       "    </tr>\n",
       "    <tr>\n",
       "      <th>6</th>\n",
       "      <td>38</td>\n",
       "      <td>11</td>\n",
       "      <td>82</td>\n",
       "      <td>65</td>\n",
       "    </tr>\n",
       "    <tr>\n",
       "      <th>7</th>\n",
       "      <td>54</td>\n",
       "      <td>71</td>\n",
       "      <td>53</td>\n",
       "      <td>97</td>\n",
       "    </tr>\n",
       "    <tr>\n",
       "      <th>8</th>\n",
       "      <td>2</td>\n",
       "      <td>30</td>\n",
       "      <td>94</td>\n",
       "      <td>11</td>\n",
       "    </tr>\n",
       "    <tr>\n",
       "      <th>9</th>\n",
       "      <td>8</td>\n",
       "      <td>0</td>\n",
       "      <td>61</td>\n",
       "      <td>84</td>\n",
       "    </tr>\n",
       "  </tbody>\n",
       "</table>\n",
       "</div>"
      ],
      "text/plain": [
       "    A   B   C   D\n",
       "0  78   3  13  50\n",
       "1  91  52  62  52\n",
       "2  94  67  12  48\n",
       "3  74  84  81  73\n",
       "4  32  56  91  75\n",
       "5  36  48  49  50\n",
       "6  38  11  82  65\n",
       "7  54  71  53  97\n",
       "8   2  30  94  11\n",
       "9   8   0  61  84"
      ]
     },
     "execution_count": 7,
     "metadata": {},
     "output_type": "execute_result"
    }
   ],
   "source": [
    "import pandas as pd\n",
    "import numpy as np\n",
    "#df = pd.DataFrame(columns =('A','B','C'), index=range(3))\n",
    "df = pd.DataFrame(np.random.randint(0,100,size=(10, 4)), columns=list('ABCD'))\n",
    "df"
   ]
  },
  {
   "cell_type": "code",
   "execution_count": 44,
   "metadata": {
    "collapsed": true
   },
   "outputs": [
    {
     "data": {
      "text/html": [
       "<div>\n",
       "<style scoped>\n",
       "    .dataframe tbody tr th:only-of-type {\n",
       "        vertical-align: middle;\n",
       "    }\n",
       "\n",
       "    .dataframe tbody tr th {\n",
       "        vertical-align: top;\n",
       "    }\n",
       "\n",
       "    .dataframe thead th {\n",
       "        text-align: right;\n",
       "    }\n",
       "</style>\n",
       "<table border=\"1\" class=\"dataframe\">\n",
       "  <thead>\n",
       "    <tr style=\"text-align: right;\">\n",
       "      <th></th>\n",
       "      <th>a</th>\n",
       "      <th>b</th>\n",
       "      <th>c</th>\n",
       "      <th>d</th>\n",
       "      <th>e</th>\n",
       "    </tr>\n",
       "  </thead>\n",
       "  <tbody>\n",
       "    <tr>\n",
       "      <th>0</th>\n",
       "      <td>1</td>\n",
       "      <td>2</td>\n",
       "      <td>dd</td>\n",
       "      <td>5</td>\n",
       "      <td>8</td>\n",
       "    </tr>\n",
       "    <tr>\n",
       "      <th>1</th>\n",
       "      <td>2</td>\n",
       "      <td>3</td>\n",
       "      <td>ee</td>\n",
       "      <td>9</td>\n",
       "      <td>14</td>\n",
       "    </tr>\n",
       "    <tr>\n",
       "      <th>2</th>\n",
       "      <td>3</td>\n",
       "      <td>4</td>\n",
       "      <td>ff</td>\n",
       "      <td>1</td>\n",
       "      <td>8</td>\n",
       "    </tr>\n",
       "  </tbody>\n",
       "</table>\n",
       "</div>"
      ],
      "text/plain": [
       "   a  b   c  d   e\n",
       "0  1  2  dd  5   8\n",
       "1  2  3  ee  9  14\n",
       "2  3  4  ff  1   8"
      ]
     },
     "execution_count": 44,
     "metadata": {},
     "output_type": "execute_result"
    }
   ],
   "source": [
    "df = pd.DataFrame({'a': [1,2,3], 'b': [2,3,4], 'c':['dd','ee','ff'], 'd':[5,9,1]})\n",
    "df['e'] = df.sum(axis=1)\n",
    "#df.sum(axis=0)\n",
    "df"
   ]
  },
  {
   "cell_type": "code",
   "execution_count": 48,
   "metadata": {
    "collapsed": true
   },
   "outputs": [
    {
     "data": {
      "text/html": [
       "<div>\n",
       "<style scoped>\n",
       "    .dataframe tbody tr th:only-of-type {\n",
       "        vertical-align: middle;\n",
       "    }\n",
       "\n",
       "    .dataframe tbody tr th {\n",
       "        vertical-align: top;\n",
       "    }\n",
       "\n",
       "    .dataframe thead th {\n",
       "        text-align: right;\n",
       "    }\n",
       "</style>\n",
       "<table border=\"1\" class=\"dataframe\">\n",
       "  <thead>\n",
       "    <tr style=\"text-align: right;\">\n",
       "      <th></th>\n",
       "      <th>a</th>\n",
       "      <th>b</th>\n",
       "      <th>c</th>\n",
       "      <th>d</th>\n",
       "      <th>e</th>\n",
       "      <th>f</th>\n",
       "      <th>g</th>\n",
       "    </tr>\n",
       "  </thead>\n",
       "  <tbody>\n",
       "    <tr>\n",
       "      <th>0</th>\n",
       "      <td>1</td>\n",
       "      <td>2</td>\n",
       "      <td>dd</td>\n",
       "      <td>5</td>\n",
       "      <td>8</td>\n",
       "      <td>3</td>\n",
       "      <td>8</td>\n",
       "    </tr>\n",
       "    <tr>\n",
       "      <th>1</th>\n",
       "      <td>2</td>\n",
       "      <td>3</td>\n",
       "      <td>ee</td>\n",
       "      <td>9</td>\n",
       "      <td>14</td>\n",
       "      <td>5</td>\n",
       "      <td>14</td>\n",
       "    </tr>\n",
       "    <tr>\n",
       "      <th>2</th>\n",
       "      <td>3</td>\n",
       "      <td>4</td>\n",
       "      <td>ff</td>\n",
       "      <td>1</td>\n",
       "      <td>8</td>\n",
       "      <td>7</td>\n",
       "      <td>8</td>\n",
       "    </tr>\n",
       "  </tbody>\n",
       "</table>\n",
       "</div>"
      ],
      "text/plain": [
       "   a  b   c  d   e  f   g\n",
       "0  1  2  dd  5   8  3   8\n",
       "1  2  3  ee  9  14  5  14\n",
       "2  3  4  ff  1   8  7   8"
      ]
     },
     "execution_count": 48,
     "metadata": {},
     "output_type": "execute_result"
    }
   ],
   "source": [
    "#for row total\n",
    "df['f']=df.iloc[:,0:2].sum(axis=1)\n",
    "df['g']=df.iloc[:,[0,1,3]].sum(axis=1)\n",
    "df"
   ]
  },
  {
   "cell_type": "code",
   "execution_count": 16,
   "metadata": {
    "collapsed": true
   },
   "outputs": [
    {
     "data": {
      "text/html": [
       "<style  type=\"text/css\" >\n",
       "    #T_d1ebffdc_204a_11e9_b5fb_b8aeed36a7c7row0_col0 {\n",
       "            color:  red;\n",
       "        }    #T_d1ebffdc_204a_11e9_b5fb_b8aeed36a7c7row0_col1 {\n",
       "            color:  red;\n",
       "        }    #T_d1ebffdc_204a_11e9_b5fb_b8aeed36a7c7row0_col2 {\n",
       "            color:  black;\n",
       "        }    #T_d1ebffdc_204a_11e9_b5fb_b8aeed36a7c7row0_col3 {\n",
       "            color:  black;\n",
       "        }    #T_d1ebffdc_204a_11e9_b5fb_b8aeed36a7c7row0_col4 {\n",
       "            color:  black;\n",
       "        }    #T_d1ebffdc_204a_11e9_b5fb_b8aeed36a7c7row1_col0 {\n",
       "            color:  red;\n",
       "        }    #T_d1ebffdc_204a_11e9_b5fb_b8aeed36a7c7row1_col1 {\n",
       "            color:  black;\n",
       "        }    #T_d1ebffdc_204a_11e9_b5fb_b8aeed36a7c7row1_col2 {\n",
       "            color:  black;\n",
       "        }    #T_d1ebffdc_204a_11e9_b5fb_b8aeed36a7c7row1_col3 {\n",
       "            color:  red;\n",
       "        }    #T_d1ebffdc_204a_11e9_b5fb_b8aeed36a7c7row1_col4 {\n",
       "            color:  red;\n",
       "        }    #T_d1ebffdc_204a_11e9_b5fb_b8aeed36a7c7row2_col0 {\n",
       "            color:  red;\n",
       "        }    #T_d1ebffdc_204a_11e9_b5fb_b8aeed36a7c7row2_col1 {\n",
       "            color:  black;\n",
       "        }    #T_d1ebffdc_204a_11e9_b5fb_b8aeed36a7c7row2_col2 {\n",
       "            color:  red;\n",
       "        }    #T_d1ebffdc_204a_11e9_b5fb_b8aeed36a7c7row2_col3 {\n",
       "            color:  red;\n",
       "        }    #T_d1ebffdc_204a_11e9_b5fb_b8aeed36a7c7row2_col4 {\n",
       "            color:  red;\n",
       "        }    #T_d1ebffdc_204a_11e9_b5fb_b8aeed36a7c7row3_col0 {\n",
       "            color:  red;\n",
       "        }    #T_d1ebffdc_204a_11e9_b5fb_b8aeed36a7c7row3_col1 {\n",
       "            color:  red;\n",
       "        }    #T_d1ebffdc_204a_11e9_b5fb_b8aeed36a7c7row3_col2 {\n",
       "            color:  red;\n",
       "        }    #T_d1ebffdc_204a_11e9_b5fb_b8aeed36a7c7row3_col3 {\n",
       "            color:  black;\n",
       "        }    #T_d1ebffdc_204a_11e9_b5fb_b8aeed36a7c7row3_col4 {\n",
       "            color:  red;\n",
       "        }    #T_d1ebffdc_204a_11e9_b5fb_b8aeed36a7c7row4_col0 {\n",
       "            color:  red;\n",
       "        }    #T_d1ebffdc_204a_11e9_b5fb_b8aeed36a7c7row4_col1 {\n",
       "            color:  red;\n",
       "        }    #T_d1ebffdc_204a_11e9_b5fb_b8aeed36a7c7row4_col2 {\n",
       "            color:  red;\n",
       "        }    #T_d1ebffdc_204a_11e9_b5fb_b8aeed36a7c7row4_col3 {\n",
       "            color:  red;\n",
       "        }    #T_d1ebffdc_204a_11e9_b5fb_b8aeed36a7c7row4_col4 {\n",
       "            color:  red;\n",
       "        }    #T_d1ebffdc_204a_11e9_b5fb_b8aeed36a7c7row5_col0 {\n",
       "            color:  red;\n",
       "        }    #T_d1ebffdc_204a_11e9_b5fb_b8aeed36a7c7row5_col1 {\n",
       "            color:  black;\n",
       "        }    #T_d1ebffdc_204a_11e9_b5fb_b8aeed36a7c7row5_col2 {\n",
       "            color:  red;\n",
       "        }    #T_d1ebffdc_204a_11e9_b5fb_b8aeed36a7c7row5_col3 {\n",
       "            color:  red;\n",
       "        }    #T_d1ebffdc_204a_11e9_b5fb_b8aeed36a7c7row5_col4 {\n",
       "            color:  black;\n",
       "        }    #T_d1ebffdc_204a_11e9_b5fb_b8aeed36a7c7row6_col0 {\n",
       "            color:  red;\n",
       "        }    #T_d1ebffdc_204a_11e9_b5fb_b8aeed36a7c7row6_col1 {\n",
       "            color:  red;\n",
       "        }    #T_d1ebffdc_204a_11e9_b5fb_b8aeed36a7c7row6_col2 {\n",
       "            color:  red;\n",
       "        }    #T_d1ebffdc_204a_11e9_b5fb_b8aeed36a7c7row6_col3 {\n",
       "            color:  black;\n",
       "        }    #T_d1ebffdc_204a_11e9_b5fb_b8aeed36a7c7row6_col4 {\n",
       "            color:  red;\n",
       "        }    #T_d1ebffdc_204a_11e9_b5fb_b8aeed36a7c7row7_col0 {\n",
       "            color:  red;\n",
       "        }    #T_d1ebffdc_204a_11e9_b5fb_b8aeed36a7c7row7_col1 {\n",
       "            color:  red;\n",
       "        }    #T_d1ebffdc_204a_11e9_b5fb_b8aeed36a7c7row7_col2 {\n",
       "            color:  red;\n",
       "        }    #T_d1ebffdc_204a_11e9_b5fb_b8aeed36a7c7row7_col3 {\n",
       "            color:  black;\n",
       "        }    #T_d1ebffdc_204a_11e9_b5fb_b8aeed36a7c7row7_col4 {\n",
       "            color:  red;\n",
       "        }    #T_d1ebffdc_204a_11e9_b5fb_b8aeed36a7c7row8_col0 {\n",
       "            color:  red;\n",
       "        }    #T_d1ebffdc_204a_11e9_b5fb_b8aeed36a7c7row8_col1 {\n",
       "            color:  red;\n",
       "        }    #T_d1ebffdc_204a_11e9_b5fb_b8aeed36a7c7row8_col2 {\n",
       "            color:  black;\n",
       "        }    #T_d1ebffdc_204a_11e9_b5fb_b8aeed36a7c7row8_col3 {\n",
       "            color:  red;\n",
       "        }    #T_d1ebffdc_204a_11e9_b5fb_b8aeed36a7c7row8_col4 {\n",
       "            color:  black;\n",
       "        }    #T_d1ebffdc_204a_11e9_b5fb_b8aeed36a7c7row9_col0 {\n",
       "            color:  red;\n",
       "        }    #T_d1ebffdc_204a_11e9_b5fb_b8aeed36a7c7row9_col1 {\n",
       "            color:  black;\n",
       "        }    #T_d1ebffdc_204a_11e9_b5fb_b8aeed36a7c7row9_col2 {\n",
       "            color:  red;\n",
       "        }    #T_d1ebffdc_204a_11e9_b5fb_b8aeed36a7c7row9_col3 {\n",
       "            color:  black;\n",
       "        }    #T_d1ebffdc_204a_11e9_b5fb_b8aeed36a7c7row9_col4 {\n",
       "            color:  red;\n",
       "        }</style>  \n",
       "<table id=\"T_d1ebffdc_204a_11e9_b5fb_b8aeed36a7c7\" > \n",
       "<thead>    <tr> \n",
       "        <th class=\"blank level0\" ></th> \n",
       "        <th class=\"col_heading level0 col0\" >A</th> \n",
       "        <th class=\"col_heading level0 col1\" >B</th> \n",
       "        <th class=\"col_heading level0 col2\" >C</th> \n",
       "        <th class=\"col_heading level0 col3\" >D</th> \n",
       "        <th class=\"col_heading level0 col4\" >E</th> \n",
       "    </tr></thead> \n",
       "<tbody>    <tr> \n",
       "        <th id=\"T_d1ebffdc_204a_11e9_b5fb_b8aeed36a7c7level0_row0\" class=\"row_heading level0 row0\" >0</th> \n",
       "        <td id=\"T_d1ebffdc_204a_11e9_b5fb_b8aeed36a7c7row0_col0\" class=\"data row0 col0\" >1</td> \n",
       "        <td id=\"T_d1ebffdc_204a_11e9_b5fb_b8aeed36a7c7row0_col1\" class=\"data row0 col1\" >1.32921</td> \n",
       "        <td id=\"T_d1ebffdc_204a_11e9_b5fb_b8aeed36a7c7row0_col2\" class=\"data row0 col2\" >nan</td> \n",
       "        <td id=\"T_d1ebffdc_204a_11e9_b5fb_b8aeed36a7c7row0_col3\" class=\"data row0 col3\" >-0.31628</td> \n",
       "        <td id=\"T_d1ebffdc_204a_11e9_b5fb_b8aeed36a7c7row0_col4\" class=\"data row0 col4\" >-0.99081</td> \n",
       "    </tr>    <tr> \n",
       "        <th id=\"T_d1ebffdc_204a_11e9_b5fb_b8aeed36a7c7level0_row1\" class=\"row_heading level0 row1\" >1</th> \n",
       "        <td id=\"T_d1ebffdc_204a_11e9_b5fb_b8aeed36a7c7row1_col0\" class=\"data row1 col0\" >2</td> \n",
       "        <td id=\"T_d1ebffdc_204a_11e9_b5fb_b8aeed36a7c7row1_col1\" class=\"data row1 col1\" >-1.07082</td> \n",
       "        <td id=\"T_d1ebffdc_204a_11e9_b5fb_b8aeed36a7c7row1_col2\" class=\"data row1 col2\" >-1.43871</td> \n",
       "        <td id=\"T_d1ebffdc_204a_11e9_b5fb_b8aeed36a7c7row1_col3\" class=\"data row1 col3\" >0.564417</td> \n",
       "        <td id=\"T_d1ebffdc_204a_11e9_b5fb_b8aeed36a7c7row1_col4\" class=\"data row1 col4\" >0.295722</td> \n",
       "    </tr>    <tr> \n",
       "        <th id=\"T_d1ebffdc_204a_11e9_b5fb_b8aeed36a7c7level0_row2\" class=\"row_heading level0 row2\" >2</th> \n",
       "        <td id=\"T_d1ebffdc_204a_11e9_b5fb_b8aeed36a7c7row2_col0\" class=\"data row2 col0\" >3</td> \n",
       "        <td id=\"T_d1ebffdc_204a_11e9_b5fb_b8aeed36a7c7row2_col1\" class=\"data row2 col1\" >-1.6264</td> \n",
       "        <td id=\"T_d1ebffdc_204a_11e9_b5fb_b8aeed36a7c7row2_col2\" class=\"data row2 col2\" >0.219565</td> \n",
       "        <td id=\"T_d1ebffdc_204a_11e9_b5fb_b8aeed36a7c7row2_col3\" class=\"data row2 col3\" >0.678805</td> \n",
       "        <td id=\"T_d1ebffdc_204a_11e9_b5fb_b8aeed36a7c7row2_col4\" class=\"data row2 col4\" >1.88927</td> \n",
       "    </tr>    <tr> \n",
       "        <th id=\"T_d1ebffdc_204a_11e9_b5fb_b8aeed36a7c7level0_row3\" class=\"row_heading level0 row3\" >3</th> \n",
       "        <td id=\"T_d1ebffdc_204a_11e9_b5fb_b8aeed36a7c7row3_col0\" class=\"data row3 col0\" >4</td> \n",
       "        <td id=\"T_d1ebffdc_204a_11e9_b5fb_b8aeed36a7c7row3_col1\" class=\"data row3 col1\" >0.961538</td> \n",
       "        <td id=\"T_d1ebffdc_204a_11e9_b5fb_b8aeed36a7c7row3_col2\" class=\"data row3 col2\" >0.104011</td> \n",
       "        <td id=\"T_d1ebffdc_204a_11e9_b5fb_b8aeed36a7c7row3_col3\" class=\"data row3 col3\" >-0.481165</td> \n",
       "        <td id=\"T_d1ebffdc_204a_11e9_b5fb_b8aeed36a7c7row3_col4\" class=\"data row3 col4\" >0.850229</td> \n",
       "    </tr>    <tr> \n",
       "        <th id=\"T_d1ebffdc_204a_11e9_b5fb_b8aeed36a7c7level0_row4\" class=\"row_heading level0 row4\" >4</th> \n",
       "        <td id=\"T_d1ebffdc_204a_11e9_b5fb_b8aeed36a7c7row4_col0\" class=\"data row4 col0\" >5</td> \n",
       "        <td id=\"T_d1ebffdc_204a_11e9_b5fb_b8aeed36a7c7row4_col1\" class=\"data row4 col1\" >1.45342</td> \n",
       "        <td id=\"T_d1ebffdc_204a_11e9_b5fb_b8aeed36a7c7row4_col2\" class=\"data row4 col2\" >1.05774</td> \n",
       "        <td id=\"T_d1ebffdc_204a_11e9_b5fb_b8aeed36a7c7row4_col3\" class=\"data row4 col3\" >0.165562</td> \n",
       "        <td id=\"T_d1ebffdc_204a_11e9_b5fb_b8aeed36a7c7row4_col4\" class=\"data row4 col4\" >0.515018</td> \n",
       "    </tr>    <tr> \n",
       "        <th id=\"T_d1ebffdc_204a_11e9_b5fb_b8aeed36a7c7level0_row5\" class=\"row_heading level0 row5\" >5</th> \n",
       "        <td id=\"T_d1ebffdc_204a_11e9_b5fb_b8aeed36a7c7row5_col0\" class=\"data row5 col0\" >6</td> \n",
       "        <td id=\"T_d1ebffdc_204a_11e9_b5fb_b8aeed36a7c7row5_col1\" class=\"data row5 col1\" >-1.33694</td> \n",
       "        <td id=\"T_d1ebffdc_204a_11e9_b5fb_b8aeed36a7c7row5_col2\" class=\"data row5 col2\" >0.562861</td> \n",
       "        <td id=\"T_d1ebffdc_204a_11e9_b5fb_b8aeed36a7c7row5_col3\" class=\"data row5 col3\" >1.39285</td> \n",
       "        <td id=\"T_d1ebffdc_204a_11e9_b5fb_b8aeed36a7c7row5_col4\" class=\"data row5 col4\" >-0.063328</td> \n",
       "    </tr>    <tr> \n",
       "        <th id=\"T_d1ebffdc_204a_11e9_b5fb_b8aeed36a7c7level0_row6\" class=\"row_heading level0 row6\" >6</th> \n",
       "        <td id=\"T_d1ebffdc_204a_11e9_b5fb_b8aeed36a7c7row6_col0\" class=\"data row6 col0\" >7</td> \n",
       "        <td id=\"T_d1ebffdc_204a_11e9_b5fb_b8aeed36a7c7row6_col1\" class=\"data row6 col1\" >0.121668</td> \n",
       "        <td id=\"T_d1ebffdc_204a_11e9_b5fb_b8aeed36a7c7row6_col2\" class=\"data row6 col2\" >1.2076</td> \n",
       "        <td id=\"T_d1ebffdc_204a_11e9_b5fb_b8aeed36a7c7row6_col3\" class=\"data row6 col3\" >-0.00204021</td> \n",
       "        <td id=\"T_d1ebffdc_204a_11e9_b5fb_b8aeed36a7c7row6_col4\" class=\"data row6 col4\" >1.6278</td> \n",
       "    </tr>    <tr> \n",
       "        <th id=\"T_d1ebffdc_204a_11e9_b5fb_b8aeed36a7c7level0_row7\" class=\"row_heading level0 row7\" >7</th> \n",
       "        <td id=\"T_d1ebffdc_204a_11e9_b5fb_b8aeed36a7c7row7_col0\" class=\"data row7 col0\" >8</td> \n",
       "        <td id=\"T_d1ebffdc_204a_11e9_b5fb_b8aeed36a7c7row7_col1\" class=\"data row7 col1\" >0.354493</td> \n",
       "        <td id=\"T_d1ebffdc_204a_11e9_b5fb_b8aeed36a7c7row7_col2\" class=\"data row7 col2\" >1.03753</td> \n",
       "        <td id=\"T_d1ebffdc_204a_11e9_b5fb_b8aeed36a7c7row7_col3\" class=\"data row7 col3\" >-0.385684</td> \n",
       "        <td id=\"T_d1ebffdc_204a_11e9_b5fb_b8aeed36a7c7row7_col4\" class=\"data row7 col4\" >0.519818</td> \n",
       "    </tr>    <tr> \n",
       "        <th id=\"T_d1ebffdc_204a_11e9_b5fb_b8aeed36a7c7level0_row8\" class=\"row_heading level0 row8\" >8</th> \n",
       "        <td id=\"T_d1ebffdc_204a_11e9_b5fb_b8aeed36a7c7row8_col0\" class=\"data row8 col0\" >9</td> \n",
       "        <td id=\"T_d1ebffdc_204a_11e9_b5fb_b8aeed36a7c7row8_col1\" class=\"data row8 col1\" >1.68658</td> \n",
       "        <td id=\"T_d1ebffdc_204a_11e9_b5fb_b8aeed36a7c7row8_col2\" class=\"data row8 col2\" >-1.32596</td> \n",
       "        <td id=\"T_d1ebffdc_204a_11e9_b5fb_b8aeed36a7c7row8_col3\" class=\"data row8 col3\" >1.42898</td> \n",
       "        <td id=\"T_d1ebffdc_204a_11e9_b5fb_b8aeed36a7c7row8_col4\" class=\"data row8 col4\" >-2.08935</td> \n",
       "    </tr>    <tr> \n",
       "        <th id=\"T_d1ebffdc_204a_11e9_b5fb_b8aeed36a7c7level0_row9\" class=\"row_heading level0 row9\" >9</th> \n",
       "        <td id=\"T_d1ebffdc_204a_11e9_b5fb_b8aeed36a7c7row9_col0\" class=\"data row9 col0\" >10</td> \n",
       "        <td id=\"T_d1ebffdc_204a_11e9_b5fb_b8aeed36a7c7row9_col1\" class=\"data row9 col1\" >-0.12982</td> \n",
       "        <td id=\"T_d1ebffdc_204a_11e9_b5fb_b8aeed36a7c7row9_col2\" class=\"data row9 col2\" >0.631523</td> \n",
       "        <td id=\"T_d1ebffdc_204a_11e9_b5fb_b8aeed36a7c7row9_col3\" class=\"data row9 col3\" >-0.586538</td> \n",
       "        <td id=\"T_d1ebffdc_204a_11e9_b5fb_b8aeed36a7c7row9_col4\" class=\"data row9 col4\" >0.29072</td> \n",
       "    </tr></tbody> \n",
       "</table> "
      ],
      "text/plain": [
       "<pandas.io.formats.style.Styler at 0xb65c780>"
      ]
     },
     "execution_count": 16,
     "metadata": {},
     "output_type": "execute_result"
    }
   ],
   "source": [
    "import numpy as np\n",
    "np.random.seed(24)\n",
    "\n",
    "df = pd.DataFrame({'A': np.linspace(1, 10, 10)})\n",
    "df = pd.concat([df, pd.DataFrame(np.random.randn(10, 4), columns=list('BCDE'))],\n",
    "               axis=1)\n",
    "df.iloc[0, 2] = np.nan\n",
    "def color_negative_red(val):\n",
    "    \"\"\"\n",
    "    Takes a scalar and returns a string with\n",
    "    the css property `'color: red'` for negative\n",
    "    strings, black otherwise.\n",
    "    \"\"\"\n",
    "    color = 'red' if val >0 else 'black'\n",
    "    return 'color: %s' % color\n",
    "s = df.style.applymap(color_negative_red)\n",
    "s"
   ]
  },
  {
   "cell_type": "code",
   "execution_count": 2,
   "metadata": {
    "collapsed": true
   },
   "outputs": [
    {
     "data": {
      "text/html": [
       "<div>\n",
       "<style scoped>\n",
       "    .dataframe tbody tr th:only-of-type {\n",
       "        vertical-align: middle;\n",
       "    }\n",
       "\n",
       "    .dataframe tbody tr th {\n",
       "        vertical-align: top;\n",
       "    }\n",
       "\n",
       "    .dataframe thead th {\n",
       "        text-align: right;\n",
       "    }\n",
       "</style>\n",
       "<table border=\"1\" class=\"dataframe\">\n",
       "  <thead>\n",
       "    <tr style=\"text-align: right;\">\n",
       "      <th></th>\n",
       "    </tr>\n",
       "  </thead>\n",
       "  <tbody>\n",
       "  </tbody>\n",
       "</table>\n",
       "</div>"
      ],
      "text/plain": [
       "Empty DataFrame\n",
       "Columns: []\n",
       "Index: []"
      ]
     },
     "execution_count": 2,
     "metadata": {},
     "output_type": "execute_result"
    }
   ],
   "source": [
    "import pandas as pd\n",
    "import numpy as np"
   ]
  },
  {
   "cell_type": "code",
   "execution_count": 4,
   "metadata": {
    "collapsed": true
   },
   "outputs": [
    {
     "data": {
      "text/html": [
       "<div>\n",
       "<style scoped>\n",
       "    .dataframe tbody tr th:only-of-type {\n",
       "        vertical-align: middle;\n",
       "    }\n",
       "\n",
       "    .dataframe tbody tr th {\n",
       "        vertical-align: top;\n",
       "    }\n",
       "\n",
       "    .dataframe thead th {\n",
       "        text-align: right;\n",
       "    }\n",
       "</style>\n",
       "<table border=\"1\" class=\"dataframe\">\n",
       "  <thead>\n",
       "    <tr style=\"text-align: right;\">\n",
       "      <th></th>\n",
       "      <th>Amy</th>\n",
       "      <th>Bob</th>\n",
       "      <th>Carl</th>\n",
       "      <th>Chris</th>\n",
       "      <th>Ben</th>\n",
       "      <th>Other</th>\n",
       "      <th>Year</th>\n",
       "    </tr>\n",
       "  </thead>\n",
       "  <tbody>\n",
       "    <tr>\n",
       "      <th>0</th>\n",
       "      <td>2</td>\n",
       "      <td>4</td>\n",
       "      <td>7</td>\n",
       "      <td>8</td>\n",
       "      <td>1</td>\n",
       "      <td>3</td>\n",
       "      <td>2013</td>\n",
       "    </tr>\n",
       "    <tr>\n",
       "      <th>1</th>\n",
       "      <td>9</td>\n",
       "      <td>2</td>\n",
       "      <td>4</td>\n",
       "      <td>5</td>\n",
       "      <td>5</td>\n",
       "      <td>6</td>\n",
       "      <td>2014</td>\n",
       "    </tr>\n",
       "  </tbody>\n",
       "</table>\n",
       "</div>"
      ],
      "text/plain": [
       "   Amy  Bob  Carl  Chris  Ben  Other  Year\n",
       "0    2    4     7      8    1      3  2013\n",
       "1    9    2     4      5    5      6  2014"
      ]
     },
     "execution_count": 4,
     "metadata": {},
     "output_type": "execute_result"
    }
   ],
   "source": [
    "#melt_function\n",
    "df = pd.DataFrame([[2, 4, 7, 8, 1, 3, 2013], [9, 2, 4, 5, 5, 6, 2014]], columns=['Amy', 'Bob', 'Carl', 'Chris', 'Ben', 'Other', 'Year'])\n",
    "df"
   ]
  },
  {
   "cell_type": "code",
   "execution_count": 6,
   "metadata": {
    "collapsed": true
   },
   "outputs": [
    {
     "data": {
      "text/html": [
       "<div>\n",
       "<style scoped>\n",
       "    .dataframe tbody tr th:only-of-type {\n",
       "        vertical-align: middle;\n",
       "    }\n",
       "\n",
       "    .dataframe tbody tr th {\n",
       "        vertical-align: top;\n",
       "    }\n",
       "\n",
       "    .dataframe thead th {\n",
       "        text-align: right;\n",
       "    }\n",
       "</style>\n",
       "<table border=\"1\" class=\"dataframe\">\n",
       "  <thead>\n",
       "    <tr style=\"text-align: right;\">\n",
       "      <th></th>\n",
       "      <th>Year</th>\n",
       "      <th>Name</th>\n",
       "      <th>value</th>\n",
       "    </tr>\n",
       "  </thead>\n",
       "  <tbody>\n",
       "    <tr>\n",
       "      <th>0</th>\n",
       "      <td>2013</td>\n",
       "      <td>Amy</td>\n",
       "      <td>2</td>\n",
       "    </tr>\n",
       "    <tr>\n",
       "      <th>1</th>\n",
       "      <td>2014</td>\n",
       "      <td>Amy</td>\n",
       "      <td>9</td>\n",
       "    </tr>\n",
       "    <tr>\n",
       "      <th>2</th>\n",
       "      <td>2013</td>\n",
       "      <td>Bob</td>\n",
       "      <td>4</td>\n",
       "    </tr>\n",
       "    <tr>\n",
       "      <th>3</th>\n",
       "      <td>2014</td>\n",
       "      <td>Bob</td>\n",
       "      <td>2</td>\n",
       "    </tr>\n",
       "    <tr>\n",
       "      <th>4</th>\n",
       "      <td>2013</td>\n",
       "      <td>Carl</td>\n",
       "      <td>7</td>\n",
       "    </tr>\n",
       "    <tr>\n",
       "      <th>5</th>\n",
       "      <td>2014</td>\n",
       "      <td>Carl</td>\n",
       "      <td>4</td>\n",
       "    </tr>\n",
       "    <tr>\n",
       "      <th>6</th>\n",
       "      <td>2013</td>\n",
       "      <td>Chris</td>\n",
       "      <td>8</td>\n",
       "    </tr>\n",
       "    <tr>\n",
       "      <th>7</th>\n",
       "      <td>2014</td>\n",
       "      <td>Chris</td>\n",
       "      <td>5</td>\n",
       "    </tr>\n",
       "    <tr>\n",
       "      <th>8</th>\n",
       "      <td>2013</td>\n",
       "      <td>Ben</td>\n",
       "      <td>1</td>\n",
       "    </tr>\n",
       "    <tr>\n",
       "      <th>9</th>\n",
       "      <td>2014</td>\n",
       "      <td>Ben</td>\n",
       "      <td>5</td>\n",
       "    </tr>\n",
       "    <tr>\n",
       "      <th>10</th>\n",
       "      <td>2013</td>\n",
       "      <td>Other</td>\n",
       "      <td>3</td>\n",
       "    </tr>\n",
       "    <tr>\n",
       "      <th>11</th>\n",
       "      <td>2014</td>\n",
       "      <td>Other</td>\n",
       "      <td>6</td>\n",
       "    </tr>\n",
       "  </tbody>\n",
       "</table>\n",
       "</div>"
      ],
      "text/plain": [
       "    Year   Name  value\n",
       "0   2013    Amy      2\n",
       "1   2014    Amy      9\n",
       "2   2013    Bob      4\n",
       "3   2014    Bob      2\n",
       "4   2013   Carl      7\n",
       "5   2014   Carl      4\n",
       "6   2013  Chris      8\n",
       "7   2014  Chris      5\n",
       "8   2013    Ben      1\n",
       "9   2014    Ben      5\n",
       "10  2013  Other      3\n",
       "11  2014  Other      6"
      ]
     },
     "execution_count": 6,
     "metadata": {},
     "output_type": "execute_result"
    }
   ],
   "source": [
    "m = pd.melt(df, id_vars=['Year'], var_name='Name')\n",
    "m"
   ]
  },
  {
   "cell_type": "code",
   "execution_count": 50,
   "metadata": {
    "collapsed": true
   },
   "outputs": [
    {
     "data": {
      "text/html": [
       "<div>\n",
       "<style scoped>\n",
       "    .dataframe tbody tr th:only-of-type {\n",
       "        vertical-align: middle;\n",
       "    }\n",
       "\n",
       "    .dataframe tbody tr th {\n",
       "        vertical-align: top;\n",
       "    }\n",
       "\n",
       "    .dataframe thead th {\n",
       "        text-align: right;\n",
       "    }\n",
       "</style>\n",
       "<table border=\"1\" class=\"dataframe\">\n",
       "  <thead>\n",
       "    <tr style=\"text-align: right;\">\n",
       "      <th></th>\n",
       "      <th>a</th>\n",
       "      <th>b</th>\n",
       "      <th>c</th>\n",
       "      <th>d</th>\n",
       "      <th>e</th>\n",
       "      <th>f</th>\n",
       "      <th>g</th>\n",
       "    </tr>\n",
       "  </thead>\n",
       "  <tbody>\n",
       "    <tr>\n",
       "      <th>0</th>\n",
       "      <td>1</td>\n",
       "      <td>2</td>\n",
       "      <td>dd</td>\n",
       "      <td>5</td>\n",
       "      <td>8</td>\n",
       "      <td>3</td>\n",
       "      <td>8</td>\n",
       "    </tr>\n",
       "    <tr>\n",
       "      <th>1</th>\n",
       "      <td>2</td>\n",
       "      <td>3</td>\n",
       "      <td>ee</td>\n",
       "      <td>9</td>\n",
       "      <td>14</td>\n",
       "      <td>5</td>\n",
       "      <td>14</td>\n",
       "    </tr>\n",
       "    <tr>\n",
       "      <th>2</th>\n",
       "      <td>3</td>\n",
       "      <td>4</td>\n",
       "      <td>ff</td>\n",
       "      <td>1</td>\n",
       "      <td>8</td>\n",
       "      <td>7</td>\n",
       "      <td>8</td>\n",
       "    </tr>\n",
       "    <tr>\n",
       "      <th>Total</th>\n",
       "      <td>12</td>\n",
       "      <td>18</td>\n",
       "      <td>ddeeffddeeff</td>\n",
       "      <td>30</td>\n",
       "      <td>60</td>\n",
       "      <td>30</td>\n",
       "      <td>60</td>\n",
       "    </tr>\n",
       "  </tbody>\n",
       "</table>\n",
       "</div>"
      ],
      "text/plain": [
       "        a   b             c   d   e   f   g\n",
       "0       1   2            dd   5   8   3   8\n",
       "1       2   3            ee   9  14   5  14\n",
       "2       3   4            ff   1   8   7   8\n",
       "Total  12  18  ddeeffddeeff  30  60  30  60"
      ]
     },
     "execution_count": 50,
     "metadata": {},
     "output_type": "execute_result"
    }
   ],
   "source": [
    "#for column total\n",
    "df.loc['Total']= df.sum()\n",
    "df"
   ]
  },
  {
   "cell_type": "code",
   "execution_count": 52,
   "metadata": {
    "collapsed": true
   },
   "outputs": [
    {
     "data": {
      "text/html": [
       "<div>\n",
       "<style scoped>\n",
       "    .dataframe tbody tr th:only-of-type {\n",
       "        vertical-align: middle;\n",
       "    }\n",
       "\n",
       "    .dataframe tbody tr th {\n",
       "        vertical-align: top;\n",
       "    }\n",
       "\n",
       "    .dataframe thead th {\n",
       "        text-align: right;\n",
       "    }\n",
       "</style>\n",
       "<table border=\"1\" class=\"dataframe\">\n",
       "  <thead>\n",
       "    <tr style=\"text-align: right;\">\n",
       "      <th></th>\n",
       "      <th>a</th>\n",
       "      <th>b</th>\n",
       "      <th>c</th>\n",
       "      <th>d</th>\n",
       "      <th>e</th>\n",
       "      <th>f</th>\n",
       "      <th>g</th>\n",
       "      <th>Total</th>\n",
       "      <th>Total</th>\n",
       "    </tr>\n",
       "  </thead>\n",
       "  <tbody>\n",
       "    <tr>\n",
       "      <th>0</th>\n",
       "      <td>1</td>\n",
       "      <td>2</td>\n",
       "      <td>dd</td>\n",
       "      <td>5</td>\n",
       "      <td>8</td>\n",
       "      <td>3</td>\n",
       "      <td>8</td>\n",
       "      <td>27</td>\n",
       "      <td>54</td>\n",
       "    </tr>\n",
       "    <tr>\n",
       "      <th>1</th>\n",
       "      <td>2</td>\n",
       "      <td>3</td>\n",
       "      <td>ee</td>\n",
       "      <td>9</td>\n",
       "      <td>14</td>\n",
       "      <td>5</td>\n",
       "      <td>14</td>\n",
       "      <td>47</td>\n",
       "      <td>94</td>\n",
       "    </tr>\n",
       "    <tr>\n",
       "      <th>2</th>\n",
       "      <td>3</td>\n",
       "      <td>4</td>\n",
       "      <td>ff</td>\n",
       "      <td>1</td>\n",
       "      <td>8</td>\n",
       "      <td>7</td>\n",
       "      <td>8</td>\n",
       "      <td>31</td>\n",
       "      <td>62</td>\n",
       "    </tr>\n",
       "    <tr>\n",
       "      <th>Total</th>\n",
       "      <td>12</td>\n",
       "      <td>18</td>\n",
       "      <td>ddeeffddeeff</td>\n",
       "      <td>30</td>\n",
       "      <td>60</td>\n",
       "      <td>30</td>\n",
       "      <td>60</td>\n",
       "      <td>210</td>\n",
       "      <td>420</td>\n",
       "    </tr>\n",
       "  </tbody>\n",
       "</table>\n",
       "</div>"
      ],
      "text/plain": [
       "        a   b             c   d   e   f   g  Total  Total\n",
       "0       1   2            dd   5   8   3   8     27     54\n",
       "1       2   3            ee   9  14   5  14     47     94\n",
       "2       3   4            ff   1   8   7   8     31     62\n",
       "Total  12  18  ddeeffddeeff  30  60  30  60    210    420"
      ]
     },
     "execution_count": 52,
     "metadata": {},
     "output_type": "execute_result"
    }
   ],
   "source": [
    "#df.append(pd.Series(df.sum(),name='Total'))\n",
    "df = pd.concat([df,pd.DataFrame(df.sum(axis=1),columns=['Total'])],axis=1)\n",
    "df"
   ]
  },
  {
   "cell_type": "code",
   "execution_count": null,
   "metadata": {},
   "outputs": [],
   "source": [
    "df.dropna(axis=0, how='any', thresh=None, subset=None, inplace=False)\n",
    "df1 = df[~df.FLOW_ACT_CASA_IN.str.endswith(\"ing\")]\n",
    "df1 = df[~df.TARGET_RENEW.np.object.dtype.endswith(\"0\")]\n",
    "df1=df.loc[~(df==0).all(axis=1)]\n",
    "df.loc[(df!=0).any(axis=1)]\n",
    "df1 = df.drop(\"0\",axis=0)\n",
    "df = df.set_index(\"TARGET_RENEW\") \n",
    "df=shuffle(df)\n",
    "df = df.reset_index(drop=True)\n",
    "df['TAG']=pd.factorize(df['TAG'])[0]\n",
    "#df.columns.astype('category').cat.codes\n",
    "#\n",
    "onehotencoder = OneHotEncoder(categorical_features = \"all\")\n",
    "x_train= onehotencoder.fit_transform(x_train).toarray()\n",
    "#\n",
    "#convert output value to df\n",
    "df2=pd.DataFrame(y_pred, columns=['output']) \n",
    "\n",
    "df3=df1.join(df2)\n",
    "#based on grouping value print the output file\n",
    "negative_cus_id=df3[df3[\"output\"] ==0]\n",
    "\n",
    "df.Average_Cbal = df.Average_Cbal.astype(float)\n",
    "\n",
    "df.dtype\n",
    "df[df['BAL_INQ_NUM_UB500RM_M']<13].max\n",
    "df['BAL_INQ_NUM_UB500RM_M'].value_counts()\n",
    "df1['FINAL_SEGMENT'].value_counts().plot.pie()\n",
    "df1['FINAL_SEGMENT'].value_counts()\n",
    "df1['FINAL_SEGMENT'].value_counts().plot.bar()\n",
    "df1['PROD_Curr_CASA_In_num'].values.plot(kind='bar')\n",
    "df1['PROD_Curr_Mebal_CASA'].value_counts(sort=True).plot.bar()\n",
    "df1['PROD_Curr_CASA_In_num'].hist(bins=10)\n",
    "\n",
    "x=df.iloc[:,:7].values\n",
    "\n",
    "split=df['col1'].str.split('_',expand=True)\n",
    "split1=split[0].values\n",
    "\n",
    "df=pd.replace_values('col1')\n",
    "df = df._get_numeric_data()\n",
    "dfnew=dfnew.isnull().count()\n",
    "df.isna().sum(axis = 0)\n",
    "df[\"FLOW_ACT_CASA_OUT\"].describe()\n",
    "#df.isnull().sum(axis = 0)\n",
    "#df.isnull().sum(axis = 1)\n",
    "df[\"FLOW_ACT_CASA_OUT\"].isnull().sum(axis = 0)\n",
    "#\n",
    "list1=['1','2','3','4']\n",
    "d=dict(list1)\n",
    "#\n",
    "df1 = df4[df4['max_applied_dt'].notnull()]\n",
    "df2=df1[df1['max_applied_dt']!=1]\n",
    "#\n",
    "sns.countplot(x='IF_CC_TAKEUP',data=dfe,palette='hls')\n",
    "plt.show()\n",
    "plt.savefig('C:\\\\Users\\\\tvimal\\\\Desktop\\\\countfig')\n",
    "#\n",
    "#COUNTING NULL VALUES\n",
    "df.isnull().any().any()\n",
    "df.isnull().values.sum()\n",
    "df.isnull().any()\n",
    "df.isnull().sum(axis = 0)\n",
    "df.isnull().sum(axis = 1)\n",
    "df[\"FLOW_ACT_CASA_OUT\"].isnull().sum(axis = 0)\n",
    "\n",
    "df['OTC_DEP_AMT'].describe()\n",
    "\n",
    "#count nan values\n",
    "count_nan = len(df) - df.count()\n",
    "count_nan\n",
    "\n",
    "#shows.all category type columns\n",
    "df1=df.select_dtypes(include=['object'])\n",
    "\n",
    "#renaming column\n",
    "data.rename(columns={\"OLD_NAME\": \"NEW_NAME\"}, inplace=True) \n",
    "df[col].value_counts(dropna=False)\n",
    "df_dm = pd.get_dummies(df.D_Occupation_Group,drop_first=True)\n",
    "df[['PRODUCT_HOLDING','TARGET_RENEW']].corr()\n",
    "\n",
    "#random selection of predictors\n",
    "df2=df.ix[np.random.choice(df.index, 15000)]\n",
    "df2\n",
    "\n",
    "##set one column value as an index \n",
    "df4.set_index('copy column name here which column want to be an index')\n",
    "#to creat enew col in a df with series of numbers\n",
    "df['news'] = np.arange(len(df)) \n",
    "\n",
    "#merging two dataframe\n",
    "df4 = pd.concat([df1, df2], inplace=True)\n",
    "df4\n",
    "\n",
    "with pd.ExcelFile('C:\\\\Users\\\\tvimal\\\\Desktop\\\\SEGMENTATION.xlsx') as xls:\n",
    "    df1 = pd.read_excel(xls, 'Sheet1')\n",
    "    df2 = pd.read_excel(xls, 'Sheet2')\n",
    "    df3 = pd.read_excel(xls, 'Sheet3')\n",
    "\n",
    "#to print output file\n",
    "df6.to_excel('C:\\\\Users\\\\tvimal\\\\Desktop\\\\pldata26497.xlsx')\n",
    "\n",
    "df1.to_csv(\"output_filename.csv\", index=False, encoding='utf8') \n",
    "\n",
    "\n",
    "\n",
    "#shape of the df\n",
    "df.shape\n",
    "#printing the dimension of the df\n",
    "df.ndim\n",
    "#printing last 10 rows\n",
    "df.tail(10)\n",
    "df.columns\n",
    "df.dtypes\n",
    "df=join(df2)\n",
    "df['TIME_SEGMENT'].nunique()\n",
    "\n",
    "\n",
    "#remove the columns which contains particular text\n",
    "df.apply(lambda row: row.astype(str).str.contains('00_Missing').any(), axis=1).value\n",
    "#next method\n",
    "df = df.set_index(\"FLOW_ACTIVE_AVG_CASA_IN_6M\") \n",
    "df1 = df.drop(\"00_Missing\",axis=0)\n",
    "df1\n",
    "#next method\n",
    "df1=df[df[\"FLOW_ACT_CASA_IN\"] ==\"00_Missing\"]\n",
    "df1\n",
    "\n",
    "#next method\n",
    "df1 = df[~df.FLOW_ACT_CASA_IN.str.endswith(\"ing\")]\n",
    "print (df1)\n",
    "\n",
    "#counting the columns which contains particular text\n",
    "df.apply(lambda row: row.astype(str).str.contains('00_Missing').any(), axis=1).value_counts()\n",
    "\n",
    "#set index for rows\n",
    "df1.set_index(pd.Series(range(0,564)),inplace=True)\n",
    "df1\n",
    "\n",
    "#it removes the repeated rows except first attempt\n",
    "df1.drop_duplicates(subset=None, keep='first', inplace=False)\n",
    "#compare two dframe and remove all repeated rows using particular row\n",
    "df1[~df1.DYN_SWING_CHANGING_in3M.isin(df2.DYN_SWING_CHANGING_in3M.values)]"
   ]
  },
  {
   "cell_type": "code",
   "execution_count": 1,
   "metadata": {},
   "outputs": [
    {
     "data": {
      "text/plain": [
       "'C:\\\\Users\\\\tvimal\\\\Desktop\\\\pythonn'"
      ]
     },
     "execution_count": 1,
     "metadata": {},
     "output_type": "execute_result"
    }
   ],
   "source": [
    "pwd"
   ]
  },
  {
   "cell_type": "code",
   "execution_count": null,
   "metadata": {},
   "outputs": [],
   "source": [
    "#to get apriori result in list format,where mb is the list(rules)\n",
    "listRules = [list(MB[i][0]) for i in range(0,len(MB))]"
   ]
  },
  {
   "cell_type": "code",
   "execution_count": null,
   "metadata": {},
   "outputs": [],
   "source": [
    "import os\n",
    "os.getcwd()\n",
    "np.nrows()\n",
    "#############for apriori, making list\n",
    "s=df2.assign(key=df2.groupby(df2.index).cumcount()+1).set_index([df2.index,'key']).stack().unstack([1,2])\n",
    "s.columns=s.columns.map('{0[1]}{0[0]}'.format)\n",
    "s.shape\n",
    "###############\n",
    "df.convert_objects(convert_numeric=True).dtypes\n",
    "\n",
    "n_list = [\"Happy\", [2,0,1,5]]\n",
    "print(n_list[0][3])\n",
    "\n",
    "odd=[1,2,3,4]\n",
    "odd.append(7)\n",
    "odd.extend([3,4,5,6,7,8])\n",
    "\n",
    "col=df.columns.tolist()\n",
    "col_val=df['Age'].tolist()\n",
    "\n",
    "df[col_list]\n",
    "\n",
    " dfe=df['Age'].drop_duplicates().values.tolist()\n",
    "df.fillna({\"FLOW_AVG_CASA_IN_6M\":5,'FLOW_ACTIVE_AVG_CASA_IN_6M':6})\n"
   ]
  },
  {
   "cell_type": "code",
   "execution_count": 221,
   "metadata": {
    "collapsed": true
   },
   "outputs": [
    {
     "data": {
      "text/plain": [
       "Power_divergenceResult(statistic=0.0, pvalue=1.0)"
      ]
     },
     "execution_count": 221,
     "metadata": {},
     "output_type": "execute_result"
    }
   ],
   "source": [
    "scipy.stats.chisquare(df[\"WDR_AMT_PER_WORKING_DAY\"].value_counts())\n",
    "#\n",
    "cont = pd.crosstab(df[\"WORKING_DAYS\"],df[\"WDR_AMT_PER_WORKING_DAY\"])\n",
    "scipy.stats.chi2_contingency(cont)\n",
    "#"
   ]
  },
  {
   "cell_type": "code",
   "execution_count": 1,
   "metadata": {
    "collapsed": true
   },
   "outputs": [
    {
     "ename": "NameError",
     "evalue": "name 'dfs' is not defined",
     "output_type": "error",
     "traceback": [
      "\u001b[1;31m---------------------------------------------------------------------------\u001b[0m",
      "\u001b[1;31mNameError\u001b[0m                                 Traceback (most recent call last)",
      "\u001b[1;32m<ipython-input-1-c69c908507ba>\u001b[0m in \u001b[0;36m<module>\u001b[1;34m()\u001b[0m\n\u001b[0;32m      1\u001b[0m \u001b[1;31m# Any missing values?\u001b[0m\u001b[1;33m\u001b[0m\u001b[1;33m\u001b[0m\u001b[0m\n\u001b[1;32m----> 2\u001b[1;33m \u001b[0mprint\u001b[0m \u001b[1;33m(\u001b[0m\u001b[0mdfs\u001b[0m\u001b[1;33m.\u001b[0m\u001b[0misnull\u001b[0m\u001b[1;33m(\u001b[0m\u001b[1;33m)\u001b[0m\u001b[1;33m.\u001b[0m\u001b[0mvalues\u001b[0m\u001b[1;33m.\u001b[0m\u001b[0many\u001b[0m\u001b[1;33m(\u001b[0m\u001b[1;33m)\u001b[0m\u001b[1;33m)\u001b[0m\u001b[1;33m\u001b[0m\u001b[0m\n\u001b[0m",
      "\u001b[1;31mNameError\u001b[0m: name 'dfs' is not defined"
     ]
    }
   ],
   "source": [
    "# Any missing values?\n",
    "print (dfs.isnull().values.any())\n",
    "# Total number of missing values\n",
    "print (df.isnull().sum().sum())"
   ]
  },
  {
   "cell_type": "code",
   "execution_count": 45,
   "metadata": {
    "collapsed": true
   },
   "outputs": [
    {
     "data": {
      "text/plain": [
       "array([ 3,  6,  9, 12], dtype=int64)"
      ]
     },
     "execution_count": 45,
     "metadata": {},
     "output_type": "execute_result"
    }
   ],
   "source": [
    "obj=Series([3,6,9,12])\n",
    "obj \n",
    "obj.values"
   ]
  },
  {
   "cell_type": "code",
   "execution_count": 50,
   "metadata": {},
   "outputs": [],
   "source": [
    "df=DataFrame(np.arange(12).reshape(3,4))"
   ]
  },
  {
   "cell_type": "code",
   "execution_count": 53,
   "metadata": {},
   "outputs": [],
   "source": [
    "colors=Series([\"Blue\",\"red\"],index=[4,1])\n",
    "df['colors']=colors"
   ]
  },
  {
   "cell_type": "code",
   "execution_count": 63,
   "metadata": {
    "collapsed": true
   },
   "outputs": [
    {
     "data": {
      "text/plain": [
       "0        USA\n",
       "5     Mexico\n",
       "10    Canada\n",
       "dtype: object"
      ]
     },
     "execution_count": 63,
     "metadata": {},
     "output_type": "execute_result"
    }
   ],
   "source": [
    "ser3 = Series(['USA','Mexico','Canada'],index=[0,5,10])\n",
    "ser3"
   ]
  },
  {
   "cell_type": "code",
   "execution_count": 64,
   "metadata": {
    "collapsed": true
   },
   "outputs": [
    {
     "data": {
      "text/plain": [
       "0        USA\n",
       "1        USA\n",
       "2        USA\n",
       "3        USA\n",
       "4        USA\n",
       "5     Mexico\n",
       "6     Mexico\n",
       "7     Mexico\n",
       "8     Mexico\n",
       "9     Mexico\n",
       "10    Canada\n",
       "11    Canada\n",
       "12    Canada\n",
       "13    Canada\n",
       "14    Canada\n",
       "dtype: object"
      ]
     },
     "execution_count": 64,
     "metadata": {},
     "output_type": "execute_result"
    }
   ],
   "source": [
    "ser3.reindex(range(15),method='ffill')"
   ]
  },
  {
   "cell_type": "code",
   "execution_count": 11,
   "metadata": {
    "collapsed": true
   },
   "outputs": [
    {
     "data": {
      "text/plain": [
       "44    5336\n",
       "43    5205\n",
       "42    5075\n",
       "45    5069\n",
       "46    4944\n",
       "41    4929\n",
       "39    4861\n",
       "47    4832\n",
       "48    4824\n",
       "40    4805\n",
       "50    4721\n",
       "49    4679\n",
       "51    4624\n",
       "38    4471\n",
       "53    4424\n",
       "52    4402\n",
       "54    4109\n",
       "64    4066\n",
       "55    4066\n",
       "37    3994\n",
       "56    3832\n",
       "36    3750\n",
       "57    3704\n",
       "58    3561\n",
       "59    3546\n",
       "60    3288\n",
       "35    3278\n",
       "34    2943\n",
       "61    2914\n",
       "62    2903\n",
       "63    2615\n",
       "33    2463\n",
       "32    1984\n",
       "31    1457\n",
       "30    1155\n",
       "29     814\n",
       "28     587\n",
       "27     491\n",
       "26     277\n",
       "25     109\n",
       "24      62\n",
       "23      45\n",
       "21      30\n",
       "22      28\n",
       "Name: Age, dtype: int64"
      ]
     },
     "execution_count": 11,
     "metadata": {},
     "output_type": "execute_result"
    }
   ],
   "source": [
    "df['Age'].value_counts() "
   ]
  },
  {
   "cell_type": "code",
   "execution_count": 12,
   "metadata": {
    "collapsed": true
   },
   "outputs": [
    {
     "data": {
      "text/plain": [
       "22      28\n",
       "21      30\n",
       "23      45\n",
       "24      62\n",
       "25     109\n",
       "26     277\n",
       "27     491\n",
       "28     587\n",
       "29     814\n",
       "30    1155\n",
       "31    1457\n",
       "32    1984\n",
       "33    2463\n",
       "63    2615\n",
       "62    2903\n",
       "61    2914\n",
       "34    2943\n",
       "35    3278\n",
       "60    3288\n",
       "59    3546\n",
       "58    3561\n",
       "57    3704\n",
       "36    3750\n",
       "56    3832\n",
       "37    3994\n",
       "55    4066\n",
       "64    4066\n",
       "54    4109\n",
       "52    4402\n",
       "53    4424\n",
       "38    4471\n",
       "51    4624\n",
       "49    4679\n",
       "50    4721\n",
       "40    4805\n",
       "48    4824\n",
       "47    4832\n",
       "39    4861\n",
       "41    4929\n",
       "46    4944\n",
       "45    5069\n",
       "42    5075\n",
       "43    5205\n",
       "44    5336\n",
       "Name: Age, dtype: int64"
      ]
     },
     "execution_count": 12,
     "metadata": {},
     "output_type": "execute_result"
    }
   ],
   "source": [
    "df['Age'].value_counts(ascending=True,sort=False,dropna=False) \n"
   ]
  },
  {
   "cell_type": "code",
   "execution_count": 172,
   "metadata": {
    "collapsed": true
   },
   "outputs": [
    {
     "data": {
      "text/html": [
       "<div>\n",
       "<style scoped>\n",
       "    .dataframe tbody tr th:only-of-type {\n",
       "        vertical-align: middle;\n",
       "    }\n",
       "\n",
       "    .dataframe tbody tr th {\n",
       "        vertical-align: top;\n",
       "    }\n",
       "\n",
       "    .dataframe thead th {\n",
       "        text-align: right;\n",
       "    }\n",
       "</style>\n",
       "<table border=\"1\" class=\"dataframe\">\n",
       "  <thead>\n",
       "    <tr style=\"text-align: right;\">\n",
       "      <th></th>\n",
       "      <th>One</th>\n",
       "      <th>Two</th>\n",
       "      <th>Three</th>\n",
       "    </tr>\n",
       "  </thead>\n",
       "  <tbody>\n",
       "    <tr>\n",
       "      <th>A</th>\n",
       "      <td>1.0</td>\n",
       "      <td>2.0</td>\n",
       "      <td>NaN</td>\n",
       "    </tr>\n",
       "    <tr>\n",
       "      <th>B</th>\n",
       "      <td>NaN</td>\n",
       "      <td>3.0</td>\n",
       "      <td>4.0</td>\n",
       "    </tr>\n",
       "  </tbody>\n",
       "</table>\n",
       "</div>"
      ],
      "text/plain": [
       "   One  Two  Three\n",
       "A  1.0  2.0    NaN\n",
       "B  NaN  3.0    4.0"
      ]
     },
     "execution_count": 172,
     "metadata": {},
     "output_type": "execute_result"
    }
   ],
   "source": [
    "arr = np.array([[1,2,np.nan],[np.nan,3,4]]) \n",
    "df = DataFrame(arr,index=['A','B'],columns = ['One','Two','Three'])\n",
    "df"
   ]
  },
  {
   "cell_type": "code",
   "execution_count": 123,
   "metadata": {},
   "outputs": [
    {
     "name": "stdout",
     "output_type": "stream",
     "text": [
      ",0,1,2\n",
      "0,TARGET_RENEW,PRODUCT_HOLDING,APP_MINUS_FUND\n",
      "1,1,03_Active_CC,04_Over_30m\n",
      "2,0,03_Active_CC,04_Over_30m\n",
      "3,1,03_Active_CC,04_Over_30m\n",
      "4,1,02_Active_CASA,02_Under_18m\n"
     ]
    }
   ],
   "source": [
    "import sys\n",
    "df.to_csv(sys.stdout,columns=[0,1,2])"
   ]
  },
  {
   "cell_type": "code",
   "execution_count": 124,
   "metadata": {},
   "outputs": [],
   "source": [
    "import json"
   ]
  },
  {
   "cell_type": "code",
   "execution_count": 148,
   "metadata": {},
   "outputs": [],
   "source": [
    "df=pd.read_excel('C:\\\\Users\\\\tvimal\\\\Desktop\\\\SEGMENTATION.xlsx','Sheet1',nrows=500)\n",
    "concat1=pd.concat([df1,df2,df3],keys=['ATM'],axis=0)\n",
    "pd.merge(df1,df2, on='ATM', how='left')\n",
    "df1.STATE.replace('WP','1').value_counts()"
   ]
  },
  {
   "cell_type": "code",
   "execution_count": 194,
   "metadata": {
    "collapsed": true
   },
   "outputs": [
    {
     "data": {
      "text/plain": [
       "[(1980, 1990], (1990, 2000], (1990, 2000], (2000, 2010], (2010, 2020], ..., (1980, 1990], (1960, 1970], (2010, 2020], (2000, 2010], (1990, 2000]]\n",
       "Length: 11\n",
       "Categories (6, interval[int64]): [(1960, 1970] < (1970, 1980] < (1980, 1990] < (1990, 2000] < (2000, 2010] < (2010, 2020]]"
      ]
     },
     "execution_count": 194,
     "metadata": {},
     "output_type": "execute_result"
    }
   ],
   "source": [
    "years = [1990,1991,1992,2008,2012,2015,1987,1969,2013,2008,1999]\n",
    "decade_bins = [1960,1970,1980,1990,2000,2010,2020]\n",
    "decade_cat = pd.cut(years,decade_bins)\n",
    "decade_cat"
   ]
  },
  {
   "cell_type": "code",
   "execution_count": 195,
   "metadata": {},
   "outputs": [],
   "source": [
    "np.random.seed(12345) \n",
    "dframe = DataFrame(np.random.randn(1000,4))"
   ]
  },
  {
   "cell_type": "code",
   "execution_count": 197,
   "metadata": {
    "collapsed": true
   },
   "outputs": [
    {
     "data": {
      "text/plain": [
       "0     -0.204708\n",
       "1      1.965781\n",
       "2      0.769023\n",
       "3      0.274992\n",
       "4     -2.001637\n",
       "5     -0.539741\n",
       "6     -0.577087\n",
       "7      0.000940\n",
       "8     -2.370232\n",
       "9     -1.265934\n",
       "10    -2.359419\n",
       "11    -1.307030\n",
       "12     0.331286\n",
       "13    -0.011862\n",
       "14    -1.549106\n",
       "15     0.862580\n",
       "16     0.852965\n",
       "17    -0.652469\n",
       "18     0.723642\n",
       "19    -0.622274\n",
       "20     0.051316\n",
       "21     1.010737\n",
       "22    -0.131578\n",
       "23    -0.114928\n",
       "24     0.118110\n",
       "25    -1.565657\n",
       "26    -0.482573\n",
       "27    -0.589488\n",
       "28     0.929969\n",
       "29     0.220487\n",
       "         ...   \n",
       "970    1.140886\n",
       "971   -1.523554\n",
       "972    0.097878\n",
       "973   -0.738296\n",
       "974   -1.969172\n",
       "975   -0.813280\n",
       "976    0.669147\n",
       "977   -0.042541\n",
       "978    0.615651\n",
       "979    0.359400\n",
       "980   -0.261844\n",
       "981   -0.136429\n",
       "982   -0.355393\n",
       "983   -1.316005\n",
       "984    0.675317\n",
       "985   -0.754114\n",
       "986   -0.105654\n",
       "987   -0.052736\n",
       "988   -0.172078\n",
       "989    0.881601\n",
       "990   -0.103672\n",
       "991    0.926782\n",
       "992   -0.527754\n",
       "993    0.957144\n",
       "994    1.221058\n",
       "995    1.089085\n",
       "996   -0.478509\n",
       "997   -1.946267\n",
       "998   -1.293122\n",
       "999    0.089987\n",
       "Name: 0, Length: 1000, dtype: float64"
      ]
     },
     "execution_count": 197,
     "metadata": {},
     "output_type": "execute_result"
    }
   ],
   "source": [
    "col = dframe[0]\n",
    "col"
   ]
  },
  {
   "cell_type": "code",
   "execution_count": 199,
   "metadata": {
    "scrolled": true
   },
   "outputs": [
    {
     "data": {
      "text/plain": [
       "523   -3.428254\n",
       "900    3.366626\n",
       "Name: 0, dtype: float64"
      ]
     },
     "execution_count": 199,
     "metadata": {},
     "output_type": "execute_result"
    }
   ],
   "source": [
    "col[np.abs(dframe[0])>3]"
   ]
  },
  {
   "cell_type": "code",
   "execution_count": 1,
   "metadata": {},
   "outputs": [
    {
     "name": "stdout",
     "output_type": "stream",
     "text": [
      "Reverse is rotnemedoc\n"
     ]
    }
   ],
   "source": [
    "#10 tricks in python\n",
    "#reversing string\n",
    "a =  \"codementor\"\n",
    "print( \"Reverse is\",a[::-1])"
   ]
  },
  {
   "cell_type": "code",
   "execution_count": 3,
   "metadata": {},
   "outputs": [
    {
     "data": {
      "text/plain": [
       "<zip at 0x49c9f48>"
      ]
     },
     "execution_count": 3,
     "metadata": {},
     "output_type": "execute_result"
    }
   ],
   "source": [
    "#tranposing mstrix\n",
    "mat = [[1, 2, 3], [4, 5, 6]]\n",
    "zip(*mat)"
   ]
  },
  {
   "cell_type": "code",
   "execution_count": null,
   "metadata": {},
   "outputs": [],
   "source": [
    "#Store all three values of the list in 3 new variables\n",
    "a = [1, 2, 3]\n",
    "x, y, z = a \n",
    "##########################"
   ]
  },
  {
   "cell_type": "code",
   "execution_count": 4,
   "metadata": {
    "collapsed": true
   },
   "outputs": [
    {
     "name": "stdout",
     "output_type": "stream",
     "text": [
      "Code mentor Python Developer\n"
     ]
    }
   ],
   "source": [
    "#Create a single string from all the elements in list above.\n",
    "a = [\"Code\", \"mentor\", \"Python\", \"Developer\"]\n",
    "print( \" \".join(a))\n"
   ]
  },
  {
   "cell_type": "code",
   "execution_count": 7,
   "metadata": {},
   "outputs": [
    {
     "name": "stdout",
     "output_type": "stream",
     "text": [
      "a p\n",
      "b q\n",
      "c r\n",
      "d s\n"
     ]
    }
   ],
   "source": [
    "#zip func\n",
    "list1 = ['a', 'b', 'c', 'd']\n",
    "list2 = ['p', 'q', 'r', 's']\n",
    "for x, y in zip(list1,list2):\n",
    "    print (x, y)"
   ]
  },
  {
   "cell_type": "code",
   "execution_count": null,
   "metadata": {},
   "outputs": [],
   "source": [
    "#swap two numbers\n",
    "a=7\n",
    "b=5\n",
    "b, a =a, b"
   ]
  },
  {
   "cell_type": "code",
   "execution_count": 8,
   "metadata": {
    "collapsed": true
   },
   "outputs": [
    {
     "data": {
      "text/plain": [
       "[1, 2, 3, 4, 5, 6]"
      ]
     },
     "execution_count": 8,
     "metadata": {},
     "output_type": "execute_result"
    }
   ],
   "source": [
    "a = [[1, 2], [3, 4], [5, 6]]\n",
    "#Convert it to a single list without using any loops.\n",
    "import itertools \n",
    "list(itertools.chain.from_iterable(a))"
   ]
  },
  {
   "cell_type": "code",
   "execution_count": 12,
   "metadata": {},
   "outputs": [
    {
     "data": {
      "text/plain": [
       "<map at 0x4a8cda0>"
      ]
     },
     "execution_count": 12,
     "metadata": {},
     "output_type": "execute_result"
    }
   ],
   "source": [
    "#Taking a string input  and convert into integers\n",
    "#For example \"1 2 3 4\" and return [1, 2, 3, 4]\n",
    "result = map(lambda x:int(x) ,'1234456'.split())\n",
    "result"
   ]
  },
  {
   "cell_type": "markdown",
   "metadata": {},
   "source": [
    "# seaborn "
   ]
  },
  {
   "cell_type": "code",
   "execution_count": 2,
   "metadata": {
    "collapsed": true
   },
   "outputs": [
    {
     "data": {
      "text/html": [
       "<div>\n",
       "<style scoped>\n",
       "    .dataframe tbody tr th:only-of-type {\n",
       "        vertical-align: middle;\n",
       "    }\n",
       "\n",
       "    .dataframe tbody tr th {\n",
       "        vertical-align: top;\n",
       "    }\n",
       "\n",
       "    .dataframe thead th {\n",
       "        text-align: right;\n",
       "    }\n",
       "</style>\n",
       "<table border=\"1\" class=\"dataframe\">\n",
       "  <thead>\n",
       "    <tr style=\"text-align: right;\">\n",
       "      <th></th>\n",
       "      <th>group</th>\n",
       "      <th>Values</th>\n",
       "    </tr>\n",
       "  </thead>\n",
       "  <tbody>\n",
       "    <tr>\n",
       "      <th>0</th>\n",
       "      <td>A</td>\n",
       "      <td>1</td>\n",
       "    </tr>\n",
       "    <tr>\n",
       "      <th>1</th>\n",
       "      <td>A</td>\n",
       "      <td>0</td>\n",
       "    </tr>\n",
       "    <tr>\n",
       "      <th>2</th>\n",
       "      <td>D</td>\n",
       "      <td>1</td>\n",
       "    </tr>\n",
       "    <tr>\n",
       "      <th>3</th>\n",
       "      <td>A</td>\n",
       "      <td>0</td>\n",
       "    </tr>\n",
       "    <tr>\n",
       "      <th>4</th>\n",
       "      <td>B</td>\n",
       "      <td>1</td>\n",
       "    </tr>\n",
       "    <tr>\n",
       "      <th>5</th>\n",
       "      <td>C</td>\n",
       "      <td>0</td>\n",
       "    </tr>\n",
       "    <tr>\n",
       "      <th>6</th>\n",
       "      <td>B</td>\n",
       "      <td>0</td>\n",
       "    </tr>\n",
       "    <tr>\n",
       "      <th>7</th>\n",
       "      <td>C</td>\n",
       "      <td>1</td>\n",
       "    </tr>\n",
       "    <tr>\n",
       "      <th>8</th>\n",
       "      <td>C</td>\n",
       "      <td>0</td>\n",
       "    </tr>\n",
       "    <tr>\n",
       "      <th>9</th>\n",
       "      <td>C</td>\n",
       "      <td>1</td>\n",
       "    </tr>\n",
       "    <tr>\n",
       "      <th>10</th>\n",
       "      <td>D</td>\n",
       "      <td>0</td>\n",
       "    </tr>\n",
       "  </tbody>\n",
       "</table>\n",
       "</div>"
      ],
      "text/plain": [
       "   group  Values\n",
       "0      A       1\n",
       "1      A       0\n",
       "2      D       1\n",
       "3      A       0\n",
       "4      B       1\n",
       "5      C       0\n",
       "6      B       0\n",
       "7      C       1\n",
       "8      C       0\n",
       "9      C       1\n",
       "10     D       0"
      ]
     },
     "execution_count": 2,
     "metadata": {},
     "output_type": "execute_result"
    }
   ],
   "source": [
    "import pandas as pd\n",
    "df=pd.DataFrame({'group':list(\"AADABCBCCCD\"),'Values':[1,0,1,0,1,0,0,1,0,1,0]})\n",
    "df\n",
    "# am trying to plot a barplot showing percentage of times A, B, C, D takes zero (or one). "
   ]
  },
  {
   "cell_type": "code",
   "execution_count": 6,
   "metadata": {},
   "outputs": [
    {
     "data": {
      "text/plain": [
       "<matplotlib.axes._subplots.AxesSubplot at 0xaf5d0b8>"
      ]
     },
     "execution_count": 6,
     "metadata": {},
     "output_type": "execute_result"
    },
    {
     "data": {
      "image/png": "[encoded data removed]",
      "text/plain": [
       "<Figure size 432x288 with 1 Axes>"
      ]
     },
     "metadata": {},
     "output_type": "display_data"
    }
   ],
   "source": [
    "import seaborn as sns\n",
    "sns.barplot(x='group', y='Values', data=df, estimator=lambda x: sum(x==0)*100.0/len(x))\n",
    "#plt.show()"
   ]
  },
  {
   "cell_type": "code",
   "execution_count": null,
   "metadata": {},
   "outputs": [],
   "source": [
    "import pandas as pd\n",
    "import seaborn as sns\n",
    "\n",
    "df = sns.load_dataset(\"tips\")\n",
    "x, y, hue = \"day\", \"proportion\", \"sex\"\n",
    "hue_order = [\"Male\", \"Female\"]\n",
    "\n",
    "(df[x] .groupby(df[hue]) .value_counts(normalize=True) .rename(y) \n",
    " .reset_index() .pipe((sns.barplot, \"data\"), x=x, y=y, hue=hue))"
   ]
  },
  {
   "cell_type": "code",
   "execution_count": 7,
   "metadata": {
    "collapsed": true
   },
   "outputs": [
    {
     "ename": "ModuleNotFoundError",
     "evalue": "No module named 'dexplot'",
     "output_type": "error",
     "traceback": [
      "\u001b[1;31m---------------------------------------------------------------------------\u001b[0m",
      "\u001b[1;31mModuleNotFoundError\u001b[0m                       Traceback (most recent call last)",
      "\u001b[1;32m<ipython-input-7-71cb726d7d22>\u001b[0m in \u001b[0;36m<module>\u001b[1;34m()\u001b[0m\n\u001b[1;32m----> 1\u001b[1;33m \u001b[1;32mimport\u001b[0m \u001b[0mdexplot\u001b[0m \u001b[1;32mas\u001b[0m \u001b[0mdxp\u001b[0m\u001b[1;33m\u001b[0m\u001b[0m\n\u001b[0m\u001b[0;32m      2\u001b[0m \u001b[0mdxp\u001b[0m\u001b[1;33m.\u001b[0m\u001b[0maggplot\u001b[0m\u001b[1;33m(\u001b[0m\u001b[0magg\u001b[0m\u001b[1;33m=\u001b[0m\u001b[1;34m'group'\u001b[0m\u001b[1;33m,\u001b[0m \u001b[0mdata\u001b[0m\u001b[1;33m=\u001b[0m\u001b[0mdf\u001b[0m\u001b[1;33m,\u001b[0m \u001b[0mhue\u001b[0m\u001b[1;33m=\u001b[0m\u001b[1;34m'Values'\u001b[0m\u001b[1;33m)\u001b[0m\u001b[1;33m\u001b[0m\u001b[0m\n",
      "\u001b[1;31mModuleNotFoundError\u001b[0m: No module named 'dexplot'"
     ]
    }
   ],
   "source": [
    "import dexplot as dxp\n",
    "dxp.aggplot(agg='group', data=df, hue='Values')"
   ]
  },
  {
   "cell_type": "code",
   "execution_count": 8,
   "metadata": {
    "collapsed": true
   },
   "outputs": [
    {
     "ename": "NameError",
     "evalue": "name 'dxp' is not defined",
     "output_type": "error",
     "traceback": [
      "\u001b[1;31m---------------------------------------------------------------------------\u001b[0m",
      "\u001b[1;31mNameError\u001b[0m                                 Traceback (most recent call last)",
      "\u001b[1;32m<ipython-input-8-de634a6e6063>\u001b[0m in \u001b[0;36m<module>\u001b[1;34m()\u001b[0m\n\u001b[1;32m----> 1\u001b[1;33m \u001b[0mdxp\u001b[0m\u001b[1;33m.\u001b[0m\u001b[0maggplot\u001b[0m\u001b[1;33m(\u001b[0m\u001b[0magg\u001b[0m\u001b[1;33m=\u001b[0m\u001b[1;34m'group'\u001b[0m\u001b[1;33m,\u001b[0m \u001b[0mdata\u001b[0m\u001b[1;33m=\u001b[0m\u001b[0mdf\u001b[0m\u001b[1;33m,\u001b[0m \u001b[0mhue\u001b[0m\u001b[1;33m=\u001b[0m\u001b[1;34m'Values'\u001b[0m\u001b[1;33m,\u001b[0m \u001b[0mnormalize\u001b[0m\u001b[1;33m=\u001b[0m\u001b[1;34m'group'\u001b[0m\u001b[1;33m)\u001b[0m\u001b[1;33m\u001b[0m\u001b[0m\n\u001b[0m",
      "\u001b[1;31mNameError\u001b[0m: name 'dxp' is not defined"
     ]
    }
   ],
   "source": [
    "dxp.aggplot(agg='group', data=df, hue='Values', normalize='group')"
   ]
  },
  {
   "cell_type": "code",
   "execution_count": null,
   "metadata": {},
   "outputs": [],
   "source": []
  },
  {
   "cell_type": "code",
   "execution_count": null,
   "metadata": {},
   "outputs": [],
   "source": []
  }
 ],
 "metadata": {
  "kernelspec": {
   "display_name": "Python 3",
   "language": "python",
   "name": "python3"
  },
  "language_info": {
   "codemirror_mode": {
    "name": "ipython",
    "version": 3
   },
   "file_extension": ".py",
   "mimetype": "text/x-python",
   "name": "python",
   "nbconvert_exporter": "python",
   "pygments_lexer": "ipython3",
   "version": "3.6.5"
  }
 },
 "nbformat": 4,
 "nbformat_minor": 2
}
